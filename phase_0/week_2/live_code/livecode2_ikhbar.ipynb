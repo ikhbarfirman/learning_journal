{
 "cells": [
  {
   "cell_type": "markdown",
   "metadata": {},
   "source": [
    "# LIVE CODE 2"
   ]
  },
  {
   "cell_type": "markdown",
   "metadata": {},
   "source": [
    "### Identitas\n",
    "Nama : Ikhbar Firman Hanafi\n",
    "\n",
    "Batch: 14\n",
    "\n",
    "Phase: 0"
   ]
  },
  {
   "cell_type": "markdown",
   "metadata": {},
   "source": [
    "### Problem 1"
   ]
  },
  {
   "cell_type": "markdown",
   "metadata": {},
   "source": [
    "Salah satu ruang lingkup Natural Language Processing (NLP) adalah mengukur kesamaan konteks antar kalimat. Untuk mengetahui dua kalimat memiliki konteks yang sama atau tidak, kita mengukurnya dengan cosine similarity. Cosine similarity sejatinya mengukur 'jarak' antar dua vektor yang mana vektor-vektor tersebut berisikan angka-angka, sehingga kita perlu menerjemahkan kalimat menjadi list angka (encoding). Ada banyak metode encoding yang dapat digunakan untuk menerjemahkan kalimat ke angka, salah satunya adalah dengan menghitung frekuensi kemunculan kata pada setiap kalimat.\n",
    "\n",
    "Kalimat 1: Julie loves me more than Linda loves me\n",
    "\n",
    "Kalimat 2: Jane likes me more than Julie loves me"
   ]
  },
  {
   "cell_type": "markdown",
   "metadata": {},
   "source": [
    "Kata\tKalimat 1\tKalimat 2\n",
    "\n",
    "me\t    2\t2\n",
    "\n",
    "Jane\t0\t1\n",
    "\n",
    "Julie\t1\t1\n",
    "\n",
    "Linda\t1\t0\n",
    "\n",
    "likes\t0\t1\n",
    "\n",
    "loves\t2\t1\n",
    "\n",
    "more\t1\t1\n",
    "\n",
    "than\t1\t1"
   ]
  },
  {
   "cell_type": "markdown",
   "metadata": {},
   "source": [
    "Pertama-tama kita akan membentuk vektor dimana elemennya merupakan frekuensi dari tiap kata-kata tersebut pada kalimat 1 dan kalimat 2 sebagai berikut:"
   ]
  },
  {
   "cell_type": "markdown",
   "metadata": {},
   "source": [
    "Karena data tersebut akan ktia oleh menjadi vektor, maka pertama kita akan import library **numpy**."
   ]
  },
  {
   "cell_type": "code",
   "execution_count": 15,
   "metadata": {},
   "outputs": [],
   "source": [
    "import numpy as np"
   ]
  },
  {
   "cell_type": "markdown",
   "metadata": {},
   "source": [
    "Kita akan jadikan vektor dari frekuensi tiap kata pada kalimat 1 dan kalimat 2 dengan menggunakan *numpy.array*"
   ]
  },
  {
   "cell_type": "code",
   "execution_count": 16,
   "metadata": {},
   "outputs": [],
   "source": [
    "kal_1 = np.array([2,0,1,1,0,2,1,1])\n",
    "kal_2 = np.array([2,1,1,0,1,1,1,1])"
   ]
  },
  {
   "cell_type": "markdown",
   "metadata": {},
   "source": [
    "Berikutnya kita akan coba menghitung nilai dari $cos(\\theta)$ dari vektor kal_1 dan kal_2 dimana:\n",
    "\n",
    "$cos(\\theta)=\\frac{kal_1.kal_2} {|kal_1||kal_2|}$"
   ]
  },
  {
   "cell_type": "code",
   "execution_count": 17,
   "metadata": {},
   "outputs": [
    {
     "name": "stdout",
     "output_type": "stream",
     "text": [
      "Didapat nilai cos dari dua kalimat tersebut sebesar 0.82\n"
     ]
    }
   ],
   "source": [
    "cos_theta = (kal_1 @ kal_2)/(np.linalg.norm(kal_1)*np.linalg.norm(kal_2)) #Menghitung nilai cos\n",
    "print(f'Didapat nilai cos dari dua kalimat tersebut sebesar {round(cos_theta,2)}')"
   ]
  },
  {
   "cell_type": "markdown",
   "metadata": {},
   "source": [
    "Dari perhitungan di atas di dapat cosine similarity antar kedua vektor tersebut adalah sekitar 0.82."
   ]
  },
  {
   "cell_type": "markdown",
   "metadata": {},
   "source": [
    "#### a. Apakah kedua kalimat memiliki konteks yang serupa? jika iya, mengapa dan jika tidak, mengapa (jawab berdasarkan hasil perhitungan cosine similaritynya)?\n",
    "\n",
    "Kedua kalimat tersebut bisa dikatakan **serupa** (berdasarkan frekuensi kemunculan kata), karena nilai dari cosine similarity yaitu 0.82 cukup mendekati 1. Dimana pada konsep cosine similarity apabila nilai $0\\le cos{\\theta}\\le1$ pada $\\theta$ kuadran 1, dimana kedua kalimat dikatakan serupa apabila nilai cos mendekati 1, dan sebaliknya kedua kalimat semakin tidak serupa apabila nilai cos mendekati 0."
   ]
  },
  {
   "cell_type": "markdown",
   "metadata": {},
   "source": [
    "#### b.  Jika meninjau dua buah vektor dan dihitung cosine similaritynya (cos theta), jelaskan secara singkat, jelas, padat apa makna cosine similarity yang bernilai 0 dan 1 (tinjau dari posisi dua vektor di koordinat kartesian)?\n",
    "\n",
    "Pada ruang kartesian vektor di $\\mathbb{R}^{2}$ ataupun $\\mathbb{R}^{3}$, apabila kedua vektor memiliki nilai $cos(\\theta)=0$, maka sudut antara kedua vektor tersebut adalah $90^{\\circ}$ atau kedua vektor saling tegak lurus. Sedangkan apabila kedua vektor memiliki nilai $cos(\\theta)=1$, maka sudut antara kedua vektor tersebut adalah $0^{\\circ}$, atau dapat dikatakan kedua vektor tersebut sejajar atau searah."
   ]
  },
  {
   "cell_type": "markdown",
   "metadata": {},
   "source": [
    "#### c. Apa kekurangan dari perhitungan kemiripan menggunakan cosine similarity?\n",
    " Kekurangan dari konsep cosine similarity pada dua kalimat adalah hanya memperhitungkan frekuensi kemunculan kata pada kedua kalimat dimana tidak memperhitungkan urutan dari kata-kata pada tiap kalimat. Sebagai contoh pada dua kalimat berikut:\n",
    "\n",
    " kalimat 1: \"Ikhbar makan ayam\" \n",
    " kalimat 2: \"Ayam makan Ikhbar\" \n",
    "Apabila dibuat menjadi vektor dari masing-masing kalimat berdasarkan frekuensi nya:\n",
    "$v=(f_{ikhbar},f_{makan},f_{ayam})$ maka $kalimat_1=(1,1,1),kalimat_2=(1,1,1)$. Apabila terlihat kedua vektor tersebut sama, searah dan sejajar. dan apabila nilai $cos(\\theta)=1$. Walaupun kedua kalimat tersebut mempunyai kata-kata yang sama bahkan secara frekuensinya, namun jelas nampak bahwa kedua kalimat tersebut memiliki makna yang berbeda, karena urutan kata yang berbeda."
   ]
  },
  {
   "cell_type": "markdown",
   "metadata": {},
   "source": [
    "### Problem 2"
   ]
  },
  {
   "cell_type": "markdown",
   "metadata": {},
   "source": [
    "Kali ini kita akan coba mencari luas negara bagian Colorado. sebelum itu kita perlu mengetahui data koordinat $longitude$ dan $latitude$ pada Colorado. Data diakses menggunakan bigquery-public-data pada Google Cloud Big Query."
   ]
  },
  {
   "cell_type": "markdown",
   "metadata": {},
   "source": [
    "#### Proses pengambilan data\n",
    "SELECT * FROM `bigquery-public-data.geo_us_boundaries.states` \n",
    "\n",
    "WHERE state_name = 'Colorado';"
   ]
  },
  {
   "cell_type": "markdown",
   "metadata": {},
   "source": [
    "Data tersebut kita simpan dalam file csv, dan dapat kita proses lebih lanjut untuk mencari luasnya."
   ]
  },
  {
   "cell_type": "markdown",
   "metadata": {},
   "source": [
    "Import Library yang dibutuhkan"
   ]
  },
  {
   "cell_type": "code",
   "execution_count": 18,
   "metadata": {},
   "outputs": [],
   "source": [
    "import pandas as pd\n",
    "import re\n",
    "import matplotlib.pyplot as plt\n",
    "from scipy import integrate"
   ]
  },
  {
   "cell_type": "markdown",
   "metadata": {},
   "source": [
    "Load data Colorado yang telah ktia ambil dari csv menjadi DataFrame"
   ]
  },
  {
   "cell_type": "code",
   "execution_count": 19,
   "metadata": {},
   "outputs": [
    {
     "data": {
      "text/html": [
       "<div>\n",
       "<style scoped>\n",
       "    .dataframe tbody tr th:only-of-type {\n",
       "        vertical-align: middle;\n",
       "    }\n",
       "\n",
       "    .dataframe tbody tr th {\n",
       "        vertical-align: top;\n",
       "    }\n",
       "\n",
       "    .dataframe thead th {\n",
       "        text-align: right;\n",
       "    }\n",
       "</style>\n",
       "<table border=\"1\" class=\"dataframe\">\n",
       "  <thead>\n",
       "    <tr style=\"text-align: right;\">\n",
       "      <th></th>\n",
       "      <th>geo_id</th>\n",
       "      <th>region_code</th>\n",
       "      <th>division_code</th>\n",
       "      <th>state_fips_code</th>\n",
       "      <th>state_gnis_code</th>\n",
       "      <th>state</th>\n",
       "      <th>state_name</th>\n",
       "      <th>lsad_code</th>\n",
       "      <th>mtfcc_feature_class_code</th>\n",
       "      <th>functional_status</th>\n",
       "      <th>area_land_meters</th>\n",
       "      <th>area_water_meters</th>\n",
       "      <th>int_point_lat</th>\n",
       "      <th>int_point_lon</th>\n",
       "      <th>int_point_geom</th>\n",
       "      <th>state_geom</th>\n",
       "    </tr>\n",
       "  </thead>\n",
       "  <tbody>\n",
       "    <tr>\n",
       "      <th>0</th>\n",
       "      <td>8</td>\n",
       "      <td>4</td>\n",
       "      <td>8</td>\n",
       "      <td>8</td>\n",
       "      <td>1779779</td>\n",
       "      <td>CO</td>\n",
       "      <td>Colorado</td>\n",
       "      <td>0</td>\n",
       "      <td>G4000</td>\n",
       "      <td>A</td>\n",
       "      <td>268419875371</td>\n",
       "      <td>1184637800</td>\n",
       "      <td>38.993848</td>\n",
       "      <td>-105.508317</td>\n",
       "      <td>POINT(-105.5083165 38.9938482)</td>\n",
       "      <td>POLYGON((-109.050949 40.222647, -109.050952 40...</td>\n",
       "    </tr>\n",
       "  </tbody>\n",
       "</table>\n",
       "</div>"
      ],
      "text/plain": [
       "   geo_id  region_code  division_code  state_fips_code  state_gnis_code state  \\\n",
       "0       8            4              8                8          1779779    CO   \n",
       "\n",
       "  state_name  lsad_code mtfcc_feature_class_code functional_status  \\\n",
       "0   Colorado          0                    G4000                 A   \n",
       "\n",
       "   area_land_meters  area_water_meters  int_point_lat  int_point_lon  \\\n",
       "0      268419875371         1184637800      38.993848    -105.508317   \n",
       "\n",
       "                   int_point_geom  \\\n",
       "0  POINT(-105.5083165 38.9938482)   \n",
       "\n",
       "                                          state_geom  \n",
       "0  POLYGON((-109.050949 40.222647, -109.050952 40...  "
      ]
     },
     "execution_count": 19,
     "metadata": {},
     "output_type": "execute_result"
    }
   ],
   "source": [
    "data = pd.read_csv('h8dsft_P0LC2_ikhbar_firman.csv')\n",
    "data"
   ]
  },
  {
   "cell_type": "markdown",
   "metadata": {},
   "source": [
    "Dari data yang mentah tersebut, kita akan ambil nilai *longitude* dan *latitude* serta membuatnya menjadi DataFrame yang baru dengan menggunakan fungsi sebagai berikut:"
   ]
  },
  {
   "cell_type": "code",
   "execution_count": 20,
   "metadata": {},
   "outputs": [],
   "source": [
    "def data_preprocess(data):\n",
    "   long = []\n",
    "   lat = []\n",
    "   for row in data['state_geom'][0].split(', '):\n",
    "     row = re.sub('MULTIPOLYGON','',row)\n",
    "     row = re.sub('POLYGON','',row)\n",
    "     row = re.sub(r'\\(','',row)\n",
    "     row = re.sub(r'\\)','',row)\n",
    "     long.append(float(row.split(' ')[0]))\n",
    "     lat.append(float(row.split(' ')[1]))\n",
    "   return pd.DataFrame({'long':long,'lat':lat}).sort_values('long',ascending=True)"
   ]
  },
  {
   "cell_type": "code",
   "execution_count": 21,
   "metadata": {},
   "outputs": [
    {
     "data": {
      "text/html": [
       "<div>\n",
       "<style scoped>\n",
       "    .dataframe tbody tr th:only-of-type {\n",
       "        vertical-align: middle;\n",
       "    }\n",
       "\n",
       "    .dataframe tbody tr th {\n",
       "        vertical-align: top;\n",
       "    }\n",
       "\n",
       "    .dataframe thead th {\n",
       "        text-align: right;\n",
       "    }\n",
       "</style>\n",
       "<table border=\"1\" class=\"dataframe\">\n",
       "  <thead>\n",
       "    <tr style=\"text-align: right;\">\n",
       "      <th></th>\n",
       "      <th>long</th>\n",
       "      <th>lat</th>\n",
       "    </tr>\n",
       "  </thead>\n",
       "  <tbody>\n",
       "    <tr>\n",
       "      <th>759</th>\n",
       "      <td>-109.060204</td>\n",
       "      <td>38.278238</td>\n",
       "    </tr>\n",
       "    <tr>\n",
       "      <th>760</th>\n",
       "      <td>-109.060187</td>\n",
       "      <td>38.275528</td>\n",
       "    </tr>\n",
       "    <tr>\n",
       "      <th>751</th>\n",
       "      <td>-109.060185</td>\n",
       "      <td>38.318670</td>\n",
       "    </tr>\n",
       "    <tr>\n",
       "      <th>743</th>\n",
       "      <td>-109.060180</td>\n",
       "      <td>38.344908</td>\n",
       "    </tr>\n",
       "    <tr>\n",
       "      <th>659</th>\n",
       "      <td>-109.060176</td>\n",
       "      <td>38.462300</td>\n",
       "    </tr>\n",
       "  </tbody>\n",
       "</table>\n",
       "</div>"
      ],
      "text/plain": [
       "           long        lat\n",
       "759 -109.060204  38.278238\n",
       "760 -109.060187  38.275528\n",
       "751 -109.060185  38.318670\n",
       "743 -109.060180  38.344908\n",
       "659 -109.060176  38.462300"
      ]
     },
     "execution_count": 21,
     "metadata": {},
     "output_type": "execute_result"
    }
   ],
   "source": [
    "data_for_area = data_preprocess(data)\n",
    "data_for_area.head() #Menampilkan 5 baris pertama pada data"
   ]
  },
  {
   "cell_type": "markdown",
   "metadata": {},
   "source": [
    "Mengurutkan data berdasarkan 'longitude' untuk dapat diproses dalam perhitungan integral."
   ]
  },
  {
   "cell_type": "code",
   "execution_count": 22,
   "metadata": {},
   "outputs": [
    {
     "data": {
      "text/html": [
       "<div>\n",
       "<style scoped>\n",
       "    .dataframe tbody tr th:only-of-type {\n",
       "        vertical-align: middle;\n",
       "    }\n",
       "\n",
       "    .dataframe tbody tr th {\n",
       "        vertical-align: top;\n",
       "    }\n",
       "\n",
       "    .dataframe thead th {\n",
       "        text-align: right;\n",
       "    }\n",
       "</style>\n",
       "<table border=\"1\" class=\"dataframe\">\n",
       "  <thead>\n",
       "    <tr style=\"text-align: right;\">\n",
       "      <th></th>\n",
       "      <th>long</th>\n",
       "      <th>lat</th>\n",
       "    </tr>\n",
       "  </thead>\n",
       "  <tbody>\n",
       "    <tr>\n",
       "      <th>759</th>\n",
       "      <td>-109.060204</td>\n",
       "      <td>38.278238</td>\n",
       "    </tr>\n",
       "    <tr>\n",
       "      <th>760</th>\n",
       "      <td>-109.060187</td>\n",
       "      <td>38.275528</td>\n",
       "    </tr>\n",
       "    <tr>\n",
       "      <th>751</th>\n",
       "      <td>-109.060185</td>\n",
       "      <td>38.318670</td>\n",
       "    </tr>\n",
       "    <tr>\n",
       "      <th>743</th>\n",
       "      <td>-109.060180</td>\n",
       "      <td>38.344908</td>\n",
       "    </tr>\n",
       "    <tr>\n",
       "      <th>659</th>\n",
       "      <td>-109.060176</td>\n",
       "      <td>38.462300</td>\n",
       "    </tr>\n",
       "    <tr>\n",
       "      <th>747</th>\n",
       "      <td>-109.060174</td>\n",
       "      <td>38.331970</td>\n",
       "    </tr>\n",
       "    <tr>\n",
       "      <th>746</th>\n",
       "      <td>-109.060174</td>\n",
       "      <td>38.334745</td>\n",
       "    </tr>\n",
       "  </tbody>\n",
       "</table>\n",
       "</div>"
      ],
      "text/plain": [
       "           long        lat\n",
       "759 -109.060204  38.278238\n",
       "760 -109.060187  38.275528\n",
       "751 -109.060185  38.318670\n",
       "743 -109.060180  38.344908\n",
       "659 -109.060176  38.462300\n",
       "747 -109.060174  38.331970\n",
       "746 -109.060174  38.334745"
      ]
     },
     "execution_count": 22,
     "metadata": {},
     "output_type": "execute_result"
    }
   ],
   "source": [
    "data_area_sorted = data_for_area.sort_values('long')\n",
    "data_area_sorted.head(7) #Menampilkan 7 baris pertama dari data yang telah diurutkan"
   ]
  },
  {
   "cell_type": "markdown",
   "metadata": {},
   "source": [
    "Kita coba tampilkan 1000 titik pertama pada data"
   ]
  },
  {
   "cell_type": "code",
   "execution_count": 23,
   "metadata": {},
   "outputs": [
    {
     "data": {
      "text/plain": [
       "[<matplotlib.lines.Line2D at 0x1cff1ebd550>]"
      ]
     },
     "execution_count": 23,
     "metadata": {},
     "output_type": "execute_result"
    },
    {
     "data": {
      "image/png": "[encoded data removed]",
      "text/plain": [
       "<Figure size 432x288 with 1 Axes>"
      ]
     },
     "metadata": {
      "needs_background": "light"
     },
     "output_type": "display_data"
    }
   ],
   "source": [
    "plt.plot(data_area_sorted[:1000].long,data_area_sorted[:1000].lat)"
   ]
  },
  {
   "cell_type": "markdown",
   "metadata": {},
   "source": [
    "Untuk perhitungan area, kita akan bagi Wilayah Colorado menjadi dua bagian yaitu Northern dan Southern (dapat menggunakan acuan nilai tengah latitude dimana nilai maksimum ditambah nilai minimum lalu dibagi dua. Di atas nilai tengah northern dan di bawah nilai tengah southern) supaya mempermudah dalam menghitung Integral."
   ]
  },
  {
   "cell_type": "code",
   "execution_count": 24,
   "metadata": {},
   "outputs": [],
   "source": [
    "max_lat = data_area_sorted['lat'].max() #Menentukan nilai maksimum latitude Colorado\n",
    "min_lat = data_area_sorted['lat'].min() #Menentukan nilai minimum latitude Colorado\n",
    "mid_lat = (max_lat+min_lat)/2 #Menentukan nilai tengah latitude Colorado"
   ]
  },
  {
   "cell_type": "markdown",
   "metadata": {},
   "source": [
    "Berikutnya kita akan buat menjadi dua dataframe untuk koordinat Southern Colorado dan Northern Colorado berdasarkan nilai tengah latitudenya"
   ]
  },
  {
   "cell_type": "code",
   "execution_count": 25,
   "metadata": {},
   "outputs": [],
   "source": [
    "northern_area = data_area_sorted[data_area_sorted['lat'] >= mid_lat]\n",
    "southern_area = data_area_sorted[data_area_sorted['lat'] < mid_lat]"
   ]
  },
  {
   "cell_type": "markdown",
   "metadata": {},
   "source": [
    "Kita akan hitung luas area Colorado dengan cara mencari selisih northern area dan southern area, dimana area masing-masing dicari dengan menggunakan integral numerik aturan trapesium sebagai berikut:"
   ]
  },
  {
   "cell_type": "code",
   "execution_count": 27,
   "metadata": {},
   "outputs": [
    {
     "name": "stdout",
     "output_type": "stream",
     "text": [
      "Area negara bagian Colorada diperkirakan sebesar 28 derajat kuadrat.\n"
     ]
    }
   ],
   "source": [
    "area_N = integrate.trapz(northern_area['lat'],northern_area['long']) #Menghitung area dari latitude y=0 ke latitude pada northern area\n",
    "area_S = integrate.trapz(southern_area['lat'],southern_area['long']) #Menghitung area dari latitude y=0 ke latitude pada southern area\n",
    "total_area = area_N-area_S #total area Colorado\n",
    "print(f'Area negara bagian Colorada diperkirakan sebesar {round(total_area)} derajat kuadrat.')"
   ]
  },
  {
   "cell_type": "markdown",
   "metadata": {},
   "source": [
    "#### a. Integral jenis apa yang diterapkan pada kasus ini? (Tertentu/Tak tentu) dan mengapa demikian? berikan alasan!\n",
    "\n",
    "Jenis integral yang saya terapkan disini adalah integral **tentu/definite**. Hasil yang didapat dari integral tentu berbentuk $\\int_a^b \\! f(x) \\, \\mathrm{d}x$ adalah luas yang dibatasi oleh kurva $f(x)$ dan sumbu $x$ dari $x=a$ (batas bawah) hingga $x=b$ (batas atas). Sedangkan apabila kita terapkan integral indefinite kita akan mendapatkan hasil berupa fungsi katakanlah $F(x)$,meskipun selisih fungsi $F(x)$ saat $x=a$ dan $x=b$ adalah luas, atau $\\int_a^b \\! f(x) \\, \\mathrm{d}x=F(b)-F(a).$"
   ]
  },
  {
   "cell_type": "markdown",
   "metadata": {},
   "source": [
    "#### b. Untuk kasus ini, metode apa yang kamu pakai dalam perhitungan integral? secara simbolik atau numerik, dan mengapa?\n",
    "\n",
    "Metode perhitungan integral yang digunakan dalam kasus ini adalah **integral numerik**. Karena nilai fungsi kita (latitude) hanya terdapat di beberapa titik saja, kita tidak mengetahui ekspresi atau formula fungsi tersebut terhadap longitude. Namun kita bisa tetap memprediksi luas permukaan tersebut dengan integral numerik, salah satunya adalah metode trapesium, dimana perkiraan luas adalah total luas trapesium-trapesium yang dibentuk berdasarkan titik-titik yang kita dapatkan dari data."
   ]
  },
  {
   "cell_type": "markdown",
   "metadata": {},
   "source": [
    "#### c. Library Scipy menyediakan banyak function/modul untuk menghitung integral. Function apa yang kamu gunakan dan berikan alasan yang logis!"
   ]
  },
  {
   "cell_type": "markdown",
   "metadata": {},
   "source": [
    "Pada kasus ini function yang saya terapkan adalah **trapz**, dimana dengan menerapkan *integrate.trapz* pada data set kordinat $(x,y)$, kita dapat mencari total luas dari trapesium yang dibuat dari tiap dua titik data pada interval $x$, yaitu longitude. Dimana metode integral numerik aturan trapesium tersebut cukup dapat menghampiri/mengaproksimasi luas aktual, karena difference luas aktual dengan luas trapesium pada suatu interval lebih sedikit dibanding kita membuat suatu persegi panjang dari tiap dua titik tersebut sepanjang interval $x$.\n",
    "\n",
    "Terdapat alternatif lain selain menggunakan aturan trapesium, yaitu dengan **Simpson's rules** yang bisa diterapkan pada library Scipy dengan *integrate.simps*. Mekanisme aturan Simpson's adalah dengan mencari area parabola pada tiap tiga titik sepanjang interval $x$."
   ]
  }
 ],
 "metadata": {
  "kernelspec": {
   "display_name": "Python 3.8.13 ('base')",
   "language": "python",
   "name": "python3"
  },
  "language_info": {
   "codemirror_mode": {
    "name": "ipython",
    "version": 3
   },
   "file_extension": ".py",
   "mimetype": "text/x-python",
   "name": "python",
   "nbconvert_exporter": "python",
   "pygments_lexer": "ipython3",
   "version": "3.8.13"
  },
  "orig_nbformat": 4,
  "vscode": {
   "interpreter": {
    "hash": "632d2d5b8a97db3f76bb862f926947aa7578c9985e2122ffe2fc4083542bd2e7"
   }
  }
 },
 "nbformat": 4,
 "nbformat_minor": 2
}
