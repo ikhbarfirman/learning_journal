{
 "cells": [
  {
   "cell_type": "markdown",
   "metadata": {},
   "source": [
    "### Deskripsi data\n",
    "Data yang digunakan disini didapat dari database 'san_francisco_bikeshare' menggunakan bigquery-public-data pada Google Cloud Big Query dengan kriteria sebagai berikut:\n",
    "1. Hanya terdapat kolom trip_id, start_date, start_station_name, end_station_name, start_station_latitude, start_station_longitude, end_station_latitude, end_station_longitude pada tabel san_francisco_bikeshare.bikeshare_trips, dan region_id pada tabel bigquery-public-data.san_francisco_bikeshare.bikeshare_station_info.\n",
    "2.  Nilai start_station_name tidak boleh sama dengan end_station_name\n",
    "3. Kolom start_station_latitude, start_station_longitude, end_station_latitude, dan end_station_longitude tidak boleh ada nilai null\n",
    "4. Pilih start_date dengan rentang tanggal lahir di tahun 2017 sampai 5 bulan berikutnya, dimana tanggal lahir yang digunakan adalah 27 Desember."
   ]
  },
  {
   "cell_type": "markdown",
   "metadata": {},
   "source": [
    "Berikut ini adalah query yang digunakan untuk mengambil data di Google Cloud Platform:"
   ]
  },
  {
   "cell_type": "markdown",
   "metadata": {},
   "source": [
    "SELECT t.trip_id, \n",
    "  t.start_date, \n",
    "  t.start_station_name, \n",
    "  t.end_station_name, \n",
    "  t.start_station_latitude, \n",
    "  t.start_station_longitude, \n",
    "  t.end_station_latitude, \n",
    "  t.end_station_longitude,\n",
    "  si.region_id\n",
    "FROM `bigquery-public-data.san_francisco_bikeshare.bikeshare_trips` t\n",
    "JOIN `bigquery-public-data.san_francisco_bikeshare.bikeshare_station_info` si\n",
    "  ON t.start_station_name = si.name\n",
    "WHERE t.start_station_name != t.end_station_name AND \n",
    "  t.start_station_latitude IS NOT NULL AND\n",
    "  t.start_station_longitude IS NOT NULL AND\n",
    "  t.end_station_latitude IS NOT NULL AND \n",
    "  t.end_station_longitude IS NOT NULL AND \n",
    "  t.start_date BETWEEN '2017-12-27' AND '2018-05-27';"
   ]
  },
  {
   "cell_type": "markdown",
   "metadata": {},
   "source": [
    "Data tersebut telah disimpan dalam format csv dengan nama file 'h8dsft_P0GC2_Set_1_ikhbar firman.csv'."
   ]
  },
  {
   "cell_type": "markdown",
   "metadata": {},
   "source": [
    "#### Load data dan membuat DataFrame dari file data CSV."
   ]
  },
  {
   "cell_type": "code",
   "execution_count": 1,
   "metadata": {},
   "outputs": [],
   "source": [
    "import pandas as pd"
   ]
  },
  {
   "cell_type": "code",
   "execution_count": 2,
   "metadata": {},
   "outputs": [],
   "source": [
    "data = pd.read_csv('h8dsft_P0GC2_Set_1_ikhbar firman.csv')"
   ]
  },
  {
   "cell_type": "markdown",
   "metadata": {},
   "source": [
    "#### Apakah data telah sesuai dengan kriteria ?"
   ]
  },
  {
   "cell_type": "code",
   "execution_count": 3,
   "metadata": {},
   "outputs": [
    {
     "data": {
      "text/plain": [
       "0"
      ]
     },
     "execution_count": 3,
     "metadata": {},
     "output_type": "execute_result"
    }
   ],
   "source": [
    "# Cek apakah terdapat data yang sama pada 'start_station_name' dan 'end_station_name'.\n",
    "sum(data['start_station_name'] == data['end_station_name'])"
   ]
  },
  {
   "cell_type": "markdown",
   "metadata": {},
   "source": [
    "Terlihat bahwa tidak ada data yang sama pada pada 'start_station_name' dan 'end_station_name'."
   ]
  },
  {
   "cell_type": "markdown",
   "metadata": {},
   "source": [
    "Cek apakah terdapat null pada kolom start_station_latitude, start_station_longitude, end_station_latitude, dan end_station_longitude."
   ]
  },
  {
   "cell_type": "code",
   "execution_count": 4,
   "metadata": {},
   "outputs": [
    {
     "data": {
      "text/plain": [
       "trip_id                    False\n",
       "start_date                 False\n",
       "start_station_name         False\n",
       "end_station_name           False\n",
       "start_station_latitude     False\n",
       "start_station_longitude    False\n",
       "end_station_latitude       False\n",
       "end_station_longitude      False\n",
       "region_id                  False\n",
       "dtype: bool"
      ]
     },
     "execution_count": 4,
     "metadata": {},
     "output_type": "execute_result"
    }
   ],
   "source": [
    "data.isnull().any()"
   ]
  },
  {
   "cell_type": "markdown",
   "metadata": {},
   "source": [
    "Cek apakah data kolom start_date sesuai dengan rentang tanggal lahir di tahun 2017 sampai 5 bulan berikutnya."
   ]
  },
  {
   "cell_type": "code",
   "execution_count": 5,
   "metadata": {},
   "outputs": [
    {
     "data": {
      "text/plain": [
       "True"
      ]
     },
     "execution_count": 5,
     "metadata": {},
     "output_type": "execute_result"
    }
   ],
   "source": [
    "sum((data['start_date'] < '2018-05-27') & (data['start_date'] > '2017-12-27')) ==  len(data)"
   ]
  },
  {
   "cell_type": "markdown",
   "metadata": {},
   "source": [
    "Kita coba tampilkan 5 baris awal dan 5 baris akhir pada data."
   ]
  },
  {
   "cell_type": "code",
   "execution_count": 6,
   "metadata": {},
   "outputs": [
    {
     "data": {
      "text/html": [
       "<div>\n",
       "<style scoped>\n",
       "    .dataframe tbody tr th:only-of-type {\n",
       "        vertical-align: middle;\n",
       "    }\n",
       "\n",
       "    .dataframe tbody tr th {\n",
       "        vertical-align: top;\n",
       "    }\n",
       "\n",
       "    .dataframe thead th {\n",
       "        text-align: right;\n",
       "    }\n",
       "</style>\n",
       "<table border=\"1\" class=\"dataframe\">\n",
       "  <thead>\n",
       "    <tr style=\"text-align: right;\">\n",
       "      <th></th>\n",
       "      <th>trip_id</th>\n",
       "      <th>start_date</th>\n",
       "      <th>start_station_name</th>\n",
       "      <th>end_station_name</th>\n",
       "      <th>start_station_latitude</th>\n",
       "      <th>start_station_longitude</th>\n",
       "      <th>end_station_latitude</th>\n",
       "      <th>end_station_longitude</th>\n",
       "      <th>region_id</th>\n",
       "    </tr>\n",
       "  </thead>\n",
       "  <tbody>\n",
       "    <tr>\n",
       "      <th>0</th>\n",
       "      <td>4682018040417544600</td>\n",
       "      <td>2018-04-04 17:54:46 UTC</td>\n",
       "      <td>Mosswood Park</td>\n",
       "      <td>Snow Park</td>\n",
       "      <td>37.824931</td>\n",
       "      <td>-122.260479</td>\n",
       "      <td>37.807813</td>\n",
       "      <td>-122.264496</td>\n",
       "      <td>12</td>\n",
       "    </tr>\n",
       "    <tr>\n",
       "      <th>1</th>\n",
       "      <td>37012018020216111700</td>\n",
       "      <td>2018-02-02 16:11:17 UTC</td>\n",
       "      <td>Mosswood Park</td>\n",
       "      <td>Snow Park</td>\n",
       "      <td>37.824931</td>\n",
       "      <td>-122.260479</td>\n",
       "      <td>37.807813</td>\n",
       "      <td>-122.264496</td>\n",
       "      <td>12</td>\n",
       "    </tr>\n",
       "    <tr>\n",
       "      <th>2</th>\n",
       "      <td>7542018030115182200</td>\n",
       "      <td>2018-03-01 15:18:22 UTC</td>\n",
       "      <td>Mosswood Park</td>\n",
       "      <td>Snow Park</td>\n",
       "      <td>37.824931</td>\n",
       "      <td>-122.260479</td>\n",
       "      <td>37.807813</td>\n",
       "      <td>-122.264496</td>\n",
       "      <td>12</td>\n",
       "    </tr>\n",
       "    <tr>\n",
       "      <th>3</th>\n",
       "      <td>28402018011713490700</td>\n",
       "      <td>2018-01-17 13:49:07 UTC</td>\n",
       "      <td>Mosswood Park</td>\n",
       "      <td>Snow Park</td>\n",
       "      <td>37.824931</td>\n",
       "      <td>-122.260479</td>\n",
       "      <td>37.807813</td>\n",
       "      <td>-122.264496</td>\n",
       "      <td>12</td>\n",
       "    </tr>\n",
       "    <tr>\n",
       "      <th>4</th>\n",
       "      <td>14642017123120575800</td>\n",
       "      <td>2017-12-31 20:57:58 UTC</td>\n",
       "      <td>45th St at Manila</td>\n",
       "      <td>Snow Park</td>\n",
       "      <td>37.833294</td>\n",
       "      <td>-122.256224</td>\n",
       "      <td>37.807813</td>\n",
       "      <td>-122.264496</td>\n",
       "      <td>12</td>\n",
       "    </tr>\n",
       "  </tbody>\n",
       "</table>\n",
       "</div>"
      ],
      "text/plain": [
       "                trip_id               start_date start_station_name  \\\n",
       "0   4682018040417544600  2018-04-04 17:54:46 UTC      Mosswood Park   \n",
       "1  37012018020216111700  2018-02-02 16:11:17 UTC      Mosswood Park   \n",
       "2   7542018030115182200  2018-03-01 15:18:22 UTC      Mosswood Park   \n",
       "3  28402018011713490700  2018-01-17 13:49:07 UTC      Mosswood Park   \n",
       "4  14642017123120575800  2017-12-31 20:57:58 UTC  45th St at Manila   \n",
       "\n",
       "  end_station_name  start_station_latitude  start_station_longitude  \\\n",
       "0        Snow Park               37.824931              -122.260479   \n",
       "1        Snow Park               37.824931              -122.260479   \n",
       "2        Snow Park               37.824931              -122.260479   \n",
       "3        Snow Park               37.824931              -122.260479   \n",
       "4        Snow Park               37.833294              -122.256224   \n",
       "\n",
       "   end_station_latitude  end_station_longitude  region_id  \n",
       "0             37.807813            -122.264496         12  \n",
       "1             37.807813            -122.264496         12  \n",
       "2             37.807813            -122.264496         12  \n",
       "3             37.807813            -122.264496         12  \n",
       "4             37.807813            -122.264496         12  "
      ]
     },
     "execution_count": 6,
     "metadata": {},
     "output_type": "execute_result"
    }
   ],
   "source": [
    "# Menampilkan data 5 baris awal\n",
    "data.head()"
   ]
  },
  {
   "cell_type": "code",
   "execution_count": 7,
   "metadata": {},
   "outputs": [
    {
     "data": {
      "text/html": [
       "<div>\n",
       "<style scoped>\n",
       "    .dataframe tbody tr th:only-of-type {\n",
       "        vertical-align: middle;\n",
       "    }\n",
       "\n",
       "    .dataframe tbody tr th {\n",
       "        vertical-align: top;\n",
       "    }\n",
       "\n",
       "    .dataframe thead th {\n",
       "        text-align: right;\n",
       "    }\n",
       "</style>\n",
       "<table border=\"1\" class=\"dataframe\">\n",
       "  <thead>\n",
       "    <tr style=\"text-align: right;\">\n",
       "      <th></th>\n",
       "      <th>trip_id</th>\n",
       "      <th>start_date</th>\n",
       "      <th>start_station_name</th>\n",
       "      <th>end_station_name</th>\n",
       "      <th>start_station_latitude</th>\n",
       "      <th>start_station_longitude</th>\n",
       "      <th>end_station_latitude</th>\n",
       "      <th>end_station_longitude</th>\n",
       "      <th>region_id</th>\n",
       "    </tr>\n",
       "  </thead>\n",
       "  <tbody>\n",
       "    <tr>\n",
       "      <th>394002</th>\n",
       "      <td>5942018022017111000</td>\n",
       "      <td>2018-02-20 17:11:10 UTC</td>\n",
       "      <td>Yerba Buena Center for the Arts (Howard St at ...</td>\n",
       "      <td>Civic Center/UN Plaza BART Station (Market St ...</td>\n",
       "      <td>37.784872</td>\n",
       "      <td>-122.400876</td>\n",
       "      <td>37.781074</td>\n",
       "      <td>-122.411738</td>\n",
       "      <td>3</td>\n",
       "    </tr>\n",
       "    <tr>\n",
       "      <th>394003</th>\n",
       "      <td>8482018022114062900</td>\n",
       "      <td>2018-02-21 14:06:29 UTC</td>\n",
       "      <td>Yerba Buena Center for the Arts (Howard St at ...</td>\n",
       "      <td>Civic Center/UN Plaza BART Station (Market St ...</td>\n",
       "      <td>37.784872</td>\n",
       "      <td>-122.400876</td>\n",
       "      <td>37.781074</td>\n",
       "      <td>-122.411738</td>\n",
       "      <td>3</td>\n",
       "    </tr>\n",
       "    <tr>\n",
       "      <th>394004</th>\n",
       "      <td>33282018030208243700</td>\n",
       "      <td>2018-03-02 08:24:37 UTC</td>\n",
       "      <td>Yerba Buena Center for the Arts (Howard St at ...</td>\n",
       "      <td>Civic Center/UN Plaza BART Station (Market St ...</td>\n",
       "      <td>37.784872</td>\n",
       "      <td>-122.400876</td>\n",
       "      <td>37.781074</td>\n",
       "      <td>-122.411738</td>\n",
       "      <td>3</td>\n",
       "    </tr>\n",
       "    <tr>\n",
       "      <th>394005</th>\n",
       "      <td>24212018033013042600</td>\n",
       "      <td>2018-03-30 13:04:26 UTC</td>\n",
       "      <td>Yerba Buena Center for the Arts (Howard St at ...</td>\n",
       "      <td>Civic Center/UN Plaza BART Station (Market St ...</td>\n",
       "      <td>37.784872</td>\n",
       "      <td>-122.400876</td>\n",
       "      <td>37.781074</td>\n",
       "      <td>-122.411738</td>\n",
       "      <td>3</td>\n",
       "    </tr>\n",
       "    <tr>\n",
       "      <th>394006</th>\n",
       "      <td>28142018030913045200</td>\n",
       "      <td>2018-03-09 13:04:52 UTC</td>\n",
       "      <td>Yerba Buena Center for the Arts (Howard St at ...</td>\n",
       "      <td>Civic Center/UN Plaza BART Station (Market St ...</td>\n",
       "      <td>37.784872</td>\n",
       "      <td>-122.400876</td>\n",
       "      <td>37.781074</td>\n",
       "      <td>-122.411738</td>\n",
       "      <td>3</td>\n",
       "    </tr>\n",
       "  </tbody>\n",
       "</table>\n",
       "</div>"
      ],
      "text/plain": [
       "                     trip_id               start_date  \\\n",
       "394002   5942018022017111000  2018-02-20 17:11:10 UTC   \n",
       "394003   8482018022114062900  2018-02-21 14:06:29 UTC   \n",
       "394004  33282018030208243700  2018-03-02 08:24:37 UTC   \n",
       "394005  24212018033013042600  2018-03-30 13:04:26 UTC   \n",
       "394006  28142018030913045200  2018-03-09 13:04:52 UTC   \n",
       "\n",
       "                                       start_station_name  \\\n",
       "394002  Yerba Buena Center for the Arts (Howard St at ...   \n",
       "394003  Yerba Buena Center for the Arts (Howard St at ...   \n",
       "394004  Yerba Buena Center for the Arts (Howard St at ...   \n",
       "394005  Yerba Buena Center for the Arts (Howard St at ...   \n",
       "394006  Yerba Buena Center for the Arts (Howard St at ...   \n",
       "\n",
       "                                         end_station_name  \\\n",
       "394002  Civic Center/UN Plaza BART Station (Market St ...   \n",
       "394003  Civic Center/UN Plaza BART Station (Market St ...   \n",
       "394004  Civic Center/UN Plaza BART Station (Market St ...   \n",
       "394005  Civic Center/UN Plaza BART Station (Market St ...   \n",
       "394006  Civic Center/UN Plaza BART Station (Market St ...   \n",
       "\n",
       "        start_station_latitude  start_station_longitude  end_station_latitude  \\\n",
       "394002               37.784872              -122.400876             37.781074   \n",
       "394003               37.784872              -122.400876             37.781074   \n",
       "394004               37.784872              -122.400876             37.781074   \n",
       "394005               37.784872              -122.400876             37.781074   \n",
       "394006               37.784872              -122.400876             37.781074   \n",
       "\n",
       "        end_station_longitude  region_id  \n",
       "394002            -122.411738          3  \n",
       "394003            -122.411738          3  \n",
       "394004            -122.411738          3  \n",
       "394005            -122.411738          3  \n",
       "394006            -122.411738          3  "
      ]
     },
     "execution_count": 7,
     "metadata": {},
     "output_type": "execute_result"
    }
   ],
   "source": [
    "# Menampilkan data 5 baris terakhir\n",
    "data.tail()"
   ]
  },
  {
   "cell_type": "markdown",
   "metadata": {},
   "source": [
    "## Problem 1\n",
    "Saya adalah seorang data scientist di San Francisco Smart City yang sedang mengerjakan proyek untuk menganalisa dan mengoptimasi sistem pesepedaan. Tugas pertama yang harus dilakukan adalah mencari stasiun awal mana yang paling favorit di antara stasiun-stasiun lainnya dengan menghitung PageRank menggunakan Eigendecomposition.\n",
    "\n",
    "Adapun langkah-langkah dalam mencapai tujuan tersebut adalah ssebagai berikut:"
   ]
  },
  {
   "cell_type": "markdown",
   "metadata": {},
   "source": [
    "#### 1. Membuat dua variable baru yang bernama start_stations dan end_stations yang masing-masing berisikan list nama stasiun awal dan stasiun akhir, dimana tidak ada nama stasiun yang duplikat di masing-masing variable."
   ]
  },
  {
   "cell_type": "code",
   "execution_count": 8,
   "metadata": {},
   "outputs": [],
   "source": [
    "awal_stasiun = data['start_station_name'].unique()\n",
    "akhir_stasiun = data['end_station_name'].unique()"
   ]
  },
  {
   "cell_type": "markdown",
   "metadata": {},
   "source": [
    "#### 2. Deteksi stasiun-stasiun yang hanya terdapat di salah satu variable dan tidak di keduanya (exclusive-or/xor) menggunakan np.setxor1d(array1,array2). \n",
    "Outputnya akan berupa numpy array dan masukkan output tersebut ke dalam variable bernama exclusive_stations."
   ]
  },
  {
   "cell_type": "code",
   "execution_count": 9,
   "metadata": {},
   "outputs": [],
   "source": [
    "import numpy as np"
   ]
  },
  {
   "cell_type": "code",
   "execution_count": 10,
   "metadata": {},
   "outputs": [],
   "source": [
    "exclusive_stations = np.setxor1d(awal_stasiun,akhir_stasiun)"
   ]
  },
  {
   "cell_type": "markdown",
   "metadata": {},
   "source": [
    "#### 3. Buat dataframe yang berisikan cross-tabulation antara start_stations dan end_stations menggunakan pd.crosstab(pd.   Series1,pd.Series2). Hasil dari langkah ini akan menghasilkan dataframe yang menginfokan berapa jumlah/frekuensi perjalanan dari start station tertentu ke end station tertentu. Hasil dari langkah ini dimasukkan ke dalam variable bernama df_matrix."
   ]
  },
  {
   "cell_type": "code",
   "execution_count": 11,
   "metadata": {},
   "outputs": [],
   "source": [
    "df_matrix = pd.crosstab(data['start_station_name'],data['end_station_name'])"
   ]
  },
  {
   "cell_type": "markdown",
   "metadata": {},
   "source": [
    "#### 4. Membuat salinan dari data yang di-load ke dalam variable bernama df_copy."
   ]
  },
  {
   "cell_type": "code",
   "execution_count": 12,
   "metadata": {},
   "outputs": [],
   "source": [
    "df_copy  = data.copy()"
   ]
  },
  {
   "cell_type": "markdown",
   "metadata": {},
   "source": [
    "#### 5.Filter df_copy dimana tidak ada start_station_name dan end_station_name yang termasuk dalam list exclusive_stations."
   ]
  },
  {
   "cell_type": "code",
   "execution_count": 13,
   "metadata": {},
   "outputs": [],
   "source": [
    "# Membuat filter dimana tidak ada start_station_name dan end_station_name yang termasuk dalam list exclusive_stations.\n",
    "filter_1 = ~df_copy['start_station_name'].isin(exclusive_stations)\n",
    "filter_2 = ~df_copy['end_station_name'].isin(exclusive_stations)\n",
    "filter_add = filter_1 & filter_2"
   ]
  },
  {
   "cell_type": "markdown",
   "metadata": {},
   "source": [
    "Menerapkan filter terhadap DataFrame df_copy."
   ]
  },
  {
   "cell_type": "code",
   "execution_count": 14,
   "metadata": {},
   "outputs": [],
   "source": [
    "df_copy = df_copy[filter_add]"
   ]
  },
  {
   "cell_type": "markdown",
   "metadata": {},
   "source": [
    "#### 6. Membuat dataframe yang berisikan cross-tabulation antara start_stations dan end_stations pada df_copy."
   ]
  },
  {
   "cell_type": "code",
   "execution_count": 15,
   "metadata": {},
   "outputs": [],
   "source": [
    "df_matrix_square = pd.crosstab(df_copy['start_station_name'],df_copy['end_station_name'])"
   ]
  },
  {
   "cell_type": "markdown",
   "metadata": {},
   "source": [
    "Cek size 'df_matrix_square'..Apakah sebuah matriks persegi (jumlah baris dan kolom sama)?"
   ]
  },
  {
   "cell_type": "code",
   "execution_count": 16,
   "metadata": {},
   "outputs": [
    {
     "data": {
      "text/plain": [
       "(259, 259)"
      ]
     },
     "execution_count": 16,
     "metadata": {},
     "output_type": "execute_result"
    }
   ],
   "source": [
    "df_matrix_square.shape"
   ]
  },
  {
   "cell_type": "markdown",
   "metadata": {},
   "source": [
    "#### 7. Jumlahkan nilai kolom masing-masing rows pada df_matrix_square menggunakan method sum(axis=1) dan simpan ke dalam variable bernama total_trips."
   ]
  },
  {
   "cell_type": "code",
   "execution_count": 17,
   "metadata": {},
   "outputs": [],
   "source": [
    "total_trips = df_matrix_square.sum(axis=1)"
   ]
  },
  {
   "cell_type": "markdown",
   "metadata": {},
   "source": [
    "#### 8. Bagi setiap kolom df_matrix_square dengan menggunakan method .div(), dengan inputan parameter total_trips dan axis='rows'. Masukkan hasilnya ke variable weighted_matrix_df."
   ]
  },
  {
   "cell_type": "code",
   "execution_count": 18,
   "metadata": {},
   "outputs": [],
   "source": [
    "# Membagi tiap elemen pada baris 'df_matrix_square' dengan total tiap barisnya.\n",
    "weighted_matrix_df = df_matrix_square.div(total_trips, axis='rows')"
   ]
  },
  {
   "cell_type": "markdown",
   "metadata": {},
   "source": [
    "#### 9. Konversikan weighted_matrix_df ke numpy array"
   ]
  },
  {
   "cell_type": "code",
   "execution_count": 19,
   "metadata": {},
   "outputs": [],
   "source": [
    "# Mengubah DataFrame 'weighted_matrix_df' menjadi array/marix dengan nama 'weighted_matrix_arr'\n",
    "weighted_matrix_arr = weighted_matrix_df.to_numpy()"
   ]
  },
  {
   "cell_type": "markdown",
   "metadata": {},
   "source": [
    "#### 10. Hitung eigen value dan eigen vector menggunakan library numpy"
   ]
  },
  {
   "cell_type": "code",
   "execution_count": 20,
   "metadata": {},
   "outputs": [],
   "source": [
    "eig_value,eig_vec =np.linalg.eig(weighted_matrix_arr)"
   ]
  },
  {
   "cell_type": "markdown",
   "metadata": {},
   "source": [
    "#### 11. Score PageRank terdapat pada eigen vector yang eigen valuenya paling tinggi. Simpan eigen vector tersebut ke dalam variable bernama PR_Scores."
   ]
  },
  {
   "cell_type": "code",
   "execution_count": 21,
   "metadata": {},
   "outputs": [],
   "source": [
    "ind = eig_value.argmax() # Mengetahui indeks pada eigenvalue tertinggi\n",
    "PR_scores = eig_vec[:,ind] # Mengetahui eigenvector dengan eigenvalue tertinggi"
   ]
  },
  {
   "cell_type": "markdown",
   "metadata": {},
   "source": [
    "#### 12. Buat DataFrame baru bernama PageRank_df dengan kolom 'start_station' yang berisikan value variable start_stations dan kolom score yang berisikan value variable PR_Scores."
   ]
  },
  {
   "cell_type": "code",
   "execution_count": 22,
   "metadata": {},
   "outputs": [],
   "source": [
    "# Membuat DataFrame baru 'PageRank_df' dengan dictionary\n",
    "PageRank_df = pd.DataFrame({'start_station':data['start_station_name'].unique(),'PR_Scores':PR_scores})"
   ]
  },
  {
   "cell_type": "markdown",
   "metadata": {},
   "source": [
    "#### 13. Tampilkan head dari dataframe PageRank_df"
   ]
  },
  {
   "cell_type": "code",
   "execution_count": 23,
   "metadata": {},
   "outputs": [
    {
     "data": {
      "text/html": [
       "<div>\n",
       "<style scoped>\n",
       "    .dataframe tbody tr th:only-of-type {\n",
       "        vertical-align: middle;\n",
       "    }\n",
       "\n",
       "    .dataframe tbody tr th {\n",
       "        vertical-align: top;\n",
       "    }\n",
       "\n",
       "    .dataframe thead th {\n",
       "        text-align: right;\n",
       "    }\n",
       "</style>\n",
       "<table border=\"1\" class=\"dataframe\">\n",
       "  <thead>\n",
       "    <tr style=\"text-align: right;\">\n",
       "      <th></th>\n",
       "      <th>start_station</th>\n",
       "      <th>PR_Scores</th>\n",
       "    </tr>\n",
       "  </thead>\n",
       "  <tbody>\n",
       "    <tr>\n",
       "      <th>0</th>\n",
       "      <td>Mosswood Park</td>\n",
       "      <td>-0.067116+0.000000j</td>\n",
       "    </tr>\n",
       "    <tr>\n",
       "      <th>1</th>\n",
       "      <td>45th St at Manila</td>\n",
       "      <td>-0.067116+0.000000j</td>\n",
       "    </tr>\n",
       "    <tr>\n",
       "      <th>2</th>\n",
       "      <td>Jack London Square</td>\n",
       "      <td>-0.067116+0.000000j</td>\n",
       "    </tr>\n",
       "    <tr>\n",
       "      <th>3</th>\n",
       "      <td>Bay Pl at Vernon St</td>\n",
       "      <td>-0.067116+0.000000j</td>\n",
       "    </tr>\n",
       "    <tr>\n",
       "      <th>4</th>\n",
       "      <td>Broadway at 30th St</td>\n",
       "      <td>-0.067116+0.000000j</td>\n",
       "    </tr>\n",
       "  </tbody>\n",
       "</table>\n",
       "</div>"
      ],
      "text/plain": [
       "         start_station           PR_Scores\n",
       "0        Mosswood Park -0.067116+0.000000j\n",
       "1    45th St at Manila -0.067116+0.000000j\n",
       "2   Jack London Square -0.067116+0.000000j\n",
       "3  Bay Pl at Vernon St -0.067116+0.000000j\n",
       "4  Broadway at 30th St -0.067116+0.000000j"
      ]
     },
     "execution_count": 23,
     "metadata": {},
     "output_type": "execute_result"
    }
   ],
   "source": [
    "PageRank_df.head()"
   ]
  },
  {
   "cell_type": "code",
   "execution_count": null,
   "metadata": {},
   "outputs": [],
   "source": []
  }
 ],
 "metadata": {
  "kernelspec": {
   "display_name": "Python 3.8.13 ('base')",
   "language": "python",
   "name": "python3"
  },
  "language_info": {
   "codemirror_mode": {
    "name": "ipython",
    "version": 3
   },
   "file_extension": ".py",
   "mimetype": "text/x-python",
   "name": "python",
   "nbconvert_exporter": "python",
   "pygments_lexer": "ipython3",
   "version": "3.8.13"
  },
  "orig_nbformat": 4,
  "vscode": {
   "interpreter": {
    "hash": "632d2d5b8a97db3f76bb862f926947aa7578c9985e2122ffe2fc4083542bd2e7"
   }
  }
 },
 "nbformat": 4,
 "nbformat_minor": 2
}
