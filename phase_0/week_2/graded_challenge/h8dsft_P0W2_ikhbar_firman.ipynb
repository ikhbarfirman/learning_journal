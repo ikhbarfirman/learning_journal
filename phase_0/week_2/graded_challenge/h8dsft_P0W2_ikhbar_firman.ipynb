{
 "cells": [
  {
   "cell_type": "markdown",
   "metadata": {},
   "source": [
    "# Mencari Station Favorit Berdasarkan PageRank dan Perhitungan Luas Area Lingkup Station dengan Integal di San Fransisco\n",
    "\n",
    "Nama: Ikhbar Firman Hanafi\n",
    "\n",
    "Batch: 14\n",
    "\n",
    "Phase: 0"
   ]
  },
  {
   "cell_type": "markdown",
   "metadata": {},
   "source": [
    "### Objective\n",
    "1. Mencari station favorit di San Fransisco berdasarkan trips sepeda tiap station\n",
    "2. Mencari luas area lingkup station di San Fransisco."
   ]
  },
  {
   "cell_type": "markdown",
   "metadata": {},
   "source": [
    "### Problem Statement\n",
    "\n",
    "Untuk mempermudah pengunjung stasiun ke lokasi tujuan di San Fransisco diberlakukanlah 'bikeshare' pada sejumlah stasiun. Tiap stasiun mungkin memiliki jumlah dan kualitas sepeda yang berbeda. Jarak dari tiap station maupun ke lokasi tujuan orang berbeda-beda. Beberapa hal tersebut dapat mempengaruhi optimalisasi bikeshare stasiun di San Fransisco.\n",
    "\n",
    "Sebagai seorang data scientist di San Francisco Smart City, saya ditugaskan dalam  proyek untuk menganalisa dan mengoptimasi sistem pesepedaan. Secara spesifik tugas yang saya lakukan disini adalah mencari stasiun awal mana yang paling favorit di antara stasiun-stasiun lainnya dan menari luas area lingkup stasiun di San Fransisco.\n",
    "\n",
    "#### Batasan Masalah:\n",
    "1. Penelitian ini hanya berdasarkan data trip pengunjung stasiun yang didapat dari database San Fransisco bikeshare selama 5 bulan dari akhir tahun 2017.\n",
    "2. Analisa disini tidak memperhitungkan faktor-faktor lain pada tiap stasiun seperti jumlah sepeda, kualitas sepeda, karakteristik pengunjung, dan sebagainya."
   ]
  },
  {
   "cell_type": "markdown",
   "metadata": {},
   "source": [
    "### Deskripsi data\n",
    "Data yang digunakan disini didapat dari database 'san_francisco_bikeshare' menggunakan bigquery-public-data pada Google Cloud Big Query dengan kriteria sebagai berikut:\n",
    "1. Hanya terdapat kolom trip_id, start_date, start_station_name, end_station_name, start_station_latitude, start_station_longitude, end_station_latitude, end_station_longitude pada tabel san_francisco_bikeshare.bikeshare_trips, dan region_id pada tabel bigquery-public-data.san_francisco_bikeshare.bikeshare_station_info.\n",
    "2.  Nilai start_station_name tidak boleh sama dengan end_station_name\n",
    "3. Kolom start_station_latitude, start_station_longitude, end_station_latitude, dan end_station_longitude tidak boleh ada nilai null\n",
    "4. Pilih start_date dengan rentang tanggal lahir di tahun 2017 sampai 5 bulan berikutnya, dimana tanggal lahir yang digunakan adalah 27 Desember."
   ]
  },
  {
   "cell_type": "markdown",
   "metadata": {},
   "source": [
    "Berikut ini adalah query yang digunakan untuk mengambil data di Google Cloud Platform:"
   ]
  },
  {
   "cell_type": "markdown",
   "metadata": {},
   "source": [
    "SELECT t.trip_id, \n",
    "  t.start_date, \n",
    "  t.start_station_name, \n",
    "  t.end_station_name, \n",
    "  t.start_station_latitude, \n",
    "  t.start_station_longitude, \n",
    "  t.end_station_latitude, \n",
    "  t.end_station_longitude,\n",
    "  si.region_id\n",
    "FROM `bigquery-public-data.san_francisco_bikeshare.bikeshare_trips` t\n",
    "JOIN `bigquery-public-data.san_francisco_bikeshare.bikeshare_station_info` si\n",
    "  ON t.start_station_name = si.name\n",
    "WHERE t.start_station_name != t.end_station_name AND \n",
    "  t.start_station_latitude IS NOT NULL AND\n",
    "  t.start_station_longitude IS NOT NULL AND\n",
    "  t.end_station_latitude IS NOT NULL AND \n",
    "  t.end_station_longitude IS NOT NULL AND \n",
    "  t.start_date BETWEEN '2017-12-27' AND '2018-05-27';"
   ]
  },
  {
   "cell_type": "markdown",
   "metadata": {},
   "source": [
    "Data tersebut telah disimpan dalam format csv dengan nama file 'h8dsft_P0GC2_Set_1_ikhbar firman.csv'."
   ]
  },
  {
   "cell_type": "markdown",
   "metadata": {},
   "source": [
    "#### Load data dan membuat DataFrame dari file data CSV."
   ]
  },
  {
   "cell_type": "markdown",
   "metadata": {},
   "source": [
    "Pertama kita akan ubah data yang kita punya menjadi DataFrame dengan 'pandas'"
   ]
  },
  {
   "cell_type": "code",
   "execution_count": 40,
   "metadata": {},
   "outputs": [],
   "source": [
    "import pandas as pd"
   ]
  },
  {
   "cell_type": "code",
   "execution_count": 41,
   "metadata": {},
   "outputs": [],
   "source": [
    "data = pd.read_csv('h8dsft_P0GC2_Set_1_ikhbar_firman.csv')"
   ]
  },
  {
   "cell_type": "markdown",
   "metadata": {},
   "source": [
    "#### Apakah data telah sesuai dengan kriteria ?"
   ]
  },
  {
   "cell_type": "code",
   "execution_count": 42,
   "metadata": {},
   "outputs": [
    {
     "data": {
      "text/plain": [
       "0"
      ]
     },
     "execution_count": 42,
     "metadata": {},
     "output_type": "execute_result"
    }
   ],
   "source": [
    "# Cek apakah terdapat data yang sama pada 'start_station_name' dan 'end_station_name'.\n",
    "sum(data['start_station_name'] == data['end_station_name'])"
   ]
  },
  {
   "cell_type": "markdown",
   "metadata": {},
   "source": [
    "Terlihat bahwa tidak ada data yang sama pada pada 'start_station_name' dan 'end_station_name'."
   ]
  },
  {
   "cell_type": "markdown",
   "metadata": {},
   "source": [
    "Cek apakah terdapat null pada kolom start_station_latitude, start_station_longitude, end_station_latitude, dan end_station_longitude."
   ]
  },
  {
   "cell_type": "code",
   "execution_count": 43,
   "metadata": {},
   "outputs": [
    {
     "data": {
      "text/plain": [
       "trip_id                    False\n",
       "start_date                 False\n",
       "start_station_name         False\n",
       "end_station_name           False\n",
       "start_station_latitude     False\n",
       "start_station_longitude    False\n",
       "end_station_latitude       False\n",
       "end_station_longitude      False\n",
       "region_id                  False\n",
       "dtype: bool"
      ]
     },
     "execution_count": 43,
     "metadata": {},
     "output_type": "execute_result"
    }
   ],
   "source": [
    "data.isnull().any()"
   ]
  },
  {
   "cell_type": "markdown",
   "metadata": {},
   "source": [
    "Cek apakah data kolom start_date sesuai dengan rentang tanggal lahir di tahun 2017 sampai 5 bulan berikutnya."
   ]
  },
  {
   "cell_type": "code",
   "execution_count": 44,
   "metadata": {},
   "outputs": [
    {
     "data": {
      "text/plain": [
       "True"
      ]
     },
     "execution_count": 44,
     "metadata": {},
     "output_type": "execute_result"
    }
   ],
   "source": [
    "sum((data['start_date'] < '2018-05-27') & (data['start_date'] > '2017-12-27')) ==  len(data)"
   ]
  },
  {
   "cell_type": "markdown",
   "metadata": {},
   "source": [
    "Kita coba tampilkan 5 baris awal dan 5 baris akhir pada data."
   ]
  },
  {
   "cell_type": "code",
   "execution_count": 45,
   "metadata": {},
   "outputs": [
    {
     "data": {
      "text/html": [
       "<div>\n",
       "<style scoped>\n",
       "    .dataframe tbody tr th:only-of-type {\n",
       "        vertical-align: middle;\n",
       "    }\n",
       "\n",
       "    .dataframe tbody tr th {\n",
       "        vertical-align: top;\n",
       "    }\n",
       "\n",
       "    .dataframe thead th {\n",
       "        text-align: right;\n",
       "    }\n",
       "</style>\n",
       "<table border=\"1\" class=\"dataframe\">\n",
       "  <thead>\n",
       "    <tr style=\"text-align: right;\">\n",
       "      <th></th>\n",
       "      <th>trip_id</th>\n",
       "      <th>start_date</th>\n",
       "      <th>start_station_name</th>\n",
       "      <th>end_station_name</th>\n",
       "      <th>start_station_latitude</th>\n",
       "      <th>start_station_longitude</th>\n",
       "      <th>end_station_latitude</th>\n",
       "      <th>end_station_longitude</th>\n",
       "      <th>region_id</th>\n",
       "    </tr>\n",
       "  </thead>\n",
       "  <tbody>\n",
       "    <tr>\n",
       "      <th>0</th>\n",
       "      <td>4682018040417544600</td>\n",
       "      <td>2018-04-04 17:54:46 UTC</td>\n",
       "      <td>Mosswood Park</td>\n",
       "      <td>Snow Park</td>\n",
       "      <td>37.824931</td>\n",
       "      <td>-122.260479</td>\n",
       "      <td>37.807813</td>\n",
       "      <td>-122.264496</td>\n",
       "      <td>12</td>\n",
       "    </tr>\n",
       "    <tr>\n",
       "      <th>1</th>\n",
       "      <td>37012018020216111700</td>\n",
       "      <td>2018-02-02 16:11:17 UTC</td>\n",
       "      <td>Mosswood Park</td>\n",
       "      <td>Snow Park</td>\n",
       "      <td>37.824931</td>\n",
       "      <td>-122.260479</td>\n",
       "      <td>37.807813</td>\n",
       "      <td>-122.264496</td>\n",
       "      <td>12</td>\n",
       "    </tr>\n",
       "    <tr>\n",
       "      <th>2</th>\n",
       "      <td>7542018030115182200</td>\n",
       "      <td>2018-03-01 15:18:22 UTC</td>\n",
       "      <td>Mosswood Park</td>\n",
       "      <td>Snow Park</td>\n",
       "      <td>37.824931</td>\n",
       "      <td>-122.260479</td>\n",
       "      <td>37.807813</td>\n",
       "      <td>-122.264496</td>\n",
       "      <td>12</td>\n",
       "    </tr>\n",
       "    <tr>\n",
       "      <th>3</th>\n",
       "      <td>28402018011713490700</td>\n",
       "      <td>2018-01-17 13:49:07 UTC</td>\n",
       "      <td>Mosswood Park</td>\n",
       "      <td>Snow Park</td>\n",
       "      <td>37.824931</td>\n",
       "      <td>-122.260479</td>\n",
       "      <td>37.807813</td>\n",
       "      <td>-122.264496</td>\n",
       "      <td>12</td>\n",
       "    </tr>\n",
       "    <tr>\n",
       "      <th>4</th>\n",
       "      <td>14642017123120575800</td>\n",
       "      <td>2017-12-31 20:57:58 UTC</td>\n",
       "      <td>45th St at Manila</td>\n",
       "      <td>Snow Park</td>\n",
       "      <td>37.833294</td>\n",
       "      <td>-122.256224</td>\n",
       "      <td>37.807813</td>\n",
       "      <td>-122.264496</td>\n",
       "      <td>12</td>\n",
       "    </tr>\n",
       "  </tbody>\n",
       "</table>\n",
       "</div>"
      ],
      "text/plain": [
       "                trip_id               start_date start_station_name  \\\n",
       "0   4682018040417544600  2018-04-04 17:54:46 UTC      Mosswood Park   \n",
       "1  37012018020216111700  2018-02-02 16:11:17 UTC      Mosswood Park   \n",
       "2   7542018030115182200  2018-03-01 15:18:22 UTC      Mosswood Park   \n",
       "3  28402018011713490700  2018-01-17 13:49:07 UTC      Mosswood Park   \n",
       "4  14642017123120575800  2017-12-31 20:57:58 UTC  45th St at Manila   \n",
       "\n",
       "  end_station_name  start_station_latitude  start_station_longitude  \\\n",
       "0        Snow Park               37.824931              -122.260479   \n",
       "1        Snow Park               37.824931              -122.260479   \n",
       "2        Snow Park               37.824931              -122.260479   \n",
       "3        Snow Park               37.824931              -122.260479   \n",
       "4        Snow Park               37.833294              -122.256224   \n",
       "\n",
       "   end_station_latitude  end_station_longitude  region_id  \n",
       "0             37.807813            -122.264496         12  \n",
       "1             37.807813            -122.264496         12  \n",
       "2             37.807813            -122.264496         12  \n",
       "3             37.807813            -122.264496         12  \n",
       "4             37.807813            -122.264496         12  "
      ]
     },
     "execution_count": 45,
     "metadata": {},
     "output_type": "execute_result"
    }
   ],
   "source": [
    "# Menampilkan data 5 baris awal\n",
    "data.head()"
   ]
  },
  {
   "cell_type": "code",
   "execution_count": 46,
   "metadata": {},
   "outputs": [
    {
     "data": {
      "text/html": [
       "<div>\n",
       "<style scoped>\n",
       "    .dataframe tbody tr th:only-of-type {\n",
       "        vertical-align: middle;\n",
       "    }\n",
       "\n",
       "    .dataframe tbody tr th {\n",
       "        vertical-align: top;\n",
       "    }\n",
       "\n",
       "    .dataframe thead th {\n",
       "        text-align: right;\n",
       "    }\n",
       "</style>\n",
       "<table border=\"1\" class=\"dataframe\">\n",
       "  <thead>\n",
       "    <tr style=\"text-align: right;\">\n",
       "      <th></th>\n",
       "      <th>trip_id</th>\n",
       "      <th>start_date</th>\n",
       "      <th>start_station_name</th>\n",
       "      <th>end_station_name</th>\n",
       "      <th>start_station_latitude</th>\n",
       "      <th>start_station_longitude</th>\n",
       "      <th>end_station_latitude</th>\n",
       "      <th>end_station_longitude</th>\n",
       "      <th>region_id</th>\n",
       "    </tr>\n",
       "  </thead>\n",
       "  <tbody>\n",
       "    <tr>\n",
       "      <th>394002</th>\n",
       "      <td>5942018022017111000</td>\n",
       "      <td>2018-02-20 17:11:10 UTC</td>\n",
       "      <td>Yerba Buena Center for the Arts (Howard St at ...</td>\n",
       "      <td>Civic Center/UN Plaza BART Station (Market St ...</td>\n",
       "      <td>37.784872</td>\n",
       "      <td>-122.400876</td>\n",
       "      <td>37.781074</td>\n",
       "      <td>-122.411738</td>\n",
       "      <td>3</td>\n",
       "    </tr>\n",
       "    <tr>\n",
       "      <th>394003</th>\n",
       "      <td>8482018022114062900</td>\n",
       "      <td>2018-02-21 14:06:29 UTC</td>\n",
       "      <td>Yerba Buena Center for the Arts (Howard St at ...</td>\n",
       "      <td>Civic Center/UN Plaza BART Station (Market St ...</td>\n",
       "      <td>37.784872</td>\n",
       "      <td>-122.400876</td>\n",
       "      <td>37.781074</td>\n",
       "      <td>-122.411738</td>\n",
       "      <td>3</td>\n",
       "    </tr>\n",
       "    <tr>\n",
       "      <th>394004</th>\n",
       "      <td>33282018030208243700</td>\n",
       "      <td>2018-03-02 08:24:37 UTC</td>\n",
       "      <td>Yerba Buena Center for the Arts (Howard St at ...</td>\n",
       "      <td>Civic Center/UN Plaza BART Station (Market St ...</td>\n",
       "      <td>37.784872</td>\n",
       "      <td>-122.400876</td>\n",
       "      <td>37.781074</td>\n",
       "      <td>-122.411738</td>\n",
       "      <td>3</td>\n",
       "    </tr>\n",
       "    <tr>\n",
       "      <th>394005</th>\n",
       "      <td>24212018033013042600</td>\n",
       "      <td>2018-03-30 13:04:26 UTC</td>\n",
       "      <td>Yerba Buena Center for the Arts (Howard St at ...</td>\n",
       "      <td>Civic Center/UN Plaza BART Station (Market St ...</td>\n",
       "      <td>37.784872</td>\n",
       "      <td>-122.400876</td>\n",
       "      <td>37.781074</td>\n",
       "      <td>-122.411738</td>\n",
       "      <td>3</td>\n",
       "    </tr>\n",
       "    <tr>\n",
       "      <th>394006</th>\n",
       "      <td>28142018030913045200</td>\n",
       "      <td>2018-03-09 13:04:52 UTC</td>\n",
       "      <td>Yerba Buena Center for the Arts (Howard St at ...</td>\n",
       "      <td>Civic Center/UN Plaza BART Station (Market St ...</td>\n",
       "      <td>37.784872</td>\n",
       "      <td>-122.400876</td>\n",
       "      <td>37.781074</td>\n",
       "      <td>-122.411738</td>\n",
       "      <td>3</td>\n",
       "    </tr>\n",
       "  </tbody>\n",
       "</table>\n",
       "</div>"
      ],
      "text/plain": [
       "                     trip_id               start_date  \\\n",
       "394002   5942018022017111000  2018-02-20 17:11:10 UTC   \n",
       "394003   8482018022114062900  2018-02-21 14:06:29 UTC   \n",
       "394004  33282018030208243700  2018-03-02 08:24:37 UTC   \n",
       "394005  24212018033013042600  2018-03-30 13:04:26 UTC   \n",
       "394006  28142018030913045200  2018-03-09 13:04:52 UTC   \n",
       "\n",
       "                                       start_station_name  \\\n",
       "394002  Yerba Buena Center for the Arts (Howard St at ...   \n",
       "394003  Yerba Buena Center for the Arts (Howard St at ...   \n",
       "394004  Yerba Buena Center for the Arts (Howard St at ...   \n",
       "394005  Yerba Buena Center for the Arts (Howard St at ...   \n",
       "394006  Yerba Buena Center for the Arts (Howard St at ...   \n",
       "\n",
       "                                         end_station_name  \\\n",
       "394002  Civic Center/UN Plaza BART Station (Market St ...   \n",
       "394003  Civic Center/UN Plaza BART Station (Market St ...   \n",
       "394004  Civic Center/UN Plaza BART Station (Market St ...   \n",
       "394005  Civic Center/UN Plaza BART Station (Market St ...   \n",
       "394006  Civic Center/UN Plaza BART Station (Market St ...   \n",
       "\n",
       "        start_station_latitude  start_station_longitude  end_station_latitude  \\\n",
       "394002               37.784872              -122.400876             37.781074   \n",
       "394003               37.784872              -122.400876             37.781074   \n",
       "394004               37.784872              -122.400876             37.781074   \n",
       "394005               37.784872              -122.400876             37.781074   \n",
       "394006               37.784872              -122.400876             37.781074   \n",
       "\n",
       "        end_station_longitude  region_id  \n",
       "394002            -122.411738          3  \n",
       "394003            -122.411738          3  \n",
       "394004            -122.411738          3  \n",
       "394005            -122.411738          3  \n",
       "394006            -122.411738          3  "
      ]
     },
     "execution_count": 46,
     "metadata": {},
     "output_type": "execute_result"
    }
   ],
   "source": [
    "# Menampilkan data 5 baris terakhir\n",
    "data.tail()"
   ]
  },
  {
   "cell_type": "markdown",
   "metadata": {},
   "source": [
    "## Mencari Station Favourite di San Fransisco\n",
    "Tugas pertama yang akan dilakukan adalah mencari stasiun awal mana yang paling favorit di antara stasiun-stasiun lainnya dengan menghitung PageRank menggunakan Eigendecomposition.\n",
    "\n",
    "Adapun langkah-langkah dalam mencapai tujuan tersebut adalah sebagai berikut:"
   ]
  },
  {
   "cell_type": "markdown",
   "metadata": {},
   "source": [
    "#### 1. Membuat dua variable baru yang bernama start_stations dan end_stations yang masing-masing berisikan list nama stasiun awal dan stasiun akhir, dimana tidak ada nama stasiun yang duplikat di masing-masing variable."
   ]
  },
  {
   "cell_type": "code",
   "execution_count": 47,
   "metadata": {},
   "outputs": [],
   "source": [
    "awal_stasiun = data['start_station_name'].unique()\n",
    "akhir_stasiun = data['end_station_name'].unique()"
   ]
  },
  {
   "cell_type": "markdown",
   "metadata": {},
   "source": [
    "#### 2. Deteksi stasiun-stasiun yang hanya terdapat di salah satu variable dan tidak di keduanya (exclusive-or/xor) menggunakan np.setxor1d(array1,array2). \n",
    "Outputnya akan berupa numpy array dan masukkan output tersebut ke dalam variable bernama exclusive_stations."
   ]
  },
  {
   "cell_type": "markdown",
   "metadata": {},
   "source": [
    "Dalam analisa selanjutnya kita akan banyak berurusan dengan array, maka pertama kita import library 'Numpy'."
   ]
  },
  {
   "cell_type": "code",
   "execution_count": 48,
   "metadata": {},
   "outputs": [],
   "source": [
    "import numpy as np"
   ]
  },
  {
   "cell_type": "markdown",
   "metadata": {},
   "source": [
    "Membuat suatu array dimana hanya terdapat nama station di 'awal_stasin' dan 'akhir_stasiun' tapi tidak keduanya dengan numpy.setxor."
   ]
  },
  {
   "cell_type": "code",
   "execution_count": 49,
   "metadata": {},
   "outputs": [],
   "source": [
    "exclusive_stations = np.setxor1d(awal_stasiun,akhir_stasiun)"
   ]
  },
  {
   "cell_type": "markdown",
   "metadata": {},
   "source": [
    "#### 3. Buat dataframe yang berisikan cross-tabulation antara start_stations dan end_stations menggunakan pd.crosstab(pd.   Series1,pd.Series2). Hasil dari langkah ini akan menghasilkan dataframe yang menginfokan berapa jumlah/frekuensi perjalanan dari start station tertentu ke end station tertentu. Hasil dari langkah ini dimasukkan ke dalam variable bernama df_matrix."
   ]
  },
  {
   "cell_type": "code",
   "execution_count": 50,
   "metadata": {},
   "outputs": [],
   "source": [
    "df_matrix = pd.crosstab(data['start_station_name'],data['end_station_name'])"
   ]
  },
  {
   "cell_type": "markdown",
   "metadata": {},
   "source": [
    "#### 4. Membuat salinan dari data yang di-load ke dalam variable bernama df_copy."
   ]
  },
  {
   "cell_type": "code",
   "execution_count": 51,
   "metadata": {},
   "outputs": [],
   "source": [
    "df_copy  = data.copy()"
   ]
  },
  {
   "cell_type": "markdown",
   "metadata": {},
   "source": [
    "#### 5.Filter df_copy dimana tidak ada start_station_name dan end_station_name yang termasuk dalam list exclusive_stations."
   ]
  },
  {
   "cell_type": "code",
   "execution_count": 52,
   "metadata": {},
   "outputs": [],
   "source": [
    "# Membuat filter dimana tidak ada start_station_name dan end_station_name yang termasuk dalam list exclusive_stations.\n",
    "filter_1 = ~df_copy['start_station_name'].isin(exclusive_stations)\n",
    "filter_2 = ~df_copy['end_station_name'].isin(exclusive_stations)\n",
    "filter_add = filter_1 & filter_2"
   ]
  },
  {
   "cell_type": "markdown",
   "metadata": {},
   "source": [
    "Filter tersebut juga dapat dibuat dengan menggunakan irisan atau intersection 'awal_stasiun' dan 'akhir_stasiun' sebagai dengan **numpy.intersect1d** sebagai berikut:"
   ]
  },
  {
   "cell_type": "code",
   "execution_count": 53,
   "metadata": {},
   "outputs": [],
   "source": [
    "#intersect_station = np.intersect1d(awal_stasiun,akhir_stasiun)\n",
    "#pilter_add = (df_copy['start_station_name'].isin(irisan)) & (df_copy['end_station_name'].isin(intersect_station))"
   ]
  },
  {
   "cell_type": "markdown",
   "metadata": {},
   "source": [
    "Menerapkan filter terhadap DataFrame df_copy."
   ]
  },
  {
   "cell_type": "code",
   "execution_count": 54,
   "metadata": {},
   "outputs": [],
   "source": [
    "df_copy = df_copy[filter_add]"
   ]
  },
  {
   "cell_type": "markdown",
   "metadata": {},
   "source": [
    "#### 6. Membuat dataframe yang berisikan cross-tabulation antara start_stations dan end_stations pada df_copy."
   ]
  },
  {
   "cell_type": "code",
   "execution_count": 55,
   "metadata": {},
   "outputs": [],
   "source": [
    "df_matrix_square = (pd.crosstab(df_copy['start_station_name'],df_copy['end_station_name']))"
   ]
  },
  {
   "cell_type": "markdown",
   "metadata": {},
   "source": [
    "Cek size 'df_matrix_square'..Apakah sebuah matriks persegi (jumlah baris dan kolom sama)?"
   ]
  },
  {
   "cell_type": "code",
   "execution_count": 56,
   "metadata": {},
   "outputs": [
    {
     "data": {
      "text/plain": [
       "(259, 259)"
      ]
     },
     "execution_count": 56,
     "metadata": {},
     "output_type": "execute_result"
    }
   ],
   "source": [
    "df_matrix_square.shape"
   ]
  },
  {
   "cell_type": "markdown",
   "metadata": {},
   "source": [
    "#### 7. Jumlahkan nilai kolom masing-masing rows pada df_matrix_square menggunakan method sum(axis=1) dan simpan ke dalam variable bernama total_trips."
   ]
  },
  {
   "cell_type": "markdown",
   "metadata": {},
   "source": [
    "Kita akan mencari jumlah total kolom pada tiap barisnya."
   ]
  },
  {
   "cell_type": "code",
   "execution_count": 57,
   "metadata": {},
   "outputs": [],
   "source": [
    "total_trips = df_matrix_square.sum(axis=1)"
   ]
  },
  {
   "cell_type": "markdown",
   "metadata": {},
   "source": [
    "#### 8. Bagi setiap kolom df_matrix_square dengan menggunakan method .div(), dengan inputan parameter total_trips dan axis='rows'. Masukkan hasilnya ke variable weighted_matrix_df."
   ]
  },
  {
   "cell_type": "code",
   "execution_count": 58,
   "metadata": {},
   "outputs": [],
   "source": [
    "# Membagi tiap elemen pada baris 'df_matrix_square' dengan total tiap barisnya.\n",
    "weighted_matrix_df = (df_matrix_square.div(total_trips, axis='rows'))"
   ]
  },
  {
   "cell_type": "markdown",
   "metadata": {},
   "source": [
    "#### 9. Konversikan weighted_matrix_df ke numpy array"
   ]
  },
  {
   "cell_type": "code",
   "execution_count": 59,
   "metadata": {},
   "outputs": [],
   "source": [
    "# Mengubah DataFrame 'weighted_matrix_df' menjadi array/marix dengan nama 'weighted_matrix_arr'\n",
    "weighted_matrix_arr = weighted_matrix_df.to_numpy()"
   ]
  },
  {
   "cell_type": "markdown",
   "metadata": {},
   "source": [
    "#### 10. Hitung eigen value dan eigen vector menggunakan library numpy"
   ]
  },
  {
   "cell_type": "code",
   "execution_count": 60,
   "metadata": {},
   "outputs": [],
   "source": [
    "eig_value,eig_vec =np.linalg.eig(weighted_matrix_arr)"
   ]
  },
  {
   "cell_type": "code",
   "execution_count": 61,
   "metadata": {},
   "outputs": [
    {
     "data": {
      "text/plain": [
       "array([[ 9.49279227e-02+0.j, -6.71156055e-02+0.j,  7.37244570e-02+0.j,\n",
       "        ...,  2.57224804e-14+0.j, -1.51972420e-15+0.j,\n",
       "         2.03622094e-16+0.j],\n",
       "       [ 9.49344957e-02+0.j, -6.71156055e-02+0.j,  7.11255559e-02+0.j,\n",
       "        ..., -6.16289997e-16+0.j,  5.69796344e-17+0.j,\n",
       "         5.37641447e-18+0.j],\n",
       "       [-4.67566973e-03+0.j, -6.71156055e-02+0.j,  4.47503652e-06+0.j,\n",
       "        ..., -7.11902723e-16+0.j, -1.96470214e-16+0.j,\n",
       "         3.93817957e-15+0.j],\n",
       "       ...,\n",
       "       [-2.50823842e-36+0.j, -3.45207257e-35+0.j,  3.54237342e-30+0.j,\n",
       "        ...,  3.14315657e-01+0.j,  4.11297475e-02+0.j,\n",
       "         1.28887515e-01+0.j],\n",
       "       [ 9.48156570e-02+0.j, -6.71156055e-02+0.j, -1.22258036e-01+0.j,\n",
       "        ..., -6.76170958e-16+0.j,  4.40763159e-16+0.j,\n",
       "        -9.49952233e-16+0.j],\n",
       "       [-4.67523852e-03+0.j, -6.71156055e-02+0.j,  3.08992161e-06+0.j,\n",
       "        ...,  4.48437679e-16+0.j,  4.26088787e-16+0.j,\n",
       "        -3.90333086e-15+0.j]])"
      ]
     },
     "execution_count": 61,
     "metadata": {},
     "output_type": "execute_result"
    }
   ],
   "source": [
    "eig_vec"
   ]
  },
  {
   "cell_type": "code",
   "execution_count": 62,
   "metadata": {},
   "outputs": [
    {
     "data": {
      "text/plain": [
       "array([ 9.99650225e-01+0.j        ,  1.00000000e+00+0.j        ,\n",
       "        8.76567688e-01+0.j        ,  7.82505881e-01+0.j        ,\n",
       "       -7.25084151e-01+0.j        ,  6.95686108e-01+0.j        ,\n",
       "        6.41208322e-01+0.j        ,  1.00000000e+00+0.j        ,\n",
       "       -6.01273998e-01+0.j        ,  5.75724377e-01+0.j        ,\n",
       "       -5.44710662e-01+0.j        , -5.05171843e-01+0.j        ,\n",
       "        4.81047128e-01+0.j        ,  4.71820963e-01+0.j        ,\n",
       "        4.30437427e-01+0.j        , -4.33542008e-01+0.j        ,\n",
       "        4.47289606e-01+0.j        ,  3.48538667e-01+0.j        ,\n",
       "        3.49386414e-01+0.j        ,  3.32626163e-01+0.j        ,\n",
       "       -4.04994146e-01+0.j        ,  3.62250287e-01+0.j        ,\n",
       "        2.91892562e-01+0.j        ,  2.71510571e-01+0.j        ,\n",
       "        2.99392006e-01+0.j        , -3.60022387e-01+0.j        ,\n",
       "       -4.12818354e-01+0.j        , -3.38446252e-01+0.j        ,\n",
       "       -3.84264901e-01+0.j        , -3.16707946e-01+0.j        ,\n",
       "       -3.02196976e-01+0.00689407j, -3.02196976e-01-0.00689407j,\n",
       "       -2.75580666e-01+0.j        , -3.49121373e-01+0.j        ,\n",
       "       -3.09890842e-01+0.j        , -2.41808641e-01+0.j        ,\n",
       "       -2.33713315e-01+0.j        ,  2.51851409e-01+0.j        ,\n",
       "        2.10835278e-01+0.j        ,  2.04137002e-01+0.j        ,\n",
       "        1.99577630e-01+0.01035679j,  1.99577630e-01-0.01035679j,\n",
       "       -2.90573069e-01+0.j        ,  1.81334951e-01+0.j        ,\n",
       "        1.65037233e-01+0.j        ,  1.53147313e-01+0.01168214j,\n",
       "        1.53147313e-01-0.01168214j,  1.50755363e-01+0.j        ,\n",
       "        1.53068047e-01+0.j        , -2.13399046e-01+0.j        ,\n",
       "       -2.08235393e-01+0.j        , -2.23781899e-01+0.j        ,\n",
       "       -1.96824293e-01+0.j        , -1.90071340e-01+0.j        ,\n",
       "       -1.65756743e-01+0.03038365j, -1.65756743e-01-0.03038365j,\n",
       "       -1.82164732e-01+0.00018525j, -1.82164732e-01-0.00018525j,\n",
       "       -1.61531726e-01+0.j        , -1.63320478e-01+0.j        ,\n",
       "       -1.49635395e-01+0.01536347j, -1.49635395e-01-0.01536347j,\n",
       "        1.62998661e-01+0.j        ,  1.24193262e-01+0.j        ,\n",
       "        1.28849442e-01+0.j        ,  1.12346986e-01+0.j        ,\n",
       "        1.05778419e-01+0.00236595j,  1.05778419e-01-0.00236595j,\n",
       "       -1.53703475e-01+0.00843282j, -1.53703475e-01-0.00843282j,\n",
       "       -1.49704271e-01+0.j        , -1.37422316e-01+0.j        ,\n",
       "       -1.39216696e-01+0.j        , -1.27591251e-01+0.01299255j,\n",
       "       -1.27591251e-01-0.01299255j, -1.27934176e-01+0.00987388j,\n",
       "       -1.27934176e-01-0.00987388j, -1.47664102e-01+0.00796153j,\n",
       "       -1.47664102e-01-0.00796153j, -6.41671158e-02+0.09425513j,\n",
       "       -6.41671158e-02-0.09425513j,  8.91324586e-02+0.0125028j ,\n",
       "        8.91324586e-02-0.0125028j ,  9.18929581e-02+0.00956429j,\n",
       "        9.18929581e-02-0.00956429j,  8.17193750e-02+0.01977452j,\n",
       "        8.17193750e-02-0.01977452j,  1.04516170e-01+0.j        ,\n",
       "        8.61181086e-02+0.j        ,  7.66281549e-02+0.00873593j,\n",
       "        7.66281549e-02-0.00873593j,  9.75106319e-02+0.j        ,\n",
       "       -1.14710802e-01+0.j        , -1.07705808e-01+0.00402658j,\n",
       "       -1.07705808e-01-0.00402658j, -9.87023783e-02+0.01731697j,\n",
       "       -9.87023783e-02-0.01731697j, -9.90691348e-02+0.j        ,\n",
       "       -9.87568629e-02+0.00026248j, -9.87568629e-02-0.00026248j,\n",
       "        6.82292079e-02+0.01895288j,  6.82292079e-02-0.01895288j,\n",
       "        7.06322294e-02+0.j        , -9.21161348e-02+0.0062734j ,\n",
       "       -9.21161348e-02-0.0062734j , -8.99366451e-02+0.00737357j,\n",
       "       -8.99366451e-02-0.00737357j, -8.47096012e-02+0.01735797j,\n",
       "       -8.47096012e-02-0.01735797j,  6.21889392e-02+0.j        ,\n",
       "        5.11924512e-02+0.02838249j,  5.11924512e-02-0.02838249j,\n",
       "       -6.61503145e-02+0.03878596j, -6.61503145e-02-0.03878596j,\n",
       "       -9.85776179e-02+0.j        , -8.27943570e-02+0.j        ,\n",
       "       -7.36219744e-02+0.00772792j, -7.36219744e-02-0.00772792j,\n",
       "       -7.65422397e-02+0.00524165j, -7.65422397e-02-0.00524165j,\n",
       "       -7.65215335e-02+0.j        ,  5.44024877e-02+0.01174301j,\n",
       "        5.44024877e-02-0.01174301j,  6.42836569e-02+0.j        ,\n",
       "        5.06845544e-02+0.01273753j,  5.06845544e-02-0.01273753j,\n",
       "        4.71426175e-02+0.01477296j,  4.71426175e-02-0.01477296j,\n",
       "        4.94230408e-02+0.j        , -6.63912426e-02+0.02027928j,\n",
       "       -6.63912426e-02-0.02027928j, -7.03804660e-02+0.01881856j,\n",
       "       -7.03804660e-02-0.01881856j, -8.54204202e-02+0.j        ,\n",
       "       -6.79756358e-02+0.j        , -2.26454084e-02+0.05644846j,\n",
       "       -2.26454084e-02-0.05644846j,  4.00562767e-02+0.01876718j,\n",
       "        4.00562767e-02-0.01876718j,  5.34820875e-02+0.j        ,\n",
       "       -1.12731583e-02+0.03774489j, -1.12731583e-02-0.03774489j,\n",
       "       -6.51833714e-02+0.j        , -6.03069772e-02+0.01096908j,\n",
       "       -6.03069772e-02-0.01096908j, -5.89546633e-02+0.01342926j,\n",
       "       -5.89546633e-02-0.01342926j,  4.02147685e-02+0.j        ,\n",
       "        3.03357020e-02+0.01873672j,  3.03357020e-02-0.01873672j,\n",
       "       -6.90644120e-02+0.01034348j, -6.90644120e-02-0.01034348j,\n",
       "       -7.04230928e-03+0.03366309j, -7.04230928e-03-0.03366309j,\n",
       "       -3.70826240e-02+0.02749238j, -3.70826240e-02-0.02749238j,\n",
       "       -5.14345488e-02+0.01615503j, -5.14345488e-02-0.01615503j,\n",
       "       -4.76011975e-02+0.01612075j, -4.76011975e-02-0.01612075j,\n",
       "       -3.84847836e-02+0.03271677j, -3.84847836e-02-0.03271677j,\n",
       "        3.28682701e-02+0.00269012j,  3.28682701e-02-0.00269012j,\n",
       "        2.28335646e-02+0.017242j  ,  2.28335646e-02-0.017242j  ,\n",
       "        2.87435557e-02+0.00570465j,  2.87435557e-02-0.00570465j,\n",
       "        3.09083696e-02+0.j        ,  2.99737512e-02+0.j        ,\n",
       "       -3.79295211e-03+0.02661397j, -3.79295211e-03-0.02661397j,\n",
       "       -1.87610142e-02+0.02656944j, -1.87610142e-02-0.02656944j,\n",
       "       -5.03801206e-02+0.00140764j, -5.03801206e-02-0.00140764j,\n",
       "       -3.81505172e-02+0.01884065j, -3.81505172e-02-0.01884065j,\n",
       "       -4.74417142e-02+0.0088308j , -4.74417142e-02-0.0088308j ,\n",
       "       -4.31230685e-02+0.01353578j, -4.31230685e-02-0.01353578j,\n",
       "       -3.13787087e-02+0.02110188j, -3.13787087e-02-0.02110188j,\n",
       "        2.09931199e-02+0.01414662j,  2.09931199e-02-0.01414662j,\n",
       "       -4.35328593e-02+0.00611768j, -4.35328593e-02-0.00611768j,\n",
       "        1.20118046e-02+0.01963409j,  1.20118046e-02-0.01963409j,\n",
       "        2.67907913e-02+0.00689277j,  2.67907913e-02-0.00689277j,\n",
       "       -3.38611646e-02+0.01988241j, -3.38611646e-02-0.01988241j,\n",
       "       -3.55358718e-02+0.01574804j, -3.55358718e-02-0.01574804j,\n",
       "        2.45219406e-02+0.j        , -1.59772908e-02+0.02380149j,\n",
       "       -1.59772908e-02-0.02380149j,  3.05933688e-03+0.02237808j,\n",
       "        3.05933688e-03-0.02237808j,  1.68840647e-02+0.01117567j,\n",
       "        1.68840647e-02-0.01117567j, -3.94351394e-02+0.j        ,\n",
       "        2.06869794e-02+0.0095494j ,  2.06869794e-02-0.0095494j ,\n",
       "        7.20224583e-03+0.01666762j,  7.20224583e-03-0.01666762j,\n",
       "       -7.97560686e-05+0.01747531j, -7.97560686e-05-0.01747531j,\n",
       "       -1.79476702e-02+0.02843009j, -1.79476702e-02-0.02843009j,\n",
       "        1.21049403e-02+0.00953223j,  1.21049403e-02-0.00953223j,\n",
       "       -3.85733769e-03+0.01626882j, -3.85733769e-03-0.01626882j,\n",
       "       -3.04483367e-02+0.00638068j, -3.04483367e-02-0.00638068j,\n",
       "       -2.19831007e-02+0.01609084j, -2.19831007e-02-0.01609084j,\n",
       "       -2.96711007e-02+0.j        , -1.17109577e-02+0.01662798j,\n",
       "       -1.17109577e-02-0.01662798j, -2.49593044e-02+0.01157527j,\n",
       "       -2.49593044e-02-0.01157527j,  1.70192969e-02+0.j        ,\n",
       "        1.27865601e-03+0.00860704j,  1.27865601e-03-0.00860704j,\n",
       "       -8.53030131e-03+0.01518188j, -8.53030131e-03-0.01518188j,\n",
       "        8.22205915e-03+0.j        ,  8.45821774e-03+0.j        ,\n",
       "       -1.14447886e-02+0.00844572j, -1.14447886e-02-0.00844572j,\n",
       "        6.31419707e-03+0.0241328j ,  6.31419707e-03-0.0241328j ,\n",
       "        2.27673326e-02+0.01205148j,  2.27673326e-02-0.01205148j,\n",
       "       -1.37707176e-02+0.00601603j, -1.37707176e-02-0.00601603j,\n",
       "       -2.82347283e-02+0.j        , -2.30995474e-02+0.00798713j,\n",
       "       -2.30995474e-02-0.00798713j, -1.41855239e-02+0.j        ,\n",
       "       -9.78546487e-04+0.00437716j, -9.78546487e-04-0.00437716j,\n",
       "       -1.32860816e-03+0.j        , -1.48775660e-02+0.01013171j,\n",
       "       -1.48775660e-02-0.01013171j, -1.67167792e-02+0.00270055j,\n",
       "       -1.67167792e-02-0.00270055j, -1.64007999e-03+0.j        ,\n",
       "       -8.30254455e-03+0.00188089j, -8.30254455e-03-0.00188089j,\n",
       "       -7.64477030e-03+0.00250227j, -7.64477030e-03-0.00250227j,\n",
       "       -3.85618850e-02+0.j        ,  1.50716614e-02+0.j        ,\n",
       "       -3.85188951e-03+0.j        ])"
      ]
     },
     "execution_count": 62,
     "metadata": {},
     "output_type": "execute_result"
    }
   ],
   "source": [
    "eig_value"
   ]
  },
  {
   "cell_type": "markdown",
   "metadata": {},
   "source": [
    "Terdapat eigenvalues dan element eigenvector yang merupakan bilangan kompleks, untuk itu kita akan mencari nilai modulus atau argument dari eigenvalue.\n",
    "Modulus dari suatu bilangan kompleks $z = a+ib$ adalah $r=\\sqrt{a^2+b^2} $. Untuk mencari modulus dari nilai eigenvalue dan eigenvector yang didapat kita dapat menerapkan 'numpy.abs'."
   ]
  },
  {
   "cell_type": "code",
   "execution_count": 63,
   "metadata": {},
   "outputs": [],
   "source": [
    "eig_value = np.abs(eig_value)\n",
    "eig_vec = np.abs(eig_vec)"
   ]
  },
  {
   "cell_type": "markdown",
   "metadata": {},
   "source": [
    "#### 11. Score PageRank terdapat pada eigen vector yang eigenvaluenya paling tinggi (mendekatai atau sama dengan 1). Simpan eigen vector tersebut ke dalam variable bernama PR_Scores."
   ]
  },
  {
   "cell_type": "markdown",
   "metadata": {},
   "source": [
    "Kita akan coba mencari eigenvector yang memiliki eigenvalue tertinggi.\n",
    "Berdasarkan penjelasan dari numpy.org, bahwa numpy;linalg.eig menghasilkan eigenvector dimana:\n",
    "\n",
    "\"The normalized (unit “length”) eigenvectors, such that the column v[:,i] is the eigenvector corresponding to the eigenvalue w[i]\""
   ]
  },
  {
   "cell_type": "code",
   "execution_count": 64,
   "metadata": {},
   "outputs": [],
   "source": [
    "ind = eig_value.argmax() # Mengetahui indeks pada eigenvalue tertinggi\n",
    "PR_scores = eig_vec[:,ind] # Mengetahui eigenvector dengan eigenvalue tertinggi"
   ]
  },
  {
   "cell_type": "markdown",
   "metadata": {},
   "source": [
    "#### 12. Buat DataFrame baru bernama PageRank_df dengan kolom 'start_station' yang berisikan value variable start_stations dan kolom score yang berisikan value variable PR_Scores."
   ]
  },
  {
   "cell_type": "code",
   "execution_count": 65,
   "metadata": {},
   "outputs": [],
   "source": [
    "# Membuat DataFrame baru 'PageRank_df' dengan dictionary\n",
    "PageRank_df = pd.DataFrame({'start_station':df_matrix_square.index,'PR_Scores':PR_scores})"
   ]
  },
  {
   "cell_type": "markdown",
   "metadata": {},
   "source": [
    "#### 13. Tampilkan head dari dataframe PageRank_df"
   ]
  },
  {
   "cell_type": "code",
   "execution_count": 66,
   "metadata": {},
   "outputs": [
    {
     "data": {
      "text/html": [
       "<div>\n",
       "<style scoped>\n",
       "    .dataframe tbody tr th:only-of-type {\n",
       "        vertical-align: middle;\n",
       "    }\n",
       "\n",
       "    .dataframe tbody tr th {\n",
       "        vertical-align: top;\n",
       "    }\n",
       "\n",
       "    .dataframe thead th {\n",
       "        text-align: right;\n",
       "    }\n",
       "</style>\n",
       "<table border=\"1\" class=\"dataframe\">\n",
       "  <thead>\n",
       "    <tr style=\"text-align: right;\">\n",
       "      <th></th>\n",
       "      <th>start_station</th>\n",
       "      <th>PR_Scores</th>\n",
       "    </tr>\n",
       "  </thead>\n",
       "  <tbody>\n",
       "    <tr>\n",
       "      <th>0</th>\n",
       "      <td>10th Ave at E 15th St</td>\n",
       "      <td>0.067116</td>\n",
       "    </tr>\n",
       "    <tr>\n",
       "      <th>1</th>\n",
       "      <td>10th St at Fallon St</td>\n",
       "      <td>0.067116</td>\n",
       "    </tr>\n",
       "    <tr>\n",
       "      <th>2</th>\n",
       "      <td>11th St at Bryant St</td>\n",
       "      <td>0.067116</td>\n",
       "    </tr>\n",
       "    <tr>\n",
       "      <th>3</th>\n",
       "      <td>11th St at Natoma St</td>\n",
       "      <td>0.067116</td>\n",
       "    </tr>\n",
       "    <tr>\n",
       "      <th>4</th>\n",
       "      <td>13th St at Franklin St</td>\n",
       "      <td>0.067116</td>\n",
       "    </tr>\n",
       "  </tbody>\n",
       "</table>\n",
       "</div>"
      ],
      "text/plain": [
       "            start_station  PR_Scores\n",
       "0   10th Ave at E 15th St   0.067116\n",
       "1    10th St at Fallon St   0.067116\n",
       "2    11th St at Bryant St   0.067116\n",
       "3    11th St at Natoma St   0.067116\n",
       "4  13th St at Franklin St   0.067116"
      ]
     },
     "execution_count": 66,
     "metadata": {},
     "output_type": "execute_result"
    }
   ],
   "source": [
    "PageRank_df.head()"
   ]
  },
  {
   "cell_type": "markdown",
   "metadata": {},
   "source": [
    "####  a. Mengapa dalam kasus ini kita menerapkan konsep Eigendecomposition?"
   ]
  },
  {
   "cell_type": "markdown",
   "metadata": {},
   "source": [
    "Misal $v$ merupakan vektor yang berisikan probability seseorang mengunjungi tiap station, dimana pada kasus ini $v\\in \\mathbb{R}^{259}$.\n",
    "Matriks 'weighted_matrix_arr' berisikan probability suatu station dikunjungi dari station yang lain. Misal $A$ adalah matriks 'weighted_matrix_arr'. Apabila kita kalikan matriks $A$ terhadap $v$, $Av=v_1$, maka probability orang tersebut akan berubah dari $v$ menjadi $v_1$, yang mana tiap elemen $v_1$ mencerminkan probability baru orang tersebut terhadap tiap stasiun. Apabila kita kalikan lagi $A$ pada $v_1$, maka vektor probability orang tersebut akan terupdate menjadi $v_2$ atau dapat ditulis $A^2v=v_2$. Bila hal tersebut dilakukan terus-menerus $v$, $Av$, ..., $A^kv$ akan menuju suatu vektor $v^*$, dimana apabila kita kalikan lagi terhadap matriks $A$ vektor tersebut tidak lagi berubah. Atau dengan kata lain $Av^*=v^*$. Vektor $v^*$ tersebut merupakan PageRank vektor pada graf kasus station disini.\n",
    "\n",
    "Dari hal tersebut kita dapat lihat bahwa $v^*$ merupakan eigenvector $A$ dengan eigenvalue $\\lambda=1$.\n",
    "\n",
    "Tentu akan memakan komputasi yang berat dan waktu yang lama untuk melakukan perkalian matriks $A^kv$, dimana $k$ sangat besar. Dengan konsep 'Eigendecomposition' suatu matriks persegi $A$ dapat difaktorkan menjadi $A=PDP^{-1}$, dimana $P$ suatu matriks persegi yang tiap kolomnya adalah eigenvector $A$, dan $D$ adalah matriks diagonal dengan elemen tiap diagonalnya adalah eigenvalue $A$. Dengan menerapkan eigendecomposition: $A^kv=PD^kP^{-1}v$ sehingga perkalian matriks menjadi jauh lebih mudah.\n",
    "\n",
    "Atau dapat dituliskan menjadi $PD^kP^{-1}v=v^*$. Dari persamaan tersebut dapat dilihat bahwa hasil pada vektor PageRank $v^*$ didominasi oleh eigenvalue $\\lambda$ terbesar beserta eigenvectornya. Sehingga kita bisa langsung dapat memprediksi station favorit berdasarkan eigenvector dengan eigenvalue tertinggi.\n",
    "\n",
    "Sumber: http://pi.math.cornell.edu/~mec/Winter2009/RalucaRemus/Lecture3/lecture3.html\n",
    "        \n",
    "        'MATHEMATICS FOR MACHINE LEARNING' by Marc Peter Deisenroth, A. Aldo Faisal, Cheng Soon Ong\n",
    "\n",
    "        https://dm561.github.io/assets/dm561-pagerank.pdf"
   ]
  },
  {
   "cell_type": "markdown",
   "metadata": {},
   "source": [
    "####  b. Dari pengamatanmu, mengapa pada akhirnya kita menggunakan dataframe df_matrix_square dibandingkan df_matrix untuk dilakukan proses Eigendecomposition? Berikan alasan yang logis sesuai dengan konsep Eigendecomposition."
   ]
  },
  {
   "cell_type": "markdown",
   "metadata": {},
   "source": [
    "Konsep Eigendecomposition hanya bisa diterapkan untuk matriks persegi $A$, dimana jumlah baris dan kolom adalah sama."
   ]
  },
  {
   "cell_type": "code",
   "execution_count": 67,
   "metadata": {},
   "outputs": [
    {
     "name": "stdout",
     "output_type": "stream",
     "text": [
      "df_matrix memiliki ukuran (259, 294)\n",
      "df_matrix_square memiliki ukuran (259, 259)\n"
     ]
    }
   ],
   "source": [
    "print(f'df_matrix memiliki ukuran {df_matrix.to_numpy().shape}')\n",
    "print(f'df_matrix_square memiliki ukuran {weighted_matrix_arr.shape}')"
   ]
  },
  {
   "cell_type": "markdown",
   "metadata": {},
   "source": [
    "Dapat dilihat bahwa 'df_matrix' memiliki jumlah baris dan kolom yang berbeda, sehingga 'df_matrix' tidak dapat diterapkan Eigendecomposition. Sedangkan 'df_matrix_square' dapat dijadikan mariks persegi yang mana dapat diterapkan Eigendecomposition."
   ]
  },
  {
   "cell_type": "markdown",
   "metadata": {},
   "source": [
    "#### c. Jika dilihat dari PageRanknya, dimana nilai PageRank paling besar merupakan stasiun yang paling favorit. Apa insight yang akan kamu berikan"
   ]
  },
  {
   "cell_type": "markdown",
   "metadata": {},
   "source": [
    "Kita dapat mengetahui nilai PageRank terbesar dengan mengurutkan DataFrame PageRank_df berdasarkan PR_Scores dari yang terbesar ke terkecil."
   ]
  },
  {
   "cell_type": "code",
   "execution_count": 68,
   "metadata": {},
   "outputs": [
    {
     "data": {
      "text/html": [
       "<div>\n",
       "<style scoped>\n",
       "    .dataframe tbody tr th:only-of-type {\n",
       "        vertical-align: middle;\n",
       "    }\n",
       "\n",
       "    .dataframe tbody tr th {\n",
       "        vertical-align: top;\n",
       "    }\n",
       "\n",
       "    .dataframe thead th {\n",
       "        text-align: right;\n",
       "    }\n",
       "</style>\n",
       "<table border=\"1\" class=\"dataframe\">\n",
       "  <thead>\n",
       "    <tr style=\"text-align: right;\">\n",
       "      <th></th>\n",
       "      <th>start_station</th>\n",
       "      <th>PR_Scores</th>\n",
       "    </tr>\n",
       "  </thead>\n",
       "  <tbody>\n",
       "    <tr>\n",
       "      <th>114</th>\n",
       "      <td>Fruitvale BART Station</td>\n",
       "      <td>6.711561e-02</td>\n",
       "    </tr>\n",
       "    <tr>\n",
       "      <th>109</th>\n",
       "      <td>Foothill Blvd at Harrington Ave</td>\n",
       "      <td>6.711561e-02</td>\n",
       "    </tr>\n",
       "    <tr>\n",
       "      <th>21</th>\n",
       "      <td>23rd Ave at Foothill Blvd</td>\n",
       "      <td>6.711561e-02</td>\n",
       "    </tr>\n",
       "    <tr>\n",
       "      <th>108</th>\n",
       "      <td>Foothill Blvd at Fruitvale Ave</td>\n",
       "      <td>6.711561e-02</td>\n",
       "    </tr>\n",
       "    <tr>\n",
       "      <th>24</th>\n",
       "      <td>26th Ave at International Blvd</td>\n",
       "      <td>6.711561e-02</td>\n",
       "    </tr>\n",
       "    <tr>\n",
       "      <th>...</th>\n",
       "      <td>...</td>\n",
       "      <td>...</td>\n",
       "    </tr>\n",
       "    <tr>\n",
       "      <th>256</th>\n",
       "      <td>Willow St at Vine St</td>\n",
       "      <td>3.452073e-35</td>\n",
       "    </tr>\n",
       "    <tr>\n",
       "      <th>167</th>\n",
       "      <td>Mission St at 1st St</td>\n",
       "      <td>3.450222e-35</td>\n",
       "    </tr>\n",
       "    <tr>\n",
       "      <th>149</th>\n",
       "      <td>Locust St at Grant St</td>\n",
       "      <td>3.449213e-35</td>\n",
       "    </tr>\n",
       "    <tr>\n",
       "      <th>100</th>\n",
       "      <td>Empire St at 1st St</td>\n",
       "      <td>3.432686e-35</td>\n",
       "    </tr>\n",
       "    <tr>\n",
       "      <th>45</th>\n",
       "      <td>5th St at Taylor St</td>\n",
       "      <td>3.200960e-35</td>\n",
       "    </tr>\n",
       "  </tbody>\n",
       "</table>\n",
       "<p>259 rows × 2 columns</p>\n",
       "</div>"
      ],
      "text/plain": [
       "                       start_station     PR_Scores\n",
       "114           Fruitvale BART Station  6.711561e-02\n",
       "109  Foothill Blvd at Harrington Ave  6.711561e-02\n",
       "21         23rd Ave at Foothill Blvd  6.711561e-02\n",
       "108   Foothill Blvd at Fruitvale Ave  6.711561e-02\n",
       "24    26th Ave at International Blvd  6.711561e-02\n",
       "..                               ...           ...\n",
       "256             Willow St at Vine St  3.452073e-35\n",
       "167             Mission St at 1st St  3.450222e-35\n",
       "149            Locust St at Grant St  3.449213e-35\n",
       "100              Empire St at 1st St  3.432686e-35\n",
       "45               5th St at Taylor St  3.200960e-35\n",
       "\n",
       "[259 rows x 2 columns]"
      ]
     },
     "execution_count": 68,
     "metadata": {},
     "output_type": "execute_result"
    }
   ],
   "source": [
    "PageRank_df.sort_values('PR_Scores', ascending=False)"
   ]
  },
  {
   "cell_type": "markdown",
   "metadata": {},
   "source": [
    "Atau kita dapat mencari nilai max PR_Score dan melihat station mana yang memiliki nilai tersebut."
   ]
  },
  {
   "cell_type": "code",
   "execution_count": 69,
   "metadata": {},
   "outputs": [
    {
     "data": {
      "text/html": [
       "<div>\n",
       "<style scoped>\n",
       "    .dataframe tbody tr th:only-of-type {\n",
       "        vertical-align: middle;\n",
       "    }\n",
       "\n",
       "    .dataframe tbody tr th {\n",
       "        vertical-align: top;\n",
       "    }\n",
       "\n",
       "    .dataframe thead th {\n",
       "        text-align: right;\n",
       "    }\n",
       "</style>\n",
       "<table border=\"1\" class=\"dataframe\">\n",
       "  <thead>\n",
       "    <tr style=\"text-align: right;\">\n",
       "      <th></th>\n",
       "      <th>start_station</th>\n",
       "      <th>PR_Scores</th>\n",
       "    </tr>\n",
       "  </thead>\n",
       "  <tbody>\n",
       "    <tr>\n",
       "      <th>114</th>\n",
       "      <td>Fruitvale BART Station</td>\n",
       "      <td>0.067116</td>\n",
       "    </tr>\n",
       "  </tbody>\n",
       "</table>\n",
       "</div>"
      ],
      "text/plain": [
       "              start_station  PR_Scores\n",
       "114  Fruitvale BART Station   0.067116"
      ]
     },
     "execution_count": 69,
     "metadata": {},
     "output_type": "execute_result"
    }
   ],
   "source": [
    "max_score = PageRank_df['PR_Scores'].max() #Mencari maksimum PR_Score\n",
    "\n",
    "PageRank_df[PageRank_df['PR_Scores'] == max_score] #Menampilkan stasiun beserta nilaiPR_Scores maksimum."
   ]
  },
  {
   "cell_type": "markdown",
   "metadata": {},
   "source": [
    "Berdasarkan nilai PR_Scores, **Fruitvale BART Station** memiliki PR_Score terbesar, yang dapat diambil kesimpulan sebagai station favorit.\n",
    "\n",
    "Namun apabila kita lihat, nilai PR_Scores dari 'Fruitvale BART Station' tidak berbeda jauh dengan beberapa station PR_Scores sekitar 0.067116, yang mana bisa dilihat dari:"
   ]
  },
  {
   "cell_type": "code",
   "execution_count": 70,
   "metadata": {},
   "outputs": [
    {
     "data": {
      "text/html": [
       "<div>\n",
       "<style scoped>\n",
       "    .dataframe tbody tr th:only-of-type {\n",
       "        vertical-align: middle;\n",
       "    }\n",
       "\n",
       "    .dataframe tbody tr th {\n",
       "        vertical-align: top;\n",
       "    }\n",
       "\n",
       "    .dataframe thead th {\n",
       "        text-align: right;\n",
       "    }\n",
       "</style>\n",
       "<table border=\"1\" class=\"dataframe\">\n",
       "  <thead>\n",
       "    <tr style=\"text-align: right;\">\n",
       "      <th></th>\n",
       "      <th>start_station</th>\n",
       "      <th>PR_Scores</th>\n",
       "    </tr>\n",
       "  </thead>\n",
       "  <tbody>\n",
       "    <tr>\n",
       "      <th>114</th>\n",
       "      <td>Fruitvale BART Station</td>\n",
       "      <td>0.067116</td>\n",
       "    </tr>\n",
       "    <tr>\n",
       "      <th>109</th>\n",
       "      <td>Foothill Blvd at Harrington Ave</td>\n",
       "      <td>0.067116</td>\n",
       "    </tr>\n",
       "    <tr>\n",
       "      <th>21</th>\n",
       "      <td>23rd Ave at Foothill Blvd</td>\n",
       "      <td>0.067116</td>\n",
       "    </tr>\n",
       "    <tr>\n",
       "      <th>108</th>\n",
       "      <td>Foothill Blvd at Fruitvale Ave</td>\n",
       "      <td>0.067116</td>\n",
       "    </tr>\n",
       "    <tr>\n",
       "      <th>24</th>\n",
       "      <td>26th Ave at International Blvd</td>\n",
       "      <td>0.067116</td>\n",
       "    </tr>\n",
       "    <tr>\n",
       "      <th>17</th>\n",
       "      <td>19th Street BART Station</td>\n",
       "      <td>0.067116</td>\n",
       "    </tr>\n",
       "    <tr>\n",
       "      <th>129</th>\n",
       "      <td>Hearst Ave at Euclid Ave</td>\n",
       "      <td>0.067116</td>\n",
       "    </tr>\n",
       "    <tr>\n",
       "      <th>25</th>\n",
       "      <td>27th St at MLK Jr Way</td>\n",
       "      <td>0.067116</td>\n",
       "    </tr>\n",
       "    <tr>\n",
       "      <th>58</th>\n",
       "      <td>Bay Pl at Vernon St</td>\n",
       "      <td>0.067116</td>\n",
       "    </tr>\n",
       "    <tr>\n",
       "      <th>224</th>\n",
       "      <td>Telegraph Ave at 27th St</td>\n",
       "      <td>0.067116</td>\n",
       "    </tr>\n",
       "  </tbody>\n",
       "</table>\n",
       "</div>"
      ],
      "text/plain": [
       "                       start_station  PR_Scores\n",
       "114           Fruitvale BART Station   0.067116\n",
       "109  Foothill Blvd at Harrington Ave   0.067116\n",
       "21         23rd Ave at Foothill Blvd   0.067116\n",
       "108   Foothill Blvd at Fruitvale Ave   0.067116\n",
       "24    26th Ave at International Blvd   0.067116\n",
       "17          19th Street BART Station   0.067116\n",
       "129         Hearst Ave at Euclid Ave   0.067116\n",
       "25             27th St at MLK Jr Way   0.067116\n",
       "58               Bay Pl at Vernon St   0.067116\n",
       "224         Telegraph Ave at 27th St   0.067116"
      ]
     },
     "execution_count": 70,
     "metadata": {},
     "output_type": "execute_result"
    }
   ],
   "source": [
    "PageRank_df.sort_values('PR_Scores', ascending=False).head(10) #Menampilkan 10 data PR_Scores tertinggi"
   ]
  },
  {
   "cell_type": "markdown",
   "metadata": {},
   "source": [
    "*Nampaknya kita tidak bisa secara pasti mengatakan bahwa 'Fruitvale BART Station' adalah station favorite berdasarkan hal tersebut.*"
   ]
  },
  {
   "cell_type": "markdown",
   "metadata": {},
   "source": [
    "Kita juga dapat lebih memastikan dengan mencari vector $v^*$, dimana $v^*=A^kv$ dengan $k$ cukup besar. $A$ adalah matriks  stochastic (lebih tepatnya left stochastic matrix) dengan jumlah tiap baris pada suatu kolom adalah $1$, pada kasus kita disini $A$ adalah transpose dari 'weighted_matrix_arr'. Vektor $v$ adalah weighted vector ukuran $(259,)$. Kita akan cari vektor $v^*$ dengan $k$ yang sangat besar."
   ]
  },
  {
   "cell_type": "markdown",
   "metadata": {},
   "source": [
    "Terlebih dahulu kita coba bentuk matriks stochastic yaitu transpose dari weighted_matrix_arr, lalu kita cari eigenvalue dan eigenvectornya."
   ]
  },
  {
   "cell_type": "code",
   "execution_count": 71,
   "metadata": {},
   "outputs": [
    {
     "name": "stdout",
     "output_type": "stream",
     "text": [
      "Elemen terbesar di eigenvector ada di posisi 199 sebesar\n"
     ]
    }
   ],
   "source": [
    "weighted_matrix_arr_t = weighted_matrix_arr.transpose() #Membentuk stochastic matrix\n",
    "eigv_t,eigvec_t = np.linalg.eig(weighted_matrix_arr_t) #Mencari eigenvector dan eigenvalue dari stochastic matrix\n",
    "lok = (np.abs(eigv_t)).argmax() #lokasi eigenvalue terbesar\n",
    "eigvec_1 = (np.abs(eigvec_t))[:,lok] # Mencari eigenvector dengan eigenvalue terbesar\n",
    "print(f'Elemen terbesar di eigenvector ada di posisi {eigvec_1.argmax()} sebesar') #lokasi elemen eigenvector terbesar"
   ]
  },
  {
   "cell_type": "markdown",
   "metadata": {},
   "source": [
    "Berikutnya kita akan coba melakukan perkalian $A^kv$ dengan $k$ yang sangat besar sebagai berikut:"
   ]
  },
  {
   "cell_type": "code",
   "execution_count": 72,
   "metadata": {},
   "outputs": [
    {
     "name": "stdout",
     "output_type": "stream",
     "text": [
      "Elemen terbesar dari v_ ada di posisi 199\n"
     ]
    }
   ],
   "source": [
    "v = np.ones(259) #membuat vektor dengan distribusi yang sama untuk tiap station.\n",
    "sum_v = v.sum()\n",
    "v_weighted = (1/sum_v)*v #membuat vektor v dengan jumlah total elemennya adalah 1 atau probability sama untuk tiap station\n",
    "v_ = (np.linalg.matrix_power(weighted_matrix_arr_t,10**19)) @ v_weighted #Mengkalikan A sebanyak 10^19 lalu dikalikan v_weighted\n",
    "print(f'Elemen terbesar dari v_ ada di posisi {v_.argmax()}') # posisi"
   ]
  },
  {
   "cell_type": "markdown",
   "metadata": {},
   "source": [
    "Kita bisa melihat bahwa posisi elemen terbesar dari eigenvector (dengan eigenvalue 1) sama dengan posisi elemen terbesar dari vektor hasil perkalian $A^{10^{20}}v$ yaitu 199. Stasiun yang berada di posisi tersebut (berdasarkan matriks df_matrix_square):"
   ]
  },
  {
   "cell_type": "code",
   "execution_count": 73,
   "metadata": {},
   "outputs": [
    {
     "name": "stdout",
     "output_type": "stream",
     "text": [
      "Station di posisi ke-199 adalah San Fernando St at 4th St\n"
     ]
    }
   ],
   "source": [
    "print(f'Station di posisi ke-199 adalah {PageRank_df.iloc[199,0]}')"
   ]
  },
  {
   "cell_type": "markdown",
   "metadata": {},
   "source": [
    "Berdasarkan hal tersebut dapat kita lihat bahwa rank tertinggi adalah station **San Fernando St at 4th St**. Namun untuk lebih memastikan kita buat dataframe dengan nama station dan elemen eigenvector \"eigvec_1\" sebagai berikut."
   ]
  },
  {
   "cell_type": "code",
   "execution_count": 74,
   "metadata": {},
   "outputs": [
    {
     "data": {
      "text/html": [
       "<div>\n",
       "<style scoped>\n",
       "    .dataframe tbody tr th:only-of-type {\n",
       "        vertical-align: middle;\n",
       "    }\n",
       "\n",
       "    .dataframe tbody tr th {\n",
       "        vertical-align: top;\n",
       "    }\n",
       "\n",
       "    .dataframe thead th {\n",
       "        text-align: right;\n",
       "    }\n",
       "</style>\n",
       "<table border=\"1\" class=\"dataframe\">\n",
       "  <thead>\n",
       "    <tr style=\"text-align: right;\">\n",
       "      <th></th>\n",
       "      <th>start_station</th>\n",
       "      <th>PR_Scores</th>\n",
       "    </tr>\n",
       "  </thead>\n",
       "  <tbody>\n",
       "    <tr>\n",
       "      <th>199</th>\n",
       "      <td>San Fernando St at 4th St</td>\n",
       "      <td>0.456667</td>\n",
       "    </tr>\n",
       "    <tr>\n",
       "      <th>205</th>\n",
       "      <td>San Jose Diridon Station</td>\n",
       "      <td>0.449495</td>\n",
       "    </tr>\n",
       "    <tr>\n",
       "      <th>211</th>\n",
       "      <td>San Salvador St at 9th St</td>\n",
       "      <td>0.305456</td>\n",
       "    </tr>\n",
       "  </tbody>\n",
       "</table>\n",
       "</div>"
      ],
      "text/plain": [
       "                 start_station  PR_Scores\n",
       "199  San Fernando St at 4th St   0.456667\n",
       "205   San Jose Diridon Station   0.449495\n",
       "211  San Salvador St at 9th St   0.305456"
      ]
     },
     "execution_count": 74,
     "metadata": {},
     "output_type": "execute_result"
    }
   ],
   "source": [
    "pd.DataFrame({'start_station':df_matrix_square.index,'PR_Scores':eigvec_1}).sort_values('PR_Scores',ascending=False).head(3)"
   ]
  },
  {
   "cell_type": "markdown",
   "metadata": {},
   "source": [
    "Terdapat station **San Jose Diridon Station** yang juga memiliki rank score yang hampir serupa dengan **San Fernando St at 4th St**."
   ]
  },
  {
   "cell_type": "markdown",
   "metadata": {},
   "source": [
    "*Saya menganggap bahwa akan lebih baik membentuk membentuk stochastic matrix left (pada langkah ke 7 dan 8) untuk dianalis dengan eigenvector dan eigenvalue terbesar $1$, sehingga dapat ditemukan score pagerank yang sesuai.*\n",
    "\n",
    "Sumber: https://textbooks.math.gatech.edu/ila/stochastic-matrices.html"
   ]
  },
  {
   "cell_type": "markdown",
   "metadata": {},
   "source": [
    "## Menghitung Luas Area Lingkup Sation di San Fransisco\n",
    "Masih dengan proyek yang sama, namun tujuan kali ini adalah menghitung luas area lingkup stasiun awal sepeda di kota San Francisco dengan menerapkan integral. Adapun langkah-langkahnya sebagai berikut:"
   ]
  },
  {
   "cell_type": "markdown",
   "metadata": {},
   "source": [
    "#### 1. Buat variable baru bernama df_coor_stations yang berisikan data yang sudah di-load dimana kolom region_id = 3. Pastikan tidak ada data yang duplikat dan hanya menyertakan kolom start_station_name,start_station_latitude, dan start_station_longitude. Urutkan pula dataframe tersebut berdasarkan start_station_longitude dari nilai terkecil hingga terbesar."
   ]
  },
  {
   "cell_type": "code",
   "execution_count": 75,
   "metadata": {},
   "outputs": [
    {
     "data": {
      "text/html": [
       "<div>\n",
       "<style scoped>\n",
       "    .dataframe tbody tr th:only-of-type {\n",
       "        vertical-align: middle;\n",
       "    }\n",
       "\n",
       "    .dataframe tbody tr th {\n",
       "        vertical-align: top;\n",
       "    }\n",
       "\n",
       "    .dataframe thead th {\n",
       "        text-align: right;\n",
       "    }\n",
       "</style>\n",
       "<table border=\"1\" class=\"dataframe\">\n",
       "  <thead>\n",
       "    <tr style=\"text-align: right;\">\n",
       "      <th></th>\n",
       "      <th>start_station_name</th>\n",
       "      <th>start_station_latitude</th>\n",
       "      <th>start_station_longitude</th>\n",
       "    </tr>\n",
       "  </thead>\n",
       "  <tbody>\n",
       "    <tr>\n",
       "      <th>768</th>\n",
       "      <td>McAllister St at Baker St</td>\n",
       "      <td>37.777416</td>\n",
       "      <td>-122.441838</td>\n",
       "    </tr>\n",
       "    <tr>\n",
       "      <th>792</th>\n",
       "      <td>O'Farrell St at Divisadero St</td>\n",
       "      <td>37.782405</td>\n",
       "      <td>-122.439446</td>\n",
       "    </tr>\n",
       "    <tr>\n",
       "      <th>718</th>\n",
       "      <td>Broderick St at Oak St</td>\n",
       "      <td>37.773063</td>\n",
       "      <td>-122.439078</td>\n",
       "    </tr>\n",
       "    <tr>\n",
       "      <th>727</th>\n",
       "      <td>Grove St at Divisadero</td>\n",
       "      <td>37.775946</td>\n",
       "      <td>-122.437777</td>\n",
       "    </tr>\n",
       "    <tr>\n",
       "      <th>814</th>\n",
       "      <td>Eureka Valley Recreation Center</td>\n",
       "      <td>37.759177</td>\n",
       "      <td>-122.436943</td>\n",
       "    </tr>\n",
       "    <tr>\n",
       "      <th>...</th>\n",
       "      <td>...</td>\n",
       "      <td>...</td>\n",
       "      <td>...</td>\n",
       "    </tr>\n",
       "    <tr>\n",
       "      <th>1830</th>\n",
       "      <td>The Embarcadero at Steuart St</td>\n",
       "      <td>37.791464</td>\n",
       "      <td>-122.391034</td>\n",
       "    </tr>\n",
       "    <tr>\n",
       "      <th>2681</th>\n",
       "      <td>Esprit Park</td>\n",
       "      <td>37.761634</td>\n",
       "      <td>-122.390648</td>\n",
       "    </tr>\n",
       "    <tr>\n",
       "      <th>710</th>\n",
       "      <td>Spear St at Folsom St</td>\n",
       "      <td>37.789677</td>\n",
       "      <td>-122.390428</td>\n",
       "    </tr>\n",
       "    <tr>\n",
       "      <th>1257</th>\n",
       "      <td>2nd St at Townsend St</td>\n",
       "      <td>37.780526</td>\n",
       "      <td>-122.390288</td>\n",
       "    </tr>\n",
       "    <tr>\n",
       "      <th>789</th>\n",
       "      <td>The Embarcadero at Bryant St</td>\n",
       "      <td>37.787168</td>\n",
       "      <td>-122.388098</td>\n",
       "    </tr>\n",
       "  </tbody>\n",
       "</table>\n",
       "<p>111 rows × 3 columns</p>\n",
       "</div>"
      ],
      "text/plain": [
       "                   start_station_name  start_station_latitude  \\\n",
       "768         McAllister St at Baker St               37.777416   \n",
       "792     O'Farrell St at Divisadero St               37.782405   \n",
       "718            Broderick St at Oak St               37.773063   \n",
       "727            Grove St at Divisadero               37.775946   \n",
       "814   Eureka Valley Recreation Center               37.759177   \n",
       "...                               ...                     ...   \n",
       "1830    The Embarcadero at Steuart St               37.791464   \n",
       "2681                      Esprit Park               37.761634   \n",
       "710             Spear St at Folsom St               37.789677   \n",
       "1257            2nd St at Townsend St               37.780526   \n",
       "789      The Embarcadero at Bryant St               37.787168   \n",
       "\n",
       "      start_station_longitude  \n",
       "768               -122.441838  \n",
       "792               -122.439446  \n",
       "718               -122.439078  \n",
       "727               -122.437777  \n",
       "814               -122.436943  \n",
       "...                       ...  \n",
       "1830              -122.391034  \n",
       "2681              -122.390648  \n",
       "710               -122.390428  \n",
       "1257              -122.390288  \n",
       "789               -122.388098  \n",
       "\n",
       "[111 rows x 3 columns]"
      ]
     },
     "execution_count": 75,
     "metadata": {},
     "output_type": "execute_result"
    }
   ],
   "source": [
    "filter_region = data['region_id'] == 3\n",
    "df_coor_stations = data[filter_region][['start_station_name','start_station_latitude','start_station_longitude']] #Menerapkan filter region\n",
    "df_coor_stations.drop_duplicates(subset=['start_station_name'],inplace=True) #Menghilangkan duplikat berdasarkan nama station\n",
    "df_coor_stations.sort_values('start_station_longitude', inplace=True) #Mengurutkan longitude dari yang terkecil\n",
    "df_coor_stations"
   ]
  },
  {
   "cell_type": "markdown",
   "metadata": {},
   "source": [
    "#### 2. Plot grafik area stasiun-stasiun di San Fransisco"
   ]
  },
  {
   "cell_type": "markdown",
   "metadata": {},
   "source": [
    "Berikutnya kita akan coba plot berdasarkan titik-titik station (pada 'start_station_name') di San Fransisco dengan sumbu $x$ adalah 'start_station_longitude' dan sumbu $y$ adalah 'start_station_latitude'."
   ]
  },
  {
   "cell_type": "code",
   "execution_count": 76,
   "metadata": {},
   "outputs": [
    {
     "data": {
      "text/plain": [
       "<AxesSubplot:xlabel='start_station_longitude'>"
      ]
     },
     "execution_count": 76,
     "metadata": {},
     "output_type": "execute_result"
    },
    {
     "data": {
      "image/png": "[encoded data removed]",
      "text/plain": [
       "<Figure size 1440x576 with 1 Axes>"
      ]
     },
     "metadata": {
      "needs_background": "light"
     },
     "output_type": "display_data"
    }
   ],
   "source": [
    "df_coor_stations.plot(x='start_station_longitude',y='start_station_latitude',figsize=(20,8))"
   ]
  },
  {
   "cell_type": "markdown",
   "metadata": {},
   "source": [
    "#### 3. Hitung luas area yang dilingkup stasiun awal menggunakan library Scipy. Hasilnya bersatuan square degree."
   ]
  },
  {
   "cell_type": "markdown",
   "metadata": {},
   "source": [
    "Untuk menghitung luas area tersebut kita akan terapkan integral numerik dengan metode 'trapesium' pada libary 'Scipy'."
   ]
  },
  {
   "cell_type": "code",
   "execution_count": 77,
   "metadata": {},
   "outputs": [],
   "source": [
    "from scipy import integrate"
   ]
  },
  {
   "cell_type": "markdown",
   "metadata": {},
   "source": [
    "Menggunakan method 'trapz' dengan nilai $y$ adalah 'start_station_lattitude' pada interval $x$ dari 'start_station_longitude'."
   ]
  },
  {
   "cell_type": "code",
   "execution_count": 78,
   "metadata": {},
   "outputs": [
    {
     "name": "stdout",
     "output_type": "stream",
     "text": [
      "Luas area yang dilingkup stasiun awal sebesar 2.03 square degree. \n"
     ]
    }
   ],
   "source": [
    "area = integrate.trapz(df_coor_stations['start_station_latitude'],df_coor_stations['start_station_longitude'])\n",
    "print(f'Luas area yang dilingkup stasiun awal sebesar {round(area,2)} square degree. ')"
   ]
  },
  {
   "cell_type": "markdown",
   "metadata": {},
   "source": [
    "#### a. Terdapat 2 jenis integral yaitu definite dan indefinite. Jenis integral apa yang kamu gunakan untuk kasus ini? Berikan alasanmu!"
   ]
  },
  {
   "cell_type": "markdown",
   "metadata": {},
   "source": [
    "Jenis integral yang saya terapkan disini adalah integral **definite**. Hasil yang didapat dari integral definite berbentuk $\\int_a^b \\! f(x) \\, \\mathrm{d}x$ adalah luas yang dibatasi oleh kurva $f(x)$ dan sumbu $x$ dari $x=a$ (batas bawah) hingga $x=b$ (batas atas). Sedangkan apabila kita terapkan integral indefinite kita akan mendapatkan hasil berupa fungsi."
   ]
  },
  {
   "cell_type": "markdown",
   "metadata": {},
   "source": [
    "#### b. Terdapat dua metode dalam perhitungan integral yaitu simbolik dan numerik. Mana yang kamu gunakan untuk kasus ini dan mengapa?"
   ]
  },
  {
   "cell_type": "markdown",
   "metadata": {},
   "source": [
    "Metode perhitungan integral yang digunakan dalam kasus ini adalah **integral numerik**. Karena nilai fungsi kita (station latitude) hanya terdapat di beberapa titik saja, kita tidak mengetahui ekspresi atau formula fungsi tersebut terhadap longitude. Namun kita bisa tetap memprediksi luas permukaan tersebut dengan integral numerik, salah satunya adalah metode trapesium, dimana perkiraan luas adalah total luas trapesium-trapesium yang dibentuk berdasarkan titik-titik yang kita dapatkan dari data."
   ]
  },
  {
   "cell_type": "markdown",
   "metadata": {},
   "source": [
    "#### c. Apakah diperlukan mendefinisikan fungsi matematis (seperti $f(x) = x^2+2$) pada kasus ini? Berikan penjelasan dan alasanmu!"
   ]
  },
  {
   "cell_type": "markdown",
   "metadata": {},
   "source": [
    "**Tidak PERLU**. Karena kita dapat memperkirakan luas dengan integral numerik yang mana tidak memerlukan ekspresi atau formula fungsi seperti contoh $f(x)=x^2+2$. Dengan berbagai metode matematika numerik seperti interpolasi polinomial dan sebagainya, kita bisa dapat mencari suatu ekspresi formula $f(x)$ dari titik-titik data, lalu setelahnya diterapkan integral simbolik definite untuk mencari luas tersebut. Namun hal tersebut akan memakan waktu lebih lama dan komputasi yang lebih berat."
   ]
  }
 ],
 "metadata": {
  "kernelspec": {
   "display_name": "Python 3.8.13 ('base')",
   "language": "python",
   "name": "python3"
  },
  "language_info": {
   "codemirror_mode": {
    "name": "ipython",
    "version": 3
   },
   "file_extension": ".py",
   "mimetype": "text/x-python",
   "name": "python",
   "nbconvert_exporter": "python",
   "pygments_lexer": "ipython3",
   "version": "3.8.13"
  },
  "orig_nbformat": 4,
  "vscode": {
   "interpreter": {
    "hash": "632d2d5b8a97db3f76bb862f926947aa7578c9985e2122ffe2fc4083542bd2e7"
   }
  }
 },
 "nbformat": 4,
 "nbformat_minor": 2
}
