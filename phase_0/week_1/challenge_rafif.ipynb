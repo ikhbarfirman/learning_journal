{
 "cells": [
  {
   "cell_type": "code",
   "execution_count": 1,
   "metadata": {},
   "outputs": [],
   "source": [
    "def word_detection(word, sentence):\n",
    "    if word.lower() in sentence.lower():\n",
    "        words = sentence.lower().split(' ')\n",
    "        for k in range(len(words)):\n",
    "            if words[k] == word.lower():\n",
    "                print(f'kata {word} berada di kata ke-{k+1} pada kalimat ini')\n",
    "    else: print(f\"kata '{word}' tidak terdapat pada kalimat ini\")\n"
   ]
  }
 ],
 "metadata": {
  "kernelspec": {
   "display_name": "Python 3.8.13 ('base')",
   "language": "python",
   "name": "python3"
  },
  "language_info": {
   "codemirror_mode": {
    "name": "ipython",
    "version": 3
   },
   "file_extension": ".py",
   "mimetype": "text/x-python",
   "name": "python",
   "nbconvert_exporter": "python",
   "pygments_lexer": "ipython3",
   "version": "3.8.13"
  },
  "orig_nbformat": 4,
  "vscode": {
   "interpreter": {
    "hash": "632d2d5b8a97db3f76bb862f926947aa7578c9985e2122ffe2fc4083542bd2e7"
   }
  }
 },
 "nbformat": 4,
 "nbformat_minor": 2
}
