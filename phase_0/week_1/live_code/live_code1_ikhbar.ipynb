{
 "cells": [
  {
   "cell_type": "markdown",
   "metadata": {},
   "source": [
    "## Identitas\n",
    "Nama : Ikhbar Firman Hanafi\n",
    "\n",
    "Batch: 14"
   ]
  },
  {
   "cell_type": "markdown",
   "metadata": {},
   "source": [
    "## Soal 1 \n",
    "\n",
    "1. Kamu adalah seorang data scientist yang bekerja di salah satu perusahaan manufaktur baterai Lithium ion. Tim produksi meminta kamu untuk mengecek apakah baterai yang mereka buat dalam kondisi bagus atau tidak. Sebelum melakukan pengecekan lebih lanjut, kamu diminta untuk menghitung hambatan/resistansi dan Daya setiap detik:\n",
    "\n",
    "\n",
    "<p align=\"center\"><img src=\"https://latex.codecogs.com/png.latex?R=\\frac{V}{I}\" title=\"R=\\frac{V}{I}\" /></p>\n",
    "\n",
    "\n",
    "<p align=\"center\"><img src=\"https://latex.codecogs.com/png.latex?P=VI\" title=\"P=VI\" class=\"center\" /></p>\n",
    "\n",
    "- R adalah Hambatan dalam satuan Ohm\n",
    "- P adalah Daya dalam Watt\n",
    "- I adalah kuat arus dalam satuan Ampere\n",
    "- V adalah tegangan dalam satuan Volt\n",
    "\n",
    "a. Buatlah dua fungsi eksplisit masing-masing memuat perhitungan hambatan (R) dan daya (P) yang nantinya akan digunakan untuk perhitungan\n",
    "\n",
    "b. Buat kolom baru dengan nama kolom R/P berisikan hasil perhitungan daya/hambatan dengan kriteria untuk Kapasitas >=2.5 hitung daya, Kapasitas <2.5 hitung nilai hambatan. (**Hint:** Gunakan for loop dan if statement untuk mengerjakan perintah nomor b, kamu bisa menggunakan list untuk menyimpan perhitungan sementara, setelahnya dapat dimasukkan ke kolom R/P).\n",
    "\n",
    "c. Hitunglah rata-rata nilai kapasitas untuk arus = 1 Ampere dan cycle ganjil.\n",
    "\n",
    "### Dataset\n",
    "Dataset dapat diakses pada link berikut: https://github.com/fahmimnalfrzki/Dataset/blob/main/NMC1-9.xlsx?raw=true\n",
    "\n",
    "**Keterangan kolom:**\n",
    "- time(s): Detik ke- pengukuran\n",
    "- V_m: Voltage/tegangan yang terukur tiap waktu\n",
    "- Current (A): Kuat arus terukur tiap waktu\n",
    "- Cycle: Nomor siklus charge-discharge baterai\n",
    "- Cap: Kapasitas baterai tiap waktu"
   ]
  },
  {
   "cell_type": "markdown",
   "metadata": {},
   "source": [
    "### Import library"
   ]
  },
  {
   "cell_type": "code",
   "execution_count": null,
   "metadata": {},
   "outputs": [],
   "source": [
    "import pandas as pd\n",
    "import numpy as np"
   ]
  },
  {
   "cell_type": "markdown",
   "metadata": {},
   "source": [
    "### Data Loading dan Eksplorasi Data"
   ]
  },
  {
   "cell_type": "markdown",
   "metadata": {},
   "source": [
    "Memasukkan data ke DataFrame menggunakan 'pandas'"
   ]
  },
  {
   "cell_type": "code",
   "execution_count": null,
   "metadata": {},
   "outputs": [],
   "source": [
    "data = pd.read_excel('NMC1-9.xlsx')"
   ]
  },
  {
   "cell_type": "markdown",
   "metadata": {},
   "source": [
    "Kita coba lihat sekilas data kita."
   ]
  },
  {
   "cell_type": "code",
   "execution_count": null,
   "metadata": {},
   "outputs": [],
   "source": [
    "data.head(7) # Menampilkan 7 baris data pertama"
   ]
  },
  {
   "cell_type": "code",
   "execution_count": null,
   "metadata": {},
   "outputs": [],
   "source": [
    "data.info() #Menampilkan banyaknya missing value di tiap kolom beserta tipe datanya."
   ]
  },
  {
   "cell_type": "code",
   "execution_count": null,
   "metadata": {},
   "outputs": [],
   "source": [
    "data.describe() # Melihat berbagai nilai statistik pada kolom data numerik"
   ]
  },
  {
   "cell_type": "markdown",
   "metadata": {},
   "source": [
    "Kita lihat dari semua fitur/kolom tidak ada yang memiliki 'missing value', dan type data di masing-masing fitur telah sesuai."
   ]
  },
  {
   "cell_type": "markdown",
   "metadata": {},
   "source": [
    "### Answer"
   ]
  },
  {
   "cell_type": "markdown",
   "metadata": {},
   "source": [
    "### a. Membuat fungsi R dan P"
   ]
  },
  {
   "cell_type": "code",
   "execution_count": null,
   "metadata": {},
   "outputs": [],
   "source": [
    "def resistance(v,i):\n",
    "    r = v/i\n",
    "    return r\n",
    "\n",
    "def power(v,i):\n",
    "    p = v*i\n",
    "    return p"
   ]
  },
  {
   "cell_type": "markdown",
   "metadata": {},
   "source": [
    "### b. Membuat kolom 'R/P'"
   ]
  },
  {
   "cell_type": "markdown",
   "metadata": {},
   "source": [
    "Berikutnya kita akan membuat suatu list yang berisikan nilai daya untuk kapasitas >= 2.5 dan nilai hambatan untuk kapasitas < 2.5."
   ]
  },
  {
   "cell_type": "code",
   "execution_count": null,
   "metadata": {},
   "outputs": [],
   "source": [
    "r_p = []\n",
    "for k in range(len(data)):\n",
    "    if data['Cap'].iloc[k] >= 2.5:\n",
    "        daya = power(data['V_m'].iloc[k],data['Current (A)'].iloc[k]) #menghitung daya tiap baris\n",
    "        r_p.append(daya) #memasukkan daya ke dalam list r_p\n",
    "    else:\n",
    "        hambatan = resistance(data['V_m'].iloc[k],data['Current (A)'].iloc[k]) #menghitung hambatan tiap baris\n",
    "        r_p.append(hambatan) #memasukkan nilai hambatan ke dalam list r_p"
   ]
  },
  {
   "cell_type": "markdown",
   "metadata": {},
   "source": [
    "Kita coba cek nilai-nilai kapasitas baterai yang ada di data."
   ]
  },
  {
   "cell_type": "code",
   "execution_count": null,
   "metadata": {},
   "outputs": [],
   "source": [
    "print(data['Cap'].unique())\n",
    "print(data['Cap'].unique() < 2.5)"
   ]
  },
  {
   "cell_type": "markdown",
   "metadata": {},
   "source": [
    "Berikutnya kita coba terapkan 'describe' pada kolom data 'Cap' untuk melihat nilai minimum dan maksimum datanya."
   ]
  },
  {
   "cell_type": "code",
   "execution_count": null,
   "metadata": {},
   "outputs": [],
   "source": [
    "data.describe()['Cap']"
   ]
  },
  {
   "cell_type": "markdown",
   "metadata": {},
   "source": [
    "Dari penjabaran data kapasitas di atas terlihat bahwa nilai minimum 2.77, maka tidak ada nilai kapasitas di data yang di bawah 2.5. Secara tidak langsung kolom 'R/P' yang kita buat hanya akan mengkalkulasikan daya (P). \n",
    "\n",
    "Sekarang kita coba memasukkan kolom 'R/P' ke DataFrame."
   ]
  },
  {
   "cell_type": "code",
   "execution_count": null,
   "metadata": {},
   "outputs": [],
   "source": [
    "data['R/P'] = pd.Series(r_p) #Membuat series yang berisikan list r_p sebelumnya dan menjadikannya kolom 'R/P'\n",
    "data.head() # Menampilkan 5 baris awal di DataFrame"
   ]
  },
  {
   "cell_type": "markdown",
   "metadata": {},
   "source": [
    "### c. Menghitung rata-rata nilai kapasitas untuk arus = 1 Ampere dan cycle ganjil."
   ]
  },
  {
   "cell_type": "markdown",
   "metadata": {},
   "source": [
    "Membuat suatu filter yang berisikan boolean series berdasarkan kriteria."
   ]
  },
  {
   "cell_type": "code",
   "execution_count": null,
   "metadata": {},
   "outputs": [],
   "source": [
    "mask_a1_ganjil = (data['Current (A)'] == 1) & (data['Cycle'] % 2 == 1)"
   ]
  },
  {
   "cell_type": "code",
   "execution_count": null,
   "metadata": {},
   "outputs": [],
   "source": [
    "print(f' Terdapat {sum(mask_a1_ganjil)} baris yang sesuai kriteria')"
   ]
  },
  {
   "cell_type": "markdown",
   "metadata": {},
   "source": [
    "Kita coba cek apakah sudah sesuai."
   ]
  },
  {
   "cell_type": "code",
   "execution_count": null,
   "metadata": {},
   "outputs": [],
   "source": [
    "data[mask_a1_ganjil]"
   ]
  },
  {
   "cell_type": "code",
   "execution_count": null,
   "metadata": {},
   "outputs": [],
   "source": [
    "print(data[mask_a1_ganjil]['Cycle'].unique()) # Cek apakah cycle di data sudah ganji"
   ]
  },
  {
   "cell_type": "markdown",
   "metadata": {},
   "source": [
    "Terlihat bahwa nilai arus = 1 dan cycle ganjil. Maka kita bisa segera mencari rata-rata kapsitas baterai sesuai kriteria."
   ]
  },
  {
   "cell_type": "markdown",
   "metadata": {},
   "source": [
    "Mencari rata-rata kapasitas sesuai kriteria."
   ]
  },
  {
   "cell_type": "code",
   "execution_count": null,
   "metadata": {},
   "outputs": [],
   "source": [
    "avg_cap_mask = data[mask_a1_ganjil]['Cap'].mean()\n",
    "print(f'Nilai rata-rata kapasitas untuk arus = 1 Ampere dan cycle ganjil adalah {round(avg_cap_mask,2)}.')"
   ]
  },
  {
   "cell_type": "markdown",
   "metadata": {},
   "source": [
    "### Hasil"
   ]
  },
  {
   "cell_type": "markdown",
   "metadata": {},
   "source": [
    "a. Fungsi untuk menghitung hambatan dan daya telah dibuat dengan nama resistance dan power dengan parameter tegangan v, dan arus i.\n",
    "\n",
    "b. Kolom 'R/P' telah dimasukkan ke data.\n",
    "\n",
    "c. Nilai rata-rata kapasitas untuk arus = 1 Ampere dan cycle ganjil adalah 2.81."
   ]
  }
 ],
 "metadata": {
  "kernelspec": {
   "display_name": "Python 3.8.13 ('base')",
   "language": "python",
   "name": "python3"
  },
  "language_info": {
   "codemirror_mode": {
    "name": "ipython",
    "version": 3
   },
   "file_extension": ".py",
   "mimetype": "text/x-python",
   "name": "python",
   "nbconvert_exporter": "python",
   "pygments_lexer": "ipython3",
   "version": "3.8.13"
  },
  "orig_nbformat": 4,
  "vscode": {
   "interpreter": {
    "hash": "632d2d5b8a97db3f76bb862f926947aa7578c9985e2122ffe2fc4083542bd2e7"
   }
  }
 },
 "nbformat": 4,
 "nbformat_minor": 2
}
