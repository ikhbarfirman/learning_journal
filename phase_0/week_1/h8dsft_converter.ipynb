{
 "cells": [
  {
   "cell_type": "code",
   "execution_count": 1,
   "metadata": {},
   "outputs": [],
   "source": [
    "def conv_K_to_C(k):\n",
    "    c = k - 273.15 #mengubah kelvin ke celcius\n",
    "    return round(c,2) #pembulatan desimal dua digit"
   ]
  },
  {
   "cell_type": "code",
   "execution_count": 2,
   "metadata": {},
   "outputs": [],
   "source": [
    "def conv_C_to_K(c):\n",
    "    k = c + 273.15 #mengubah kelvin menjadi celcius\n",
    "    return round(k,2) #pembulatan desimal dua digit"
   ]
  },
  {
   "cell_type": "code",
   "execution_count": 3,
   "metadata": {},
   "outputs": [],
   "source": [
    "def conv_to_F(temp,unit):\n",
    "    if unit.lower() == 'celcius':  #apabila unit temprature adalah celcius\n",
    "        f = (9/5)*temp + 32 #mengubah celcius ke fahrenheit\n",
    "        return round(f,2)\n",
    "    elif unit.lower() == 'kelvin': #apabila unit temprature adalah kelvin\n",
    "        c = conv_K_to_C(temp) #mengubah menjadi celcius terlebih dahulu menggunakan fungsi sebelumnya conv_K_C\n",
    "        f = (9/5)*c + 32 #mengubah celcius menjadi fahrenheit\n",
    "        return round(f,2) #pembulatan desimal dua digit\n",
    "    else: print('input temprature dalam bilangan, dan unit dalam celcius atau kelvin')"
   ]
  },
  {
   "cell_type": "code",
   "execution_count": 4,
   "metadata": {},
   "outputs": [],
   "source": [
    "def conv_from_F(f):\n",
    "    c = round((5/9)*(f-32),2) #mengubah fahrenheit menjadi celcius\n",
    "    k = round(conv_C_to_K(c),2)  #mengubah celcius menjadi Kelvin\n",
    "    print(f'{c} derajat celcius, {k} K') #print hasil dalam celcius maupun Kelvin\n",
    "    return c,k\n"
   ]
  }
 ],
 "metadata": {
  "kernelspec": {
   "display_name": "Python 3.8.13 ('base')",
   "language": "python",
   "name": "python3"
  },
  "language_info": {
   "codemirror_mode": {
    "name": "ipython",
    "version": 3
   },
   "file_extension": ".py",
   "mimetype": "text/x-python",
   "name": "python",
   "nbconvert_exporter": "python",
   "pygments_lexer": "ipython3",
   "version": "3.8.13"
  },
  "orig_nbformat": 4,
  "vscode": {
   "interpreter": {
    "hash": "632d2d5b8a97db3f76bb862f926947aa7578c9985e2122ffe2fc4083542bd2e7"
   }
  }
 },
 "nbformat": 4,
 "nbformat_minor": 2
}
