{
 "cells": [
  {
   "cell_type": "markdown",
   "metadata": {},
   "source": [
    "# Analisis Pokemon dari Berbagai Jenis"
   ]
  },
  {
   "cell_type": "markdown",
   "metadata": {},
   "source": [
    "Nama: Ikhbar Firman Hanafi\n",
    "\n",
    "Batch: 14"
   ]
  },
  {
   "cell_type": "markdown",
   "metadata": {},
   "source": [
    "## Description"
   ]
  },
  {
   "cell_type": "markdown",
   "metadata": {},
   "source": [
    "Pokemon yang merupakan singkatan dari 'pocket monster' banyak digemari oleh berbagai kalangan, baik dari film, kartu hingga video games. Berdasarkan wikipedia terdapat sekitar 900 pokemon dari berbagai jenis, seperti: type, generation, legendary, serta memiliki stat dan kemampuan yang berbeda-beda. Terdapat banyak sekali perdebatan dalam membandingkan pokemon mana yang lebih kuat, seperti pada pernyataan berikut:\n",
    "\n",
    "'Pokemon mana yang memiliki serangan terkuat?'\n",
    "\n",
    "'Pokemon legendary lebih kuat dari pokemon non legendary.'\n",
    "\n",
    "Berdasarkan hal tersebut, peneliti tertarik untuk mengetahui fakta dari perdebatan dan pernyataan terkait jenis-jenis pokemon tersebut. Peniliti memilih untuk meninjau pokemon: \n",
    "1. single type dan dual type\n",
    "2. legendary dan non legendary\n",
    "3. yang memiliki atribut/stat serangan dan pertahanan terkuat.\n",
    "\n",
    "Peniliti mengambil data mengenai pokemon dari https://www.kaggle.com/datasets/abcsds/pokemon. Adapun berikut penjelasan data tersebut:\n",
    "\n",
    "This dataset includes 721 Pokemon, including their number, name, first and second type, and basic stats: HP, Attack, Defense, Special Attack, Special Defense, and Speed.\n",
    "\n",
    "The feature of this data is:\n",
    "\n",
    "- #: ID for each pokemon\n",
    "- Name: Name of each pokemon\n",
    "- Type 1: Each pokemon has a type, this determines weakness/resistance to attacks\n",
    "- Type 2: Some pokemon are dual type and have 2\n",
    "- Total: sum of all stats that come after this, a general guide to how strong a pokemon is\n",
    "- HP: hit points, or health, defines how much damage a pokemon can withstand before fainting\n",
    "- Attack: the base modifier for normal attacks (eg. Scratch, Punch)\n",
    "- Defense: the base damage resistance against normal attacks\n",
    "- SP Atk: special attack, the base modifier for special attacks (e.g. fire blast, bubble beam)\n",
    "- SP Def: the base damage resistance against special attacks\n",
    "- Speed: determines which pokemon attacks first each round"
   ]
  },
  {
   "cell_type": "markdown",
   "metadata": {},
   "source": [
    "### Objective"
   ]
  },
  {
   "cell_type": "markdown",
   "metadata": {},
   "source": [
    "1. Mengetahui perbedaan antara pokemon single type dan dual type\n",
    "2. Mengetahui pokemon yang lebih kuat pada pokemon dual type dan pokemon single type\n",
    "3. Mengetahui pokemon yang memiliki penyerangan terkuat\n",
    "3. Mengetahui pokemon yang memiliki pertahanan terkuat\n",
    "4. Mengetahui perbedaan antara pokemon legendary dan non legendary\n",
    "5. Mengetahui pokemon yang lebih kuat pada pokemon legendary dan pokemon non legendary."
   ]
  },
  {
   "cell_type": "markdown",
   "metadata": {},
   "source": [
    "### Problem Statement"
   ]
  },
  {
   "cell_type": "markdown",
   "metadata": {},
   "source": [
    "Rumusan masalah:\n",
    "\n",
    "1. Bagaimana perbedaan antara pokemon single type dan dual type?\n",
    "2. Apakah pokemon dual type lebih kuat dibanding pokemon single type?\n",
    "3. Apa pokemon yang memiliki penyerangan terkuat?\n",
    "3. Apa pokemon yang memiliki pertahanan terkuat?\n",
    "4. Bagaimana perbedaan antara pokemon legendary dan non legendary?\n",
    "5. Apakah pokemon legendary lebih kuat dari pada pokemon non legendary?\n",
    "\n",
    "Batasan masalah:\n",
    "\n",
    "Penelitian ini bersifat deskriptif yang cenderung pada pemaparan data dan pada proses analisis dilakukan dengan statistik sederhana. Peneliti tidak memiliki wawasan yang luas mengenai pokemon, sehingga proses penelitian ini hingga penarikan kesimpulannya hanya berdasarkan data saja."
   ]
  },
  {
   "cell_type": "markdown",
   "metadata": {},
   "source": [
    "## Working Area"
   ]
  },
  {
   "cell_type": "markdown",
   "metadata": {},
   "source": [
    "Pertama kita akan import libraries yang diperlukan, yaitu Numpy dan Pandas."
   ]
  },
  {
   "cell_type": "code",
   "execution_count": null,
   "metadata": {},
   "outputs": [],
   "source": [
    "import numpy as np\n",
    "import pandas as pd"
   ]
  },
  {
   "cell_type": "markdown",
   "metadata": {},
   "source": [
    "Load data dan membuat DataFrame dari file data CSV"
   ]
  },
  {
   "cell_type": "code",
   "execution_count": null,
   "metadata": {},
   "outputs": [],
   "source": [
    "data = pd.read_csv('Pokemon.csv')"
   ]
  },
  {
   "cell_type": "markdown",
   "metadata": {},
   "source": [
    "Kita coba sekilas melihat 10 baris data pertama."
   ]
  },
  {
   "cell_type": "code",
   "execution_count": null,
   "metadata": {},
   "outputs": [],
   "source": [
    "data.head(10)"
   ]
  },
  {
   "cell_type": "markdown",
   "metadata": {},
   "source": [
    "Dari pengamatan 10 baris pertama, didapatkan:\n",
    "1. Dari deskripsi data, kolom # menandakan 'ID' pokemon.\n",
    "\n",
    "    Dari pengamatan pokemon dengan ID yang sama menandakan evolusinya.\n",
    "\n",
    "    Seperti 'Charizard', 'CharizardMega Charizard X', dan 'CharizardMega Charizard Y' kesemuanya memiliki ID yang sama yaitu 6.\n",
    "2. Penulisan nama pokemon yang mengandung 'Mega' perlu dirapihkan dengan menghilangkan huruf-furuf sebelum 'mega'. \n",
    "\n",
    "    misal 'CharizardMega Charizard X' menjadi 'Mega Charizard X'.\n",
    "3. Terdapat Nan pada kolom type 2. Berdasarkan deskripsi data kemungkinan Nan disini bukanlah missing value,\n",
    "\n",
    "    melainkan pokemon dengan type 2 Nan berarti hanya memiliki satu type (bukan dual type). \n",
    "    \n",
    "    Agar tidak membingungkan penulisan 'Nan' pada type 2 akan diganti menjadi 'None'.\n",
    "4. Kolom 'Total' menandakan total stat, agar lebih jelas kolom 'Total' akan diganti menjadi 'Total Stat'."
   ]
  },
  {
   "cell_type": "code",
   "execution_count": null,
   "metadata": {},
   "outputs": [],
   "source": [
    "data.info()"
   ]
  },
  {
   "cell_type": "markdown",
   "metadata": {},
   "source": [
    "Dari info data di atas, dari total 800 data hanya terdapat kolom 'Type 2' saja yang terdeteksi missing value.\n",
    "\n",
    "Nan pada type 2 bukanlah missing value melainkan menandakan pokemon tidak memiliki dual type. Kolom lain telah memiliki Dtype yang sesuai.\n",
    "\n",
    "Berikutnya kita akan coba mengganti 'Nan' menjadi 'None' pada kolom Type 2. Sebelum itu kita coba cek berapa banyak 'nan' di Type 2."
   ]
  },
  {
   "cell_type": "code",
   "execution_count": null,
   "metadata": {},
   "outputs": [],
   "source": [
    "data['Type 2']"
   ]
  },
  {
   "cell_type": "code",
   "execution_count": null,
   "metadata": {},
   "outputs": [],
   "source": [
    "print(data['Type 2'].unique()) # Melihat jenis-jenis pokemon yang ada di Type 2\n",
    "print(f'Total jenis Type 2 ada sebanyak {data[\"Type 2\"].nunique()} tidak termasuk \"nan\"')\n",
    "print(f'Terdapat {sum(data[\"Type 2\"].isnull())} nan')"
   ]
  },
  {
   "cell_type": "markdown",
   "metadata": {},
   "source": [
    "Dari pemaparan di atas, terdapat 1 jenis object nan pada Type 2, selebihnya memiliki type str. \n",
    "\n",
    "Kita akan ganti nan tersebut dengan data string 'None'."
   ]
  },
  {
   "cell_type": "code",
   "execution_count": null,
   "metadata": {},
   "outputs": [],
   "source": [
    "filter_null_type2 = data[\"Type 2\"].isnull() # Membuat suatu array yang berisikan True apabila 'Nan', dan False apabila bukan 'Nan'.\n",
    "data[\"Type 2\"][filter_null_type2] = 'None' # Mengubah 'Nan' pada kolom Type 2 menjadi str \"None\""
   ]
  },
  {
   "cell_type": "markdown",
   "metadata": {},
   "source": [
    "Cek apakah masih terdeteksi missing value pada kolom Type 2."
   ]
  },
  {
   "cell_type": "code",
   "execution_count": null,
   "metadata": {},
   "outputs": [],
   "source": [
    "print(data['Type 2'].isnull().any()) #Pengecekan apakah masih terdeteksi missing value pada kolom Type 2\n",
    "data['Type 2'].astype('category') #Mengubah dtype menjadi category apabila diinginkan"
   ]
  },
  {
   "cell_type": "markdown",
   "metadata": {},
   "source": [
    "Berikutnya kita akan coba merapihkan nama pokemon yang mengandung 'Mega', misal :\n",
    "\n",
    "'VenusaurMega Venusaur' akan kita ganti menjadi 'Mega Venusaur'."
   ]
  },
  {
   "cell_type": "code",
   "execution_count": null,
   "metadata": {},
   "outputs": [],
   "source": [
    "# Buat fungsi untuk menghilangkan karakter sebelum \"mega\"\n",
    "def del_before_mega(a):\n",
    "    a_list = a.lower().split(' ')\n",
    "    for k in range(len(a_list)):\n",
    "        if 'mega' in a_list[k]:\n",
    "            a_list[k] = a_list[k][-4:]\n",
    "    a_new = ' '.join(a_list)\n",
    "    return a_new.title()\n",
    "# Contohnya pada 'VenusaurMega Venusaur':\n",
    "print(del_before_mega('VenusaurMega Venusaur'))"
   ]
  },
  {
   "cell_type": "markdown",
   "metadata": {},
   "source": [
    "Kita akan terapkan fungsi tersebut pada kolom Name"
   ]
  },
  {
   "cell_type": "code",
   "execution_count": null,
   "metadata": {},
   "outputs": [],
   "source": [
    "data['Name'] = data['Name'].apply(del_before_mega)"
   ]
  },
  {
   "cell_type": "code",
   "execution_count": null,
   "metadata": {},
   "outputs": [],
   "source": [
    "# Cek apakah fungsi tersebut sudah diterapkan dengan benar\n",
    "data.head(10)"
   ]
  },
  {
   "cell_type": "markdown",
   "metadata": {},
   "source": [
    "Terlihat pada index 7 dan 8 yang sebelumnya nama pokemon 'CharizardMega Charizard' telah berubah menjadi 'Mega Charizard'"
   ]
  },
  {
   "cell_type": "markdown",
   "metadata": {},
   "source": [
    "Berikutnya kita akan mengganti nama kolom berikut:\n",
    "\n",
    "'#' -> 'ID'\n",
    "\n",
    "'Total' -> 'Total Stat'"
   ]
  },
  {
   "cell_type": "code",
   "execution_count": null,
   "metadata": {},
   "outputs": [],
   "source": [
    "data.rename(columns = {'#':'ID', 'Total':'Total Stat'}, inplace = True) #Mengganti nama kolom\n",
    "data.head()"
   ]
  },
  {
   "cell_type": "markdown",
   "metadata": {},
   "source": [
    "Kita akan coba meninjau pokemon single type dan dual type berdasarkan fitur \"Type 1\" dan \"Type 2\"."
   ]
  },
  {
   "cell_type": "code",
   "execution_count": null,
   "metadata": {},
   "outputs": [],
   "source": [
    "# Mengetahui banyaknya pokemon single type dan dual type\n",
    "\n",
    "mask_none = data['Type 2'] == 'None' #Membuat suatu array yang berisikan Boolean dimana baris dengan data 'None' akan menjadi True, jika tidak 'False'\n",
    "print(f'Banyak pokemon dengan single type adalah {sum(mask_none)}')\n",
    "print(f'Banyak pokemon dengan dual type adalah {len(data) - sum(mask_none)}')"
   ]
  },
  {
   "cell_type": "markdown",
   "metadata": {},
   "source": [
    "Banyak pokemon single type adalah 386, yang mana sesuai dengan jumlah null/Nan yang terdeteksi sebelumnya."
   ]
  },
  {
   "cell_type": "markdown",
   "metadata": {},
   "source": [
    "Dapat dilihat pokemon dual type lebih banyak dari pokemon single type. Berikutnya kita akan coba melihat berapa banyak jenis pokemon dari single type maupun dual type dengan Diagram Bar Chart berikut:"
   ]
  },
  {
   "cell_type": "code",
   "execution_count": null,
   "metadata": {},
   "outputs": [],
   "source": [
    "#Visualisasi pokemon Single Type\n",
    "data[mask_none]['Type 1'].value_counts().plot(ylabel = 'Count',title = 'Single Type',kind = 'bar')"
   ]
  },
  {
   "cell_type": "code",
   "execution_count": null,
   "metadata": {},
   "outputs": [],
   "source": [
    "#Visualisasi pokemon Dual Type\n",
    "data[~mask_none]['Type 1'].value_counts().plot(xlabel = 'Type 1',ylabel='Count',title = 'Dual type',alpha = 0.8,color = 'orange',kind = 'bar')"
   ]
  },
  {
   "cell_type": "markdown",
   "metadata": {},
   "source": [
    "Dari kedua grafik tersebut dapat dilihat bahwa pokemon single type terbanyak adalah tipe 'Normal' dan 'Water'. Sedangkan pokemon dual type terbanyak adalah pokemon dengan Type 1 'Water' dan 'Bug'."
   ]
  },
  {
   "cell_type": "markdown",
   "metadata": {},
   "source": [
    "Berikutnya kita akan melihat pokemon yang lebih kuat dari single type atau dual type berdasarkan rata-rata 'Total Stat'."
   ]
  },
  {
   "cell_type": "code",
   "execution_count": null,
   "metadata": {},
   "outputs": [],
   "source": [
    "print(f'Mean \"Total Stat\" dari single type adalah {round(data[mask_none][\"Total Stat\"].mean(),2)}')\n",
    "print(f'Mean \"Total Stat\" dari dual type adalah {round(data[~mask_none][\"Total Stat\"].mean(),2)}')"
   ]
  },
  {
   "cell_type": "markdown",
   "metadata": {},
   "source": [
    "Berdasarkan rata-rata Total Stat terlihat mean dual type = 456.63 > mean single type = 412.02. Untuk lebih spesifiknya kita akan membandingkan stat dari single type dan dual type pada grafik berikut."
   ]
  },
  {
   "cell_type": "code",
   "execution_count": null,
   "metadata": {},
   "outputs": [],
   "source": [
    "data.iloc[:,5:-2][mask_none].mean().rename(index = 'Single Type').plot(ylabel = 'Mean',legend = True)\n",
    "data.iloc[:,5:-2][~mask_none].mean().rename(index = 'Dual Type').plot(color = 'red',legend = True)"
   ]
  },
  {
   "cell_type": "markdown",
   "metadata": {},
   "source": [
    "Berdasarkan grafik tersebut, mean dari tiap stat pada pokemon dual type lebih besar dari pokemon single type."
   ]
  },
  {
   "cell_type": "markdown",
   "metadata": {},
   "source": [
    "Selanjutnya kita akan coba mengetahui nama beserta generasi pokemon dengan serangan terkuat dan pertahanan terkuat."
   ]
  },
  {
   "cell_type": "markdown",
   "metadata": {},
   "source": [
    "Kita akan coba melihat pokemon dengan serangan terkuat dengan meninjau stat 'Attack' dan 'Sp. Atk'."
   ]
  },
  {
   "cell_type": "code",
   "execution_count": null,
   "metadata": {},
   "outputs": [],
   "source": [
    "#Top 3 pokemon Attack tertinggi\n",
    "top_att = data[['Name','Attack','Sp. Atk','Generation']].sort_values('Attack',ascending = False)[:3]\n",
    "top_att"
   ]
  },
  {
   "cell_type": "code",
   "execution_count": null,
   "metadata": {},
   "outputs": [],
   "source": [
    "#Top 3 pokemon Sp. Atk tertinggi\n",
    "top_spatk = data[['Name','Attack','Sp. Atk','Generation']].sort_values('Sp. Atk',ascending = False)[:3]\n",
    "top_spatk"
   ]
  },
  {
   "cell_type": "markdown",
   "metadata": {},
   "source": [
    "Dari pemaparan di atas terlihat Mega Mewtwo X memiliki Atttack tertinggi, sedangkan Mega Mewtwo Y memiliki Sp. Atk tertinggi. Keduanya berasal dari generasi 1 dan memiliki total Attck dan Sp. Atk yang sama yaitu 344. Mari kita lihat kedua stat pokemon tersebut dengan Grafik berikut."
   ]
  },
  {
   "cell_type": "code",
   "execution_count": null,
   "metadata": {},
   "outputs": [],
   "source": [
    "# Visualisasi Bar Chart stat pada pokemon Mega Mewtwo X dan Mega Mewtwo Y\n",
    "\n",
    "data.set_index('Name').iloc[[163,164],5:-2].transpose().plot(title = 'Comparison Stat',kind = 'bar', legend = True)"
   ]
  },
  {
   "cell_type": "markdown",
   "metadata": {},
   "source": [
    "Berdasarkan grafik tersebut tidak terlihat perbedaan stat yang signifikan antara Mega Mewtwo X maupun Mega Mewtwo Y. Mega Mewtwo X lebih unggul dalam stat Attack dan Defense, sedangkan Mega Mewtwo Y lebih unggul dalam Special attack dan defense."
   ]
  },
  {
   "cell_type": "markdown",
   "metadata": {},
   "source": [
    "Kita akan coba melihat pokemon dengan pertahanan terkuat dengan meninjau stat 'HP', 'Defense', dan 'Sp. Def'."
   ]
  },
  {
   "cell_type": "code",
   "execution_count": null,
   "metadata": {},
   "outputs": [],
   "source": [
    "#Top 3 pokemon Defense tertinggi\n",
    "top_def = data[['Name','HP','Defense','Sp. Def','Generation']].sort_values('Defense',ascending = False)[:3]\n",
    "top_def"
   ]
  },
  {
   "cell_type": "code",
   "execution_count": null,
   "metadata": {},
   "outputs": [],
   "source": [
    "#Top 3 pokemon Sp. Def tertinggi\n",
    "top_spdef = data[['Name','HP','Defense','Sp. Def','Generation']].sort_values('Sp. Def',ascending = False)[:3]\n",
    "top_spdef"
   ]
  },
  {
   "cell_type": "code",
   "execution_count": null,
   "metadata": {},
   "outputs": [],
   "source": [
    "#Top 3 pokemon HP tertinggi\n",
    "top_hp = data[['Name','HP','Defense','Sp. Def','Generation']].sort_values('HP',ascending = False)[:3]\n",
    "top_hp"
   ]
  },
  {
   "cell_type": "markdown",
   "metadata": {},
   "source": [
    "Berdasarkan penjabaran di atas pokemon Shuckle memiliki stat tertinggi sebesar 230 dalam defense maupun sp.def, namun stat HP yang dimilikinya sangat kecil yaitu 20. Hal tersebut tidak membuat Shuckle dapat dikatakan memiliki pertahanan terkuat. Namun kita bisa melihat posisi teratas dalam HP, defense, dan sp. def didominasi oleh generasi 2.\n",
    "\n",
    "Diperlukan analisis lebih lanjut terkait fitur HP, defense, dan sp. def dalam menentukan pokemon mana yang memiliki pertahanan terkuat. Misalkan pokemon dengan pertahanan terkuat ditentukan oleh 'Total Def', dimana Total Def = Hp + Defense + Sp.def."
   ]
  },
  {
   "cell_type": "code",
   "execution_count": null,
   "metadata": {},
   "outputs": [],
   "source": [
    "data_def = data.copy()[['Name','HP','Defense','Sp. Def']] #Membuat copy dataframe dengan kolom stat\n",
    "data_def['Total Def'] = data_def['HP'] + data_def['Defense'] + data_def['Sp. Def'] #Membuat kolom baru 'Total Def'\n",
    "data_def.sort_values('Total Def', ascending = False)[:3] #Mengurutkan dataframe dan menampilkan tiga baris dengan Total Def tertinggi"
   ]
  },
  {
   "cell_type": "code",
   "execution_count": null,
   "metadata": {},
   "outputs": [],
   "source": [
    "#Visualisai Stat pertahanan\n",
    "data_def.set_index('Name').sort_values('Total Def', ascending = False).iloc[:3,:].transpose().plot(kind = 'bar')"
   ]
  },
  {
   "cell_type": "markdown",
   "metadata": {},
   "source": [
    "Berdasarkan fitur Total Def, Shuckle masih menduduki peringkat pertama dikarenakan stat Defense dan Sp. Def yang sangat tinggi, sedangkan di posisi kedua Blissey memiliki HP tertinggi namun stat Defense sangat rendah sebesar 10. Kita tetap tidak bisa menentukan pokemon mana yang memiliki pertahanan terkuat berdasarkan Total Def, mereka memiliki keunggulan tersendiri. Namun kita dapat menyimpulkan bahwa pokemon dengan pertahanan terkuat berasal dari generasi 2."
   ]
  },
  {
   "cell_type": "markdown",
   "metadata": {},
   "source": [
    "Berikutnya kita akan coba melihat perbedaan antara pokemon Legendary dan pokemon yang bukan Legendary."
   ]
  },
  {
   "cell_type": "markdown",
   "metadata": {},
   "source": [
    "Kita akan coba melihat banyaknya pokemon yang legendary dan non legendary dari data set ini."
   ]
  },
  {
   "cell_type": "code",
   "execution_count": null,
   "metadata": {},
   "outputs": [],
   "source": [
    "total_legend = data['Legendary'].sum()\n",
    "print(f'Terdapat {total_legend} pokemon Legendary')\n",
    "print(f'Terdapat {len(data) - total_legend} pokemon non Legendary')"
   ]
  },
  {
   "cell_type": "markdown",
   "metadata": {},
   "source": [
    "Terlihat bahwa hanya terdapat 65 pokemon Legendary dari 800 data pokemon, yang mana data tersebut telah mencakup kumpulan pokemon dari berbagai generasi. Selanjutnya kita akan coba melihat berapa banyak pokemon Legendary dari tiap generasi."
   ]
  },
  {
   "cell_type": "code",
   "execution_count": null,
   "metadata": {},
   "outputs": [],
   "source": [
    "legend_gen = data[data['Legendary']]['Generation'].value_counts(sort = False) #Membuat series yang menampilkan banyaknya data Generation pada pokemon Legendary\n",
    "legend_gen.plot(title = 'Jumlah Pokemon Legendary dari Berbagai Generasi',xlabel = 'Generation',\n",
    "                        ylabel = 'Counts', color = 'purple')"
   ]
  },
  {
   "cell_type": "markdown",
   "metadata": {},
   "source": [
    "Berdasarkan grafik di atas kita dapat lihat jumlah pokemon Legendary pada generasi awal (1 dan 2) sangatlah sedikit, dan mengalami peningkatan yang signifikan pada generasi 3 dengan jumlah pokemon Legendary terbanyak yaitu 18."
   ]
  },
  {
   "cell_type": "markdown",
   "metadata": {},
   "source": [
    "Selanjutnya kita akan coba melihat perbedaan stat antara pokemon Legendary dan non Legendary. Apakah memang benar pokemon Legendary itu lebih kuat dibandingkan pokemon non Legendary?"
   ]
  },
  {
   "cell_type": "code",
   "execution_count": null,
   "metadata": {},
   "outputs": [],
   "source": [
    "poke_legend = data[data['Legendary']]['Total Stat']\n",
    "poke_non_legend = data[~data['Legendary']]['Total Stat']\n",
    "mean_legend = poke_legend.mean()\n",
    "mean_non_legend = poke_non_legend.mean()\n",
    "print(f'Mean \"Total Stat\" pokemon Legendary adalah {round(mean_legend,2)}')\n",
    "print(f'Mean \"Total Stat\" pokemon non Legendary adalah {round(mean_non_legend,2)}')"
   ]
  },
  {
   "cell_type": "markdown",
   "metadata": {},
   "source": [
    "Untuk membandingkan Total Stat antara pokemon Legendary dan non Legendary, kita akan coba membandingkan histogram dari data Total Stat untuk kedua jenis pokemon tersebut. Langkah awalnya kita akan membentuk DataFrame dengan kolom Total Stat Legendary dan Total Stat non Legendary, yang setelahnya akan dibuat histogram."
   ]
  },
  {
   "cell_type": "code",
   "execution_count": null,
   "metadata": {},
   "outputs": [],
   "source": [
    "#Membuat DataFrame untuk Legendary dan non Legendary pokemon berdasarkan Total Stat\n",
    "df_legend = pd.DataFrame({'Legendary Total Stat': poke_legend, \n",
    "                        'Non Legendary Total Stat': poke_non_legend })\n",
    "df_legend"
   ]
  },
  {
   "cell_type": "markdown",
   "metadata": {},
   "source": [
    "Missing value Nan pada DataFrame df_legend tidak berdampak pada histogram yang akan kita buat."
   ]
  },
  {
   "cell_type": "code",
   "execution_count": null,
   "metadata": {},
   "outputs": [],
   "source": [
    "axarr = df_legend.hist(density = True, figsize=(12,6)) #Menggambarkan kedua histogram untuk masing-masing kolom Legendary dan non Legendary\n",
    "for ax in axarr.flatten():     # Memberi label pada sumbu x dan y histogram\n",
    "    ax.set_xlabel(\"Total Stat\")\n",
    "    ax.set_ylabel(\"Proportion\")\n"
   ]
  },
  {
   "cell_type": "markdown",
   "metadata": {},
   "source": [
    "Dari kedua histogram tersebut, terlihat minimal Total Stat pokemon legendary sekitar 580 yang jauh lebih besar dibanding Total Stat minimum non Legendary sekitar 180. Kebanyakan pokemon non Legendary memiliki Total Stat di kisaran 300-500, sedangkan kebanyakan pokemon Legendary sekitar 600. Hanya sedikit sekali pokemon non Legendary yang memiliki Total Stat serupa dengan pokemon Legendary."
   ]
  },
  {
   "cell_type": "markdown",
   "metadata": {},
   "source": [
    "## Conclusions, Assumptions, Overall Analysis"
   ]
  },
  {
   "cell_type": "markdown",
   "metadata": {},
   "source": [
    "Berdasarkan analisis data dan pembahasan yang telah diuraikan sebelumnya, didapat kesimpulan sebagai berikut:\n",
    "1. Terdapat perbedaan antara pokemon single type dan pokemon dual type. Jumlah pokemon dengan dual type lebih banyak daripada pokemon single type, dimana pokemon dengan single type sejumlah 386 sedangkan pokemon dengan dual type sebanyak 414. Pokemon single type terbanyak adalah tipe 'Normal' dan 'Water'. Sedangkan pokemon dual type terbanyak adalah pokemon dengan Type 1 'Water' dan 'Bug'.\n",
    "2. Pokemon dengan dual type lebih kuat dibandingkan single type. Hal tersebut berdasarkan rata-rata Total Stat mean dual type = 456.63 > mean single type = 412.02, dan pokemon dual type memiliki rata-rata stat lainnya (Hp, Attack,dsbnya) yang lebih besar dari tiap rata-rata stat pada pokemon single type.\n",
    "3. Pokemon dengan penyerangan terkuat adalah Mega Mewtwo X dan Mega Mewtwo Y. Mega Mewtwo X memiliki Atttack tertinggi, sedangkan Mega Mewtwo Y memiliki Sp. Atk tertinggi. Keduanya berasal dari generasi 1 dan memiliki total Attck dan Sp. Atk yang sama yaitu 344.\n",
    "4. Tidak dapat ditentukan secara pasti pokemon dengan pertahanan terkuat. Dari analisis data didapat pokemon Shuckle memiliki stat tertinggi sebesar 230 dalam defense maupun sp.def, namun stat HP yang dimilikinya sangat kecil yaitu 20. Hal tersebut tidak membuat Shuckle dapat dikatakan memiliki pertahanan terkuat. Berdasarkan fitur Total Def, Shuckle masih menduduki peringkat pertama dikarenakan stat Defense dan Sp. Def yang sangat tinggi, sedangkan di posisi kedua Blissey memiliki HP tertinggi namun stat Defense sangat rendah sebesar 10. Kita tetap tidak bisa menentukan pokemon mana yang memiliki pertahanan terkuat berdasarkan Total Def, mereka memiliki keunggulan tersendiri. Namun kita dapat menyimpulkan bahwa pokemon dengan pertahanan terkuat berasal dari generasi 2.\n",
    "5. Terdapat perbedaan yang signifikan antara jumlah pokemon Legendary dan non Legendary. Dari data yang ada didapat 65 pokemon Legendary dari 800 data pokemon, yang mana data tersebut telah mencakup kumpulan pokemon dari berbagai generasi. Berdasarkan https://pokemon.fandom.com/wiki/Legendary_Pok%C3%A9mon memang pokemon Legendary ini tergolong sangat langka dan pada umumnya memiliki kekuatan di atas pokemon pada umumnya.\n",
    "6. Pokemon Legendary lebih kuat dibanding pokemon non Legendary.Hal tersebut didasarkan dari mean \"Total Stat\" pokemon Legendary adalah 637.38 yang mana lebih besar dari Mean \"Total Stat\" pokemon non Legendary yaitu 417.21. Kebanyakan pokemon non Legendary memiliki Total Stat di kisaran 300-500, sedangkan kebanyakan pokemon Legendary sekitar 600. Hanya sedikit sekali pokemon non Legendary yang memiliki Total Stat serupa dengan pokemon Legendary."
   ]
  }
 ],
 "metadata": {
  "kernelspec": {
   "display_name": "Python 3 (ipykernel)",
   "language": "python",
   "name": "python3"
  },
  "language_info": {
   "codemirror_mode": {
    "name": "ipython",
    "version": 3
   },
   "file_extension": ".py",
   "mimetype": "text/x-python",
   "name": "python",
   "nbconvert_exporter": "python",
   "pygments_lexer": "ipython3",
   "version": "3.8.13"
  },
  "vscode": {
   "interpreter": {
    "hash": "632d2d5b8a97db3f76bb862f926947aa7578c9985e2122ffe2fc4083542bd2e7"
   }
  }
 },
 "nbformat": 4,
 "nbformat_minor": 2
}
