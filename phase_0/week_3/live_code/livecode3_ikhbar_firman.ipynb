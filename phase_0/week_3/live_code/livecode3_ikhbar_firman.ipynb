{
 "cells": [
  {
   "cell_type": "markdown",
   "metadata": {},
   "source": [
    "# Live Code 3: Mendeteksi Anomali pada Transaksi Suatu Produk Liquor IOWA \n",
    "\n",
    "Nama: Ikhbar Firman Hanafi\n",
    "\n",
    "Batch: 14\n",
    "\n",
    "Phase: 0"
   ]
  },
  {
   "cell_type": "markdown",
   "metadata": {},
   "source": [
    "## Problem Statement\n",
    "IOWA merupakan salah satu perusahaan penjual Liquor ternama. Pada suatu hari terdapat 5000 transaksi yang terjadi di satuu ntuk suatu produk. Tim marketing menduga ada suatu keanehan atau anomali pada data transaksi."
   ]
  },
  {
   "cell_type": "markdown",
   "metadata": {},
   "source": [
    "## Obejctive\n",
    "Mengetahui ada atau tidaknya anomali transaksi liquor suatu produk"
   ]
  },
  {
   "cell_type": "markdown",
   "metadata": {},
   "source": [
    "## Deskripsi Data"
   ]
  },
  {
   "cell_type": "markdown",
   "metadata": {},
   "source": [
    "Data yang digunakan adalah data iowa sales liquor `bigquery-public-data.iowa_liquor_sales.sales` diakses menggunakan bigquery-public-data pada Google Cloud Big Query."
   ]
  },
  {
   "cell_type": "markdown",
   "metadata": {},
   "source": [
    "### **Data query**\n",
    "\n",
    "SELECT sale_dollars \n",
    "\n",
    "FROM `bigquery-public-data.iowa_liquor_sales.sales` \n",
    "\n",
    "LIMIT 5000;"
   ]
  },
  {
   "cell_type": "markdown",
   "metadata": {},
   "source": [
    "## Working Area"
   ]
  },
  {
   "cell_type": "markdown",
   "metadata": {},
   "source": [
    "### Data Preparation"
   ]
  },
  {
   "cell_type": "markdown",
   "metadata": {},
   "source": [
    "Import library yang diperlukan"
   ]
  },
  {
   "cell_type": "code",
   "execution_count": 93,
   "metadata": {},
   "outputs": [],
   "source": [
    "import pandas as pd\n",
    "import matplotlib.pyplot as plt\n",
    "import numpy\n",
    "import seaborn as sns\n",
    "import scipy.stats as stats"
   ]
  },
  {
   "cell_type": "markdown",
   "metadata": {},
   "source": [
    "Load data menjadi suatu DataFrame"
   ]
  },
  {
   "cell_type": "code",
   "execution_count": 94,
   "metadata": {},
   "outputs": [],
   "source": [
    "data = pd.read_csv('h8dsft_P0LC3_ikhbar_firman.csv')"
   ]
  },
  {
   "cell_type": "code",
   "execution_count": 95,
   "metadata": {},
   "outputs": [
    {
     "data": {
      "text/html": [
       "<div>\n",
       "<style scoped>\n",
       "    .dataframe tbody tr th:only-of-type {\n",
       "        vertical-align: middle;\n",
       "    }\n",
       "\n",
       "    .dataframe tbody tr th {\n",
       "        vertical-align: top;\n",
       "    }\n",
       "\n",
       "    .dataframe thead th {\n",
       "        text-align: right;\n",
       "    }\n",
       "</style>\n",
       "<table border=\"1\" class=\"dataframe\">\n",
       "  <thead>\n",
       "    <tr style=\"text-align: right;\">\n",
       "      <th></th>\n",
       "      <th>sale_dollars</th>\n",
       "    </tr>\n",
       "  </thead>\n",
       "  <tbody>\n",
       "    <tr>\n",
       "      <th>0</th>\n",
       "      <td>281.34</td>\n",
       "    </tr>\n",
       "    <tr>\n",
       "      <th>1</th>\n",
       "      <td>814.20</td>\n",
       "    </tr>\n",
       "    <tr>\n",
       "      <th>2</th>\n",
       "      <td>150.00</td>\n",
       "    </tr>\n",
       "    <tr>\n",
       "      <th>3</th>\n",
       "      <td>486.00</td>\n",
       "    </tr>\n",
       "    <tr>\n",
       "      <th>4</th>\n",
       "      <td>3596.40</td>\n",
       "    </tr>\n",
       "  </tbody>\n",
       "</table>\n",
       "</div>"
      ],
      "text/plain": [
       "   sale_dollars\n",
       "0        281.34\n",
       "1        814.20\n",
       "2        150.00\n",
       "3        486.00\n",
       "4       3596.40"
      ]
     },
     "execution_count": 95,
     "metadata": {},
     "output_type": "execute_result"
    }
   ],
   "source": [
    "data.head() # Menampilkan 5 baris pertama pada data"
   ]
  },
  {
   "cell_type": "code",
   "execution_count": 96,
   "metadata": {},
   "outputs": [
    {
     "data": {
      "text/html": [
       "<div>\n",
       "<style scoped>\n",
       "    .dataframe tbody tr th:only-of-type {\n",
       "        vertical-align: middle;\n",
       "    }\n",
       "\n",
       "    .dataframe tbody tr th {\n",
       "        vertical-align: top;\n",
       "    }\n",
       "\n",
       "    .dataframe thead th {\n",
       "        text-align: right;\n",
       "    }\n",
       "</style>\n",
       "<table border=\"1\" class=\"dataframe\">\n",
       "  <thead>\n",
       "    <tr style=\"text-align: right;\">\n",
       "      <th></th>\n",
       "      <th>sale_dollars</th>\n",
       "    </tr>\n",
       "  </thead>\n",
       "  <tbody>\n",
       "    <tr>\n",
       "      <th>4995</th>\n",
       "      <td>31.86</td>\n",
       "    </tr>\n",
       "    <tr>\n",
       "      <th>4996</th>\n",
       "      <td>50.36</td>\n",
       "    </tr>\n",
       "    <tr>\n",
       "      <th>4997</th>\n",
       "      <td>91.44</td>\n",
       "    </tr>\n",
       "    <tr>\n",
       "      <th>4998</th>\n",
       "      <td>4177.92</td>\n",
       "    </tr>\n",
       "    <tr>\n",
       "      <th>4999</th>\n",
       "      <td>587.16</td>\n",
       "    </tr>\n",
       "  </tbody>\n",
       "</table>\n",
       "</div>"
      ],
      "text/plain": [
       "      sale_dollars\n",
       "4995         31.86\n",
       "4996         50.36\n",
       "4997         91.44\n",
       "4998       4177.92\n",
       "4999        587.16"
      ]
     },
     "execution_count": 96,
     "metadata": {},
     "output_type": "execute_result"
    }
   ],
   "source": [
    "data.tail() # Menampilkan 5 baris terakhir pada data"
   ]
  },
  {
   "cell_type": "markdown",
   "metadata": {},
   "source": [
    "Sebelumnya kita cek terlebih dahulu apakah terdapat missing value pada dataset kita."
   ]
  },
  {
   "cell_type": "code",
   "execution_count": 97,
   "metadata": {},
   "outputs": [
    {
     "data": {
      "text/plain": [
       "sale_dollars    False\n",
       "dtype: bool"
      ]
     },
     "execution_count": 97,
     "metadata": {},
     "output_type": "execute_result"
    }
   ],
   "source": [
    "data.isnull().any()"
   ]
  },
  {
   "cell_type": "markdown",
   "metadata": {},
   "source": [
    "Dari 5000 sales data liquor tidak terdapat missing value."
   ]
  },
  {
   "cell_type": "markdown",
   "metadata": {},
   "source": [
    "### Perhitungan Central Tendency Data"
   ]
  },
  {
   "cell_type": "markdown",
   "metadata": {},
   "source": [
    "Dalam pengecekan anomali suatu data, pertama kita akan coba cari beberapa parameter central tendency data seperti mean, median , dan modus."
   ]
  },
  {
   "cell_type": "code",
   "execution_count": 98,
   "metadata": {},
   "outputs": [
    {
     "name": "stdout",
     "output_type": "stream",
     "text": [
      "Mean:619.2825679999986, Median: 126.0, Modus: sale_dollars    45.72\n",
      "Name: 0, dtype: float64\n"
     ]
    }
   ],
   "source": [
    "mean_data = data.mean()[0] # Mean data sale dollars\n",
    "median_data = data.median()[0] # Median data sale dollars\n",
    "mode_data = data.mode().iloc[0] # Modus data sale dollars (data dengan frekuensi terbanyak)\n",
    "print(f'Mean:{mean_data}, Median: {median_data}, Modus: {mode_data}')"
   ]
  },
  {
   "cell_type": "markdown",
   "metadata": {},
   "source": [
    "Mean atau rata-rata dari 5000 sales liquor adalah $619.28, dimana terdapat perbedaan yang jauh dengan nilai tengah data(median) $126 dan sales terbanyak sebesar $45.72 (modus). Diduga data memiliki nilai outliers atau beberapa sales dengan nilai yang besar pada distribusi data (outliers) karena nilai mean yang jauh lebih besar dari median dan modus."
   ]
  },
  {
   "cell_type": "markdown",
   "metadata": {},
   "source": [
    "### Skewness Data dan Distribusi Data"
   ]
  },
  {
   "cell_type": "markdown",
   "metadata": {},
   "source": [
    "Kita akan coba cek skewness dari data sale dollars."
   ]
  },
  {
   "cell_type": "code",
   "execution_count": 99,
   "metadata": {},
   "outputs": [
    {
     "data": {
      "text/plain": [
       "10.66"
      ]
     },
     "execution_count": 99,
     "metadata": {},
     "output_type": "execute_result"
    }
   ],
   "source": [
    "skew_ = round(data['sale_dollars'].skew(),2)\n",
    "skew_"
   ]
  },
  {
   "cell_type": "markdown",
   "metadata": {},
   "source": [
    "Data sale dololars disini memiliki skewness positive atau right skewed dengan skewness sebesar 10.66."
   ]
  },
  {
   "cell_type": "markdown",
   "metadata": {},
   "source": [
    "Untuk lebih mudahnya data 5000 sales liquor dapat dilihat dari grafik histogram dan boxplot berikut:"
   ]
  },
  {
   "cell_type": "code",
   "execution_count": 100,
   "metadata": {},
   "outputs": [
    {
     "data": {
      "text/plain": [
       "Text(0.5, 1.0, '5000 Sales liquor')"
      ]
     },
     "execution_count": 100,
     "metadata": {},
     "output_type": "execute_result"
    },
    {
     "data": {
      "image/png": "[encoded data removed]",
      "text/plain": [
       "<Figure size 432x288 with 1 Axes>"
      ]
     },
     "metadata": {
      "needs_background": "light"
     },
     "output_type": "display_data"
    }
   ],
   "source": [
    "plt.hist(data, density=False)\n",
    "plt.xlabel('Sales (dollars)')\n",
    "plt.ylabel('Count')\n",
    "plt.title('5000 Sales liquor')"
   ]
  },
  {
   "cell_type": "code",
   "execution_count": 101,
   "metadata": {},
   "outputs": [
    {
     "data": {
      "text/plain": [
       "<AxesSubplot:>"
      ]
     },
     "execution_count": 101,
     "metadata": {},
     "output_type": "execute_result"
    },
    {
     "data": {
      "image/png": "[encoded data removed]",
      "text/plain": [
       "<Figure size 432x288 with 1 Axes>"
      ]
     },
     "metadata": {
      "needs_background": "light"
     },
     "output_type": "display_data"
    }
   ],
   "source": [
    "data.boxplot() #boxplot dari data sale_dollars"
   ]
  },
  {
   "cell_type": "markdown",
   "metadata": {},
   "source": [
    "Dapat kita lihat dari grafik histogram dan boxplot di atas sebagian besar atau hampir keseluruhan dari 5000 sales transaksi sales berada di bawah $5000. Maka dapat dikatakan terdapat beberapa transaksi yang agak berbeda  atau jauh lebih besar (karena data right skewed) dari biasanya."
   ]
  },
  {
   "cell_type": "markdown",
   "metadata": {},
   "source": [
    "### Mendeteksi Outliers dengan Extreme Value Analysis"
   ]
  },
  {
   "cell_type": "markdown",
   "metadata": {},
   "source": [
    "Untuk mencari tranksaksi yang jauh lebih besar dari biasanya atau dapat dikatakan outlier dari data sales, kita akan terapkan **extreme value analysis**, dimana sale yang dikatakan oulier berada di daerah *upper boundary* dan *lower boundary*.\n",
    "\n",
    "Upper boundary area : sale  $\\ge q_3+1.5IQR$\n",
    "\n",
    "Lower boundary area: sale $\\le q_1-1.5IQR$\n",
    "\n",
    "- $q_1$: 25th quantile\n",
    "- $q_2$: 50th quantile (median)\n",
    "- $q_3$: 75th quantile"
   ]
  },
  {
   "cell_type": "markdown",
   "metadata": {},
   "source": [
    "Langkah pertama kita coba cari masing-masing kuartil $(q_1,q_2,q_3)$ beserta IQR."
   ]
  },
  {
   "cell_type": "code",
   "execution_count": 102,
   "metadata": {},
   "outputs": [
    {
     "name": "stdout",
     "output_type": "stream",
     "text": [
      "Kuartil bawah data sale liquor adalah $44.08\n",
      "Kuartil tengah atau median data sale liquor adalah $126.0\n",
      "Kuartil atas data sale liquor adalah $614.34\n",
      "Jangkauan kuartil IQR data sale liquor adalah $570.26\n"
     ]
    }
   ],
   "source": [
    "q1 = data.quantile(0.25)[0]\n",
    "q2 = data.quantile(0.5)[0]\n",
    "q3 = data.quantile(0.75)[0]\n",
    "iqr = q3-q1\n",
    "print(f'Kuartil bawah data sale liquor adalah ${q1}')\n",
    "print(f'Kuartil tengah atau median data sale liquor adalah ${q2}')\n",
    "print(f'Kuartil atas data sale liquor adalah ${q3}')\n",
    "print(f'Jangkauan kuartil IQR data sale liquor adalah ${iqr}')"
   ]
  },
  {
   "cell_type": "markdown",
   "metadata": {},
   "source": [
    "### Membuat DataFrame baru tanpa outliers"
   ]
  },
  {
   "cell_type": "markdown",
   "metadata": {},
   "source": [
    "Kita akan coba membuat filter untuk melokasi outliers dengan kriteria sale  $\\ge q_3+1.5IQR$ atau sale $\\le q_1-1.5IQR$  dan membuat data baru tanpa outliers tersebut dengan langkah sebagai berikut:"
   ]
  },
  {
   "cell_type": "code",
   "execution_count": 103,
   "metadata": {},
   "outputs": [],
   "source": [
    "outliers_filter = (data['sale_dollars'] < q1-1.5*iqr) | (data['sale_dollars'] > q3+1.5*iqr) #Filter melokasi outliers\n",
    "data_rmv_outliers = data[~outliers_filter] # Membuat dataFrame baru tanpa outliers"
   ]
  },
  {
   "cell_type": "markdown",
   "metadata": {},
   "source": [
    "Kita coba cek mean dan median data sebelum dan sesudah remove outliers."
   ]
  },
  {
   "cell_type": "code",
   "execution_count": 104,
   "metadata": {},
   "outputs": [
    {
     "name": "stdout",
     "output_type": "stream",
     "text": [
      "Median data sale seblumnya $126.0, sedangkan median data tanpa ouliers adalah $99.0\n"
     ]
    }
   ],
   "source": [
    "median_data_nooutliers =data_rmv_outliers.median()[0]\n",
    "print(f'Median data sale seblumnya ${median_data}, sedangkan median data tanpa ouliers adalah ${median_data_nooutliers}')"
   ]
  },
  {
   "cell_type": "code",
   "execution_count": 105,
   "metadata": {},
   "outputs": [
    {
     "name": "stdout",
     "output_type": "stream",
     "text": [
      "Mean data sale seblumnya $619.2825679999986, sedangkan mean data tanpa ouliers adalah $272.1418199955633\n"
     ]
    }
   ],
   "source": [
    "mean_data_nooutliers =data_rmv_outliers.mean()[0]\n",
    "print(f'Mean data sale seblumnya ${mean_data}, sedangkan mean data tanpa ouliers adalah ${mean_data_nooutliers}')"
   ]
  },
  {
   "cell_type": "markdown",
   "metadata": {},
   "source": [
    "Terlihat perubahan yang pesat pada nilai mean data sale sebelum dan sesudah remove outliers. Hal tersebut dikarenakan parameter mean sensitif terhadap outliers, dimana pada data kita disini terdapat outliers yang dapat menggeser value mean setelah outliers tersebut dihilangkan, berbeda dengan median yang tidak sensitif terhadap outliers atau valuenya tidak begitu berubah dengan ada atau tanpa outliers.\n",
    "\n",
    "Untuk menarik kesimpulan perbedaan data sebelum dan sesudah dihilangkan outliers kita akan lakukan analisa statistik inferensia uji hipotesis."
   ]
  },
  {
   "cell_type": "markdown",
   "metadata": {},
   "source": [
    "### Uji Hipotesis"
   ]
  },
  {
   "cell_type": "markdown",
   "metadata": {},
   "source": [
    "Kita akan coba mengetahui apakah terdapat perbedaan data sampel  sale dollars dengan populasi (dimana data sampel disini adalah dataset observasi yang telah di remove outliers) dengan menggunakan uji hipotesis **One sample two tailed t-test** dengan dengan  parameter mean, sample mean $272.14 ,significance level pada pengujian ini sebesar 0.05, dan kriteria pengambilan keputusan adalah:\n",
    "- Accept $H_0$ apabila *p-value* $>0.05$\n",
    "- Reject $H_0$ apabila *p-value* $<0.05$\n",
    "\n",
    "Hipotesis dalam kasus disini adalah:\n",
    "1. Tidak terdapat perbedaaan yang signifikan antara data sampel dan populasi\n",
    "2. Terdapat perbedaaan yang signifikan antara data sampel dan populasi\n",
    "\n",
    "Atau dapat ditulis sebagai berikut:\n",
    "\n",
    "- $H_0:\\mu=619.3$\n",
    "\n",
    "- $H_1:\\mu \\neq 619.3$"
   ]
  },
  {
   "cell_type": "markdown",
   "metadata": {},
   "source": [
    "Untuk menarik kesimpulan kita akan mencari nilai *p-value* yang akan dibandingkan dengan significance level 0.05."
   ]
  },
  {
   "cell_type": "code",
   "execution_count": 106,
   "metadata": {},
   "outputs": [
    {
     "name": "stdout",
     "output_type": "stream",
     "text": [
      "P-value: 0.0\n",
      "t-statistics: -70.43770988166787\n"
     ]
    }
   ],
   "source": [
    "t_stat,p_val = stats.ttest_1samp(data_rmv_outliers.sale_dollars, 619.3)\n",
    "print('P-value:',p_val)\n",
    "print('t-statistics:',t_stat)"
   ]
  },
  {
   "cell_type": "markdown",
   "metadata": {},
   "source": [
    "Karena  nilai *p-value* adalah 0 yanng mana lebih kecil dari 0.05, maka keputusan yang diambil adalah **reject  null hypothesis**. Dapat disimpulkan bahwa terdapat perbedaan yang cukup signifikan antara data sampel dengan populasi."
   ]
  },
  {
   "cell_type": "markdown",
   "metadata": {},
   "source": [
    "## Questions"
   ]
  },
  {
   "cell_type": "markdown",
   "metadata": {},
   "source": [
    "#### 1. Berapa rata-rata, median, dan modus dari data tersebut sebelum dihilangkan outliernya? Bagaimana kecerendungan pemusatan datanya? jelaskan jawabanmu!"
   ]
  },
  {
   "cell_type": "code",
   "execution_count": 107,
   "metadata": {},
   "outputs": [
    {
     "name": "stdout",
     "output_type": "stream",
     "text": [
      "Mean:619.2825679999986, Median: 126.0, Modus: sale_dollars    45.72\n",
      "Name: 0, dtype: float64\n"
     ]
    }
   ],
   "source": [
    "mean_data = data.mean()[0] # Mean data sale dollars\n",
    "median_data = data.median()[0] # Median data sale dollars\n",
    "mode_data = data.mode().iloc[0] # Modus data sale dollars (data dengan frekuensi terbanyak)\n",
    "print(f'Mean:{mean_data}, Median: {median_data}, Modus: {mode_data}')"
   ]
  },
  {
   "cell_type": "markdown",
   "metadata": {},
   "source": [
    "Mean atau rata-rata dari 5000 sales liquor adalah $619.28, dimana terdapat perbedaan yang jauh dengan nilai tengah data(median) $126 dan sales terbanyak sebesar $45.72 (modus). Dapat dikatakan data memiliki nilai outliers atau beberapa sales dengan nilai yang besar pada distribusi data (outliers) karena nilai mean yang jauh lebih besar dari median dan modus. Untuk lebih jelasnya dapat dilihat dari grafik histogram, boxplot dan nilai parameter skew data."
   ]
  },
  {
   "cell_type": "markdown",
   "metadata": {},
   "source": [
    "#### 2. Sebelum melakukan extreme value analysis, kamu harus melakukan pengecekan skewness dari distribusi datanya. Apakah datanya skew atau normal? jelaskan jawabanmu!"
   ]
  },
  {
   "cell_type": "code",
   "execution_count": 108,
   "metadata": {},
   "outputs": [
    {
     "name": "stdout",
     "output_type": "stream",
     "text": [
      "Nilai skew dari 5000 data sales liqour adalah 10.66.\n"
     ]
    }
   ],
   "source": [
    "print(f'Nilai skew dari 5000 data sales liqour adalah {skew_}.')"
   ]
  },
  {
   "cell_type": "markdown",
   "metadata": {},
   "source": [
    "Dari perhitungan didapat nilai skew data positif sebesar 10.66. Oleh karena itu data sales liquor tidak berdistribusi normal (berdistribusi normal apabila skew mendektai 0) tergolong positive skewneess atau right skewed."
   ]
  },
  {
   "cell_type": "markdown",
   "metadata": {},
   "source": [
    "#### 3. Ada dua teknik untuk melakukan extreme value analysis, teknik yang mana yang kamu pakai? berikan alasanmu berdasarkan data!"
   ]
  },
  {
   "cell_type": "markdown",
   "metadata": {},
   "source": [
    "Teknik yang digunakan untuk extreme value analysis disini adalah dengan mencari upper boundary dan lower boundary berdasarkan kuartil $(q_1,q_2,q_3)$ dan jangkauan kuartil IQR. Hal tersebut dikarenakan data tidak berdistribusi normal atau skewed ditribution.\n",
    "\n",
    "Upper boundary area : sale  $\\ge q_3+1.5IQR$\n",
    "\n",
    "Lower boundary area: sale $\\le q_1-1.5IQR$\n",
    "\n",
    "- $q_1$: 25th quantile\n",
    "- $q_2$: 50th quantile (median)\n",
    "- $q_3$: 75th quantile"
   ]
  },
  {
   "cell_type": "markdown",
   "metadata": {},
   "source": [
    "#### 4. Ada berapa banyak data yang merupakan outlier? apakah cukup signifikan jumlahnya? (anggap bahwa jumlah signifikan lebih dari 50%)."
   ]
  },
  {
   "cell_type": "code",
   "execution_count": 109,
   "metadata": {},
   "outputs": [
    {
     "name": "stdout",
     "output_type": "stream",
     "text": [
      "Terdapat outliers sejumlah 489 atau 9.78% outliers dari 5000 sales liquor data\n"
     ]
    }
   ],
   "source": [
    "outliers_count = sum(outliers_filter)\n",
    "outliers_rate = (outliers_count/len(data))\n",
    "print(f'Terdapat outliers sejumlah {outliers_count} atau {outliers_rate*100}% outliers dari 5000 sales liquor data')"
   ]
  },
  {
   "cell_type": "markdown",
   "metadata": {},
   "source": [
    "Terdapat sales yang dikatakan outliers sebanyak 489 dari 5000 sales liquor, yakni 9.78%. Maka dapat dikatakan jumlahnya tidak signifikan karena dibawah 50% jumlah data."
   ]
  },
  {
   "cell_type": "markdown",
   "metadata": {},
   "source": [
    "#### 5. Setelah kamu menyingkirkan outlier dari data dan melakukan uji hipotesis, apakah ada perbedaan yang signifikan? jelaskan jawabanmu"
   ]
  },
  {
   "cell_type": "markdown",
   "metadata": {},
   "source": [
    "Berdasarkan hasil uji hipotesis **One sample two tailed t-test** didapat nilai *p-value* adalah 0 yanng mana lebih kecil dari significance level yang digunakan 0.05, maka keputusan yang diambil adalah **reject  null hypothesis**. Dapat disimpulkan bahwa terdapat perbedaan yang cukup signifikan antara data sampel dengan populasi. Hal tersebut dikarenakan kita melakukkan uji hipotesis dengan parameter mean, sebagaimana parameter mean sensitif nilainya terhadap outliers."
   ]
  },
  {
   "cell_type": "markdown",
   "metadata": {},
   "source": [
    "## Kesimpulan"
   ]
  },
  {
   "cell_type": "markdown",
   "metadata": {},
   "source": [
    "Berdasarkan hasil analisis data bahwa terdapat 489 transaksi atau 9.78% dari 5000 sales suatu produk liquor IOWA yang tergolong *unusual*. Jumlah transaksi tersebut terbilang tidak begitu signifkan (kurang dari 50%) dan masih terbilang wajar. Mungkin bisa jadi terdapat suatu event besar (misalkan suatu pesta) yang mana dapat membeli produk tersebut dalam suatu hari, untuk lebih jelasnya bisa diselidiki kembali ID transaksi dan info pelanggan untuk dihubungi lebih lanjut."
   ]
  },
  {
   "cell_type": "markdown",
   "metadata": {},
   "source": []
  }
 ],
 "metadata": {
  "kernelspec": {
   "display_name": "Python 3.8.13 ('base')",
   "language": "python",
   "name": "python3"
  },
  "language_info": {
   "codemirror_mode": {
    "name": "ipython",
    "version": 3
   },
   "file_extension": ".py",
   "mimetype": "text/x-python",
   "name": "python",
   "nbconvert_exporter": "python",
   "pygments_lexer": "ipython3",
   "version": "3.8.13"
  },
  "orig_nbformat": 4,
  "vscode": {
   "interpreter": {
    "hash": "632d2d5b8a97db3f76bb862f926947aa7578c9985e2122ffe2fc4083542bd2e7"
   }
  }
 },
 "nbformat": 4,
 "nbformat_minor": 2
}
