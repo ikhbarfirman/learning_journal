{
 "cells": [
  {
   "cell_type": "markdown",
   "metadata": {},
   "source": [
    "## Data Description\n",
    "The COVID-19 pandemic dataset in Indonesia, time series. This dataset is a compilation of various open data sources, including: covid19.go.id (pandemic data), kemendagri.go.id (demographic data), bps.go.id (demographic data), as well as some calculations of the relationship of the data.\n",
    "\n",
    "This dataset contains a time series of COVID-19 pandemic events in Indonesia, at the country level to province level. If possible, in the future I will provide it to the city/regency level.\n",
    "\n",
    "File data yang digunakan disini adalah'covid_19_indonesia_time_series_all.csv' yang bisa diakses di:\n",
    "https://www.kaggle.com/datasets/hendratno/covid19-indonesia"
   ]
  },
  {
   "cell_type": "markdown",
   "metadata": {},
   "source": [
    "## Objective\n",
    "1. Mengetahui apakah terdapat peningkatan yang signifikan pada jumlah kematian harian dari bulan ke-3 ke bulan ke-4.\n",
    "2. Mengetahui apakah terdapat perbedaan yang signifikan pada jumlah kematian harian dari bulan ke-3 ke bulan ke-4.\n",
    "3. Mengetahui pakah terdapat perbedaan jumlah total kasus yang signifikan dari provinsi Jawa Timur dan Jawa Tengah.\n",
    "4. Mengetahui pakah terdapat perbedaan total kasus aktif secara signifikan antara rata-rata tiap provinsi di pulau Kalimantan."
   ]
  },
  {
   "cell_type": "markdown",
   "metadata": {},
   "source": [
    "## Working Area"
   ]
  },
  {
   "cell_type": "markdown",
   "metadata": {},
   "source": [
    "Import library yang diperlukan"
   ]
  },
  {
   "cell_type": "code",
   "execution_count": 61,
   "metadata": {},
   "outputs": [],
   "source": [
    "import pandas as pd\n",
    "import numpy as np\n",
    "import matplotlib.pyplot as plt\n",
    "from scipy import stats\n",
    "import seaborn as sns"
   ]
  },
  {
   "cell_type": "markdown",
   "metadata": {},
   "source": [
    "Load data dari csv menjadi suatu DataFrame"
   ]
  },
  {
   "cell_type": "code",
   "execution_count": 21,
   "metadata": {},
   "outputs": [
    {
     "data": {
      "text/html": [
       "<div>\n",
       "<style scoped>\n",
       "    .dataframe tbody tr th:only-of-type {\n",
       "        vertical-align: middle;\n",
       "    }\n",
       "\n",
       "    .dataframe tbody tr th {\n",
       "        vertical-align: top;\n",
       "    }\n",
       "\n",
       "    .dataframe thead th {\n",
       "        text-align: right;\n",
       "    }\n",
       "</style>\n",
       "<table border=\"1\" class=\"dataframe\">\n",
       "  <thead>\n",
       "    <tr style=\"text-align: right;\">\n",
       "      <th></th>\n",
       "      <th>Date</th>\n",
       "      <th>Location ISO Code</th>\n",
       "      <th>Location</th>\n",
       "      <th>New Cases</th>\n",
       "      <th>New Deaths</th>\n",
       "      <th>New Recovered</th>\n",
       "      <th>New Active Cases</th>\n",
       "      <th>Total Cases</th>\n",
       "      <th>Total Deaths</th>\n",
       "      <th>Total Recovered</th>\n",
       "      <th>...</th>\n",
       "      <th>Latitude</th>\n",
       "      <th>New Cases per Million</th>\n",
       "      <th>Total Cases per Million</th>\n",
       "      <th>New Deaths per Million</th>\n",
       "      <th>Total Deaths per Million</th>\n",
       "      <th>Total Deaths per 100rb</th>\n",
       "      <th>Case Fatality Rate</th>\n",
       "      <th>Case Recovered Rate</th>\n",
       "      <th>Growth Factor of New Cases</th>\n",
       "      <th>Growth Factor of New Deaths</th>\n",
       "    </tr>\n",
       "  </thead>\n",
       "  <tbody>\n",
       "    <tr>\n",
       "      <th>0</th>\n",
       "      <td>3/1/2020</td>\n",
       "      <td>ID-JK</td>\n",
       "      <td>DKI Jakarta</td>\n",
       "      <td>2</td>\n",
       "      <td>0</td>\n",
       "      <td>0</td>\n",
       "      <td>2</td>\n",
       "      <td>39</td>\n",
       "      <td>20</td>\n",
       "      <td>41</td>\n",
       "      <td>...</td>\n",
       "      <td>-6.204699</td>\n",
       "      <td>0.18</td>\n",
       "      <td>3.60</td>\n",
       "      <td>0.0</td>\n",
       "      <td>1.84</td>\n",
       "      <td>0.18</td>\n",
       "      <td>51.28%</td>\n",
       "      <td>105.13%</td>\n",
       "      <td>NaN</td>\n",
       "      <td>NaN</td>\n",
       "    </tr>\n",
       "    <tr>\n",
       "      <th>1</th>\n",
       "      <td>3/2/2020</td>\n",
       "      <td>ID-JK</td>\n",
       "      <td>DKI Jakarta</td>\n",
       "      <td>2</td>\n",
       "      <td>0</td>\n",
       "      <td>0</td>\n",
       "      <td>2</td>\n",
       "      <td>41</td>\n",
       "      <td>20</td>\n",
       "      <td>41</td>\n",
       "      <td>...</td>\n",
       "      <td>-6.204699</td>\n",
       "      <td>0.18</td>\n",
       "      <td>3.78</td>\n",
       "      <td>0.0</td>\n",
       "      <td>1.84</td>\n",
       "      <td>0.18</td>\n",
       "      <td>48.78%</td>\n",
       "      <td>100.00%</td>\n",
       "      <td>1.0</td>\n",
       "      <td>1.0</td>\n",
       "    </tr>\n",
       "    <tr>\n",
       "      <th>2</th>\n",
       "      <td>3/2/2020</td>\n",
       "      <td>IDN</td>\n",
       "      <td>Indonesia</td>\n",
       "      <td>2</td>\n",
       "      <td>0</td>\n",
       "      <td>0</td>\n",
       "      <td>2</td>\n",
       "      <td>2</td>\n",
       "      <td>0</td>\n",
       "      <td>0</td>\n",
       "      <td>...</td>\n",
       "      <td>-0.789275</td>\n",
       "      <td>0.01</td>\n",
       "      <td>0.01</td>\n",
       "      <td>0.0</td>\n",
       "      <td>0.00</td>\n",
       "      <td>0.00</td>\n",
       "      <td>0.00%</td>\n",
       "      <td>0.00%</td>\n",
       "      <td>NaN</td>\n",
       "      <td>NaN</td>\n",
       "    </tr>\n",
       "    <tr>\n",
       "      <th>3</th>\n",
       "      <td>3/2/2020</td>\n",
       "      <td>ID-RI</td>\n",
       "      <td>Riau</td>\n",
       "      <td>1</td>\n",
       "      <td>0</td>\n",
       "      <td>0</td>\n",
       "      <td>1</td>\n",
       "      <td>2</td>\n",
       "      <td>0</td>\n",
       "      <td>3</td>\n",
       "      <td>...</td>\n",
       "      <td>0.511648</td>\n",
       "      <td>0.16</td>\n",
       "      <td>0.33</td>\n",
       "      <td>0.0</td>\n",
       "      <td>0.00</td>\n",
       "      <td>0.00</td>\n",
       "      <td>0.00%</td>\n",
       "      <td>150.00%</td>\n",
       "      <td>NaN</td>\n",
       "      <td>NaN</td>\n",
       "    </tr>\n",
       "    <tr>\n",
       "      <th>4</th>\n",
       "      <td>3/3/2020</td>\n",
       "      <td>ID-JK</td>\n",
       "      <td>DKI Jakarta</td>\n",
       "      <td>2</td>\n",
       "      <td>0</td>\n",
       "      <td>0</td>\n",
       "      <td>2</td>\n",
       "      <td>43</td>\n",
       "      <td>20</td>\n",
       "      <td>41</td>\n",
       "      <td>...</td>\n",
       "      <td>-6.204699</td>\n",
       "      <td>0.18</td>\n",
       "      <td>3.96</td>\n",
       "      <td>0.0</td>\n",
       "      <td>1.84</td>\n",
       "      <td>0.18</td>\n",
       "      <td>46.51%</td>\n",
       "      <td>95.35%</td>\n",
       "      <td>1.0</td>\n",
       "      <td>1.0</td>\n",
       "    </tr>\n",
       "  </tbody>\n",
       "</table>\n",
       "<p>5 rows × 38 columns</p>\n",
       "</div>"
      ],
      "text/plain": [
       "       Date Location ISO Code     Location  New Cases  New Deaths  \\\n",
       "0  3/1/2020             ID-JK  DKI Jakarta          2           0   \n",
       "1  3/2/2020             ID-JK  DKI Jakarta          2           0   \n",
       "2  3/2/2020               IDN    Indonesia          2           0   \n",
       "3  3/2/2020             ID-RI         Riau          1           0   \n",
       "4  3/3/2020             ID-JK  DKI Jakarta          2           0   \n",
       "\n",
       "   New Recovered  New Active Cases  Total Cases  Total Deaths  \\\n",
       "0              0                 2           39            20   \n",
       "1              0                 2           41            20   \n",
       "2              0                 2            2             0   \n",
       "3              0                 1            2             0   \n",
       "4              0                 2           43            20   \n",
       "\n",
       "   Total Recovered  ...  Latitude New Cases per Million  \\\n",
       "0               41  ... -6.204699                  0.18   \n",
       "1               41  ... -6.204699                  0.18   \n",
       "2                0  ... -0.789275                  0.01   \n",
       "3                3  ...  0.511648                  0.16   \n",
       "4               41  ... -6.204699                  0.18   \n",
       "\n",
       "   Total Cases per Million New Deaths per Million Total Deaths per Million  \\\n",
       "0                     3.60                    0.0                     1.84   \n",
       "1                     3.78                    0.0                     1.84   \n",
       "2                     0.01                    0.0                     0.00   \n",
       "3                     0.33                    0.0                     0.00   \n",
       "4                     3.96                    0.0                     1.84   \n",
       "\n",
       "  Total Deaths per 100rb Case Fatality Rate Case Recovered Rate  \\\n",
       "0                   0.18             51.28%             105.13%   \n",
       "1                   0.18             48.78%             100.00%   \n",
       "2                   0.00              0.00%               0.00%   \n",
       "3                   0.00              0.00%             150.00%   \n",
       "4                   0.18             46.51%              95.35%   \n",
       "\n",
       "  Growth Factor of New Cases  Growth Factor of New Deaths  \n",
       "0                        NaN                          NaN  \n",
       "1                        1.0                          1.0  \n",
       "2                        NaN                          NaN  \n",
       "3                        NaN                          NaN  \n",
       "4                        1.0                          1.0  \n",
       "\n",
       "[5 rows x 38 columns]"
      ]
     },
     "execution_count": 21,
     "metadata": {},
     "output_type": "execute_result"
    }
   ],
   "source": [
    "data = pd.read_csv('covid_19_indonesia_time_series_all.csv')\n",
    "data.head()"
   ]
  },
  {
   "cell_type": "markdown",
   "metadata": {},
   "source": [
    "### One Sample One Tailed\n",
    "Diketahui rata-rata jumlah kematian akibat COVID-19 pada bulan ke-3 2020 adalah sebesar 80 per hari di Indonesia, dan pada bulan ke-4 rata-ratanya mencapai 88.65. Apakah terdapat peningkatan yang signifikan pada jumlah kematian harian?"
   ]
  },
  {
   "cell_type": "code",
   "execution_count": 3,
   "metadata": {},
   "outputs": [],
   "source": [
    "feature = data.columns.tolist()"
   ]
  },
  {
   "cell_type": "code",
   "execution_count": 58,
   "metadata": {},
   "outputs": [
    {
     "name": "stdout",
     "output_type": "stream",
     "text": [
      "Rata-rata jumlah kematian per hari bulan ke-4 adalah 88.65 \n"
     ]
    }
   ],
   "source": [
    "c = []\n",
    "for i in range(len(data)):\n",
    "    if '4' in data['Date'][i][0]:\n",
    "        c.append(True)\n",
    "    else: c.append(False)\n",
    "filter = np.array(c)\n",
    "data_bulan4 = data[filter & (data['Location'] == 'Indonesia')]\n",
    "print(f'Rata-rata jumlah kematian per hari bulan ke-4 adalah {data_bulan4[\"New Deaths\"].mean()}')"
   ]
  },
  {
   "cell_type": "markdown",
   "metadata": {},
   "source": [
    "Our hypothesis on this case:\n",
    "\n",
    "**$$H0: μ \\le 80$$**\n",
    "\n",
    "**$$H1: μ > 80$$**"
   ]
  },
  {
   "cell_type": "markdown",
   "metadata": {},
   "source": [
    "Untuk pengujian hipotesis disini dilakukan uji single sample one sided dengan significance level 0.05."
   ]
  },
  {
   "cell_type": "code",
   "execution_count": 59,
   "metadata": {},
   "outputs": [
    {
     "name": "stdout",
     "output_type": "stream",
     "text": [
      "P-value: 0.20871545612320958\n",
      "t-statistics: 0.8166197334539826\n"
     ]
    }
   ],
   "source": [
    "t_stat,p_val = stats.ttest_1samp(data_bulan4[\"New Deaths\"], 80)\n",
    "print('P-value:',p_val/2) #The p-value divided by 2 since the output is two-sided p-value\n",
    "print('t-statistics:',t_stat)"
   ]
  },
  {
   "cell_type": "code",
   "execution_count": 80,
   "metadata": {},
   "outputs": [
    {
     "name": "stderr",
     "output_type": "stream",
     "text": [
      "c:\\Users\\ikhbar\\anaconda3\\lib\\site-packages\\seaborn\\distributions.py:2619: FutureWarning: `distplot` is a deprecated function and will be removed in a future version. Please adapt your code to use either `displot` (a figure-level function with similar flexibility) or `histplot` (an axes-level function for histograms).\n",
      "  warnings.warn(msg, FutureWarning)\n"
     ]
    },
    {
     "data": {
      "text/plain": [
       "<matplotlib.legend.Legend at 0x29fbf1c2760>"
      ]
     },
     "execution_count": 80,
     "metadata": {},
     "output_type": "execute_result"
    },
    {
     "data": {
      "image/png": "[encoded data removed]",
      "text/plain": [
       "<Figure size 1152x360 with 1 Axes>"
      ]
     },
     "metadata": {
      "needs_background": "light"
     },
     "output_type": "display_data"
    }
   ],
   "source": [
    "data_bulan4_pop = np.random.normal(data_bulan4[\"New Deaths\"].mean(), data_bulan4[\"New Deaths\"].std(), 10000)\n",
    "\n",
    "ci = stats.norm.interval(0.9, data_bulan4[\"New Deaths\"].mean(), data_bulan4[\"New Deaths\"].std())\n",
    "\n",
    "plt.figure(figsize=(16,5))\n",
    "sns.distplot(data_bulan4['New Deaths'], label='New Deaths per day', color='blue')\n",
    "plt.axvline(data_bulan4[\"New Deaths\"].mean(), color='red', linewidth=2, label='New Deaths per day (Mean)')\n",
    "plt.axvline(ci[1], color='green', linestyle='dashed', linewidth=2, label='confidence threshold of 95%')\n",
    "plt.axvline(data_bulan4[\"New Deaths\"].mean() + t_stat*data_bulan4_pop.std(), color='black', linestyle='dashed', linewidth=2, label = 'Alternative Hypothesis')\n",
    "plt.legend()"
   ]
  },
  {
   "cell_type": "markdown",
   "metadata": {},
   "source": [
    "**Karena  p-value lebih besar dari `0.05`, maka kita terima the null hypothesis** dan dapat dinyatakan bahwa **tidak** terdapat peningkatan jumlah kematian per hari secara signifikan.\n",
    "\n",
    "*Note: Variable `t-statistics` refers to how far the alternative hypothesis from null hypothesis away.*"
   ]
  },
  {
   "cell_type": "markdown",
   "metadata": {},
   "source": [
    "Untuk lebih jelasnya kita dapat menggambarkan histogram dari data sampel di bulan ke 3 dan 4."
   ]
  },
  {
   "cell_type": "code",
   "execution_count": 82,
   "metadata": {},
   "outputs": [
    {
     "name": "stderr",
     "output_type": "stream",
     "text": [
      "c:\\Users\\ikhbar\\anaconda3\\lib\\site-packages\\seaborn\\distributions.py:2619: FutureWarning: `distplot` is a deprecated function and will be removed in a future version. Please adapt your code to use either `displot` (a figure-level function with similar flexibility) or `histplot` (an axes-level function for histograms).\n",
      "  warnings.warn(msg, FutureWarning)\n",
      "c:\\Users\\ikhbar\\anaconda3\\lib\\site-packages\\seaborn\\distributions.py:2619: FutureWarning: `distplot` is a deprecated function and will be removed in a future version. Please adapt your code to use either `displot` (a figure-level function with similar flexibility) or `histplot` (an axes-level function for histograms).\n",
      "  warnings.warn(msg, FutureWarning)\n"
     ]
    },
    {
     "data": {
      "text/plain": [
       "<AxesSubplot:xlabel='New Deaths', ylabel='Density'>"
      ]
     },
     "execution_count": 82,
     "metadata": {},
     "output_type": "execute_result"
    },
    {
     "data": {
      "image/png": "[encoded data removed]",
      "text/plain": [
       "<Figure size 1152x360 with 1 Axes>"
      ]
     },
     "metadata": {
      "needs_background": "light"
     },
     "output_type": "display_data"
    }
   ],
   "source": [
    "plt.figure(figsize=(16,5))\n",
    "sns.distplot(data_bulan4['New Deaths'], label='New Deaths per day bulan 4', color='blue')\n",
    "sns.distplot(data_bulan3['New Deaths'], label='New Deaths per day bulan 3', color='red')"
   ]
  },
  {
   "cell_type": "markdown",
   "metadata": {},
   "source": [
    "### One Sample Two Tailed\n",
    "Diketahui rata-rata jumlah kematian akibat COVID-19 pada bulan ke-3 2020 adalah sebesar 80 per hari di Indonesia, dan pada bulan ke-4 rata-ratanya mencapai 88.65. Apakah terdapat perbedaan yang signifikan pada jumlah kematian harian?"
   ]
  },
  {
   "cell_type": "markdown",
   "metadata": {},
   "source": [
    "Our hypothesis on this case:\n",
    "\n",
    "**$$H0: μ = 80$$**\n",
    "\n",
    "**$$H1: μ \\ne 80$$**"
   ]
  },
  {
   "cell_type": "markdown",
   "metadata": {},
   "source": [
    "Untuk pengujian hipotesis disini dilakukan uji single sample one sided dengan significance level 0.05."
   ]
  },
  {
   "cell_type": "code",
   "execution_count": 83,
   "metadata": {},
   "outputs": [
    {
     "name": "stdout",
     "output_type": "stream",
     "text": [
      "P-value: 0.41743091224641915\n",
      "t-statistics: 0.8166197334539826\n"
     ]
    }
   ],
   "source": [
    "t_stat,p_val = stats.ttest_1samp(data_bulan4[\"New Deaths\"], 80)\n",
    "print('P-value:',p_val) \n",
    "print('t-statistics:',t_stat)"
   ]
  },
  {
   "cell_type": "code",
   "execution_count": 84,
   "metadata": {},
   "outputs": [
    {
     "name": "stderr",
     "output_type": "stream",
     "text": [
      "c:\\Users\\ikhbar\\anaconda3\\lib\\site-packages\\seaborn\\distributions.py:2619: FutureWarning: `distplot` is a deprecated function and will be removed in a future version. Please adapt your code to use either `displot` (a figure-level function with similar flexibility) or `histplot` (an axes-level function for histograms).\n",
      "  warnings.warn(msg, FutureWarning)\n"
     ]
    },
    {
     "data": {
      "text/plain": [
       "<matplotlib.legend.Legend at 0x29fbf97ae80>"
      ]
     },
     "execution_count": 84,
     "metadata": {},
     "output_type": "execute_result"
    },
    {
     "data": {
      "image/png": "[encoded data removed]",
      "text/plain": [
       "<Figure size 1152x360 with 1 Axes>"
      ]
     },
     "metadata": {
      "needs_background": "light"
     },
     "output_type": "display_data"
    }
   ],
   "source": [
    "data_bulan4_pop = np.random.normal(data_bulan4[\"New Deaths\"].mean(), data_bulan4[\"New Deaths\"].std(), 10000)\n",
    "\n",
    "ci = stats.norm.interval(0.95, data_bulan4[\"New Deaths\"].mean(), data_bulan4[\"New Deaths\"].std())\n",
    "\n",
    "plt.figure(figsize=(16,5))\n",
    "sns.distplot(data_bulan4['New Deaths'], label='New Deaths per day', color='blue')\n",
    "plt.axvline(data_bulan4[\"New Deaths\"].mean(), color='red', linewidth=2, label='New Deaths per day (Mean)')\n",
    "plt.axvline(ci[1], color='green', linestyle='dashed', linewidth=2, label='confidence threshold of 95%')\n",
    "plt.axvline(data_bulan4[\"New Deaths\"].mean() + t_stat*data_bulan4_pop.std(), color='black', linestyle='dashed', linewidth=2, label = 'Alternative Hypothesis')\n",
    "plt.legend()"
   ]
  },
  {
   "cell_type": "markdown",
   "metadata": {},
   "source": [
    "**Karena  p-value lebih besar dari `0.05`, maka kita terima the null hypothesis** dan dapat dinyatakan bahwa **tidak** terdapat perbedaan jumlah kematian per hari secara signifikan.\n",
    "\n",
    "*Note: Variable `t-statistics` refers to how far the alternative hypothesis from null hypothesis away.*"
   ]
  },
  {
   "cell_type": "markdown",
   "metadata": {
    "id": "TDk6rMRZbFQf"
   },
   "source": [
    "### Two Samples Independent Two Tailed Hypothesis Testing\n",
    "\n",
    "Provinsi Jawa Timur dan Jawa Tengah merupakan dua provinsi yang berdekatan dan kedunya termasuk dalam jumlah total kasus COVID-19 yang besar. Dari data sampel dalam 5 bulan ini, kita akan coba cek apakah terdapat perbedaan yang signifikan dari kedua provinsi tersebut berdasarkan rata-rata jumlah total kasusnya.\n",
    "\n",
    "Pengujian hipotesis disini menggunakan uji **two samples independent two tailed test.**"
   ]
  },
  {
   "cell_type": "markdown",
   "metadata": {},
   "source": [
    "Our hypothesis on this case:\n",
    "\n",
    "**$$H0: μ_1-μ_2 = 0$$**\n",
    "\n",
    "**$$H1: μ_1-μ_2 \\ne 0$$**"
   ]
  },
  {
   "cell_type": "markdown",
   "metadata": {},
   "source": [
    "Pertama kita coba kumpulkan data total kasus COVID-19 pada provinsi Jawa Tengah dan Jawa Timur."
   ]
  },
  {
   "cell_type": "code",
   "execution_count": 146,
   "metadata": {},
   "outputs": [
    {
     "data": {
      "text/html": [
       "<div>\n",
       "<style scoped>\n",
       "    .dataframe tbody tr th:only-of-type {\n",
       "        vertical-align: middle;\n",
       "    }\n",
       "\n",
       "    .dataframe tbody tr th {\n",
       "        vertical-align: top;\n",
       "    }\n",
       "\n",
       "    .dataframe thead th {\n",
       "        text-align: right;\n",
       "    }\n",
       "</style>\n",
       "<table border=\"1\" class=\"dataframe\">\n",
       "  <thead>\n",
       "    <tr style=\"text-align: right;\">\n",
       "      <th></th>\n",
       "      <th>Total Cases Jawa Tengah</th>\n",
       "      <th>Total Cases Jawa Timur</th>\n",
       "    </tr>\n",
       "    <tr>\n",
       "      <th>Date</th>\n",
       "      <th></th>\n",
       "      <th></th>\n",
       "    </tr>\n",
       "  </thead>\n",
       "  <tbody>\n",
       "    <tr>\n",
       "      <th>3/8/2020</th>\n",
       "      <td>1</td>\n",
       "      <td>NaN</td>\n",
       "    </tr>\n",
       "    <tr>\n",
       "      <th>3/9/2020</th>\n",
       "      <td>1</td>\n",
       "      <td>NaN</td>\n",
       "    </tr>\n",
       "    <tr>\n",
       "      <th>3/10/2020</th>\n",
       "      <td>1</td>\n",
       "      <td>NaN</td>\n",
       "    </tr>\n",
       "    <tr>\n",
       "      <th>3/11/2020</th>\n",
       "      <td>3</td>\n",
       "      <td>NaN</td>\n",
       "    </tr>\n",
       "    <tr>\n",
       "      <th>3/12/2020</th>\n",
       "      <td>3</td>\n",
       "      <td>NaN</td>\n",
       "    </tr>\n",
       "    <tr>\n",
       "      <th>...</th>\n",
       "      <td>...</td>\n",
       "      <td>...</td>\n",
       "    </tr>\n",
       "    <tr>\n",
       "      <th>11/28/2021</th>\n",
       "      <td>486330</td>\n",
       "      <td>399368.0</td>\n",
       "    </tr>\n",
       "    <tr>\n",
       "      <th>11/29/2021</th>\n",
       "      <td>486350</td>\n",
       "      <td>399378.0</td>\n",
       "    </tr>\n",
       "    <tr>\n",
       "      <th>11/30/2021</th>\n",
       "      <td>486385</td>\n",
       "      <td>399413.0</td>\n",
       "    </tr>\n",
       "    <tr>\n",
       "      <th>12/1/2021</th>\n",
       "      <td>486405</td>\n",
       "      <td>399443.0</td>\n",
       "    </tr>\n",
       "    <tr>\n",
       "      <th>12/2/2021</th>\n",
       "      <td>486435</td>\n",
       "      <td>399478.0</td>\n",
       "    </tr>\n",
       "  </tbody>\n",
       "</table>\n",
       "<p>635 rows × 2 columns</p>\n",
       "</div>"
      ],
      "text/plain": [
       "            Total Cases Jawa Tengah  Total Cases Jawa Timur\n",
       "Date                                                       \n",
       "3/8/2020                          1                     NaN\n",
       "3/9/2020                          1                     NaN\n",
       "3/10/2020                         1                     NaN\n",
       "3/11/2020                         3                     NaN\n",
       "3/12/2020                         3                     NaN\n",
       "...                             ...                     ...\n",
       "11/28/2021                   486330                399368.0\n",
       "11/29/2021                   486350                399378.0\n",
       "11/30/2021                   486385                399413.0\n",
       "12/1/2021                    486405                399443.0\n",
       "12/2/2021                    486435                399478.0\n",
       "\n",
       "[635 rows x 2 columns]"
      ]
     },
     "execution_count": 146,
     "metadata": {},
     "output_type": "execute_result"
    }
   ],
   "source": [
    "data_jatengx = data[data['Location'] == 'Jawa Tengah'][['Date','Total Cases']].set_index('Date')\n",
    "data_jatimx = data[data['Location'] == 'Jawa Timur'][['Date','Total Cases']].set_index('Date')\n",
    "data_jatengx.join(data_jatimx, lsuffix=' Jawa Tengah', rsuffix=' Jawa Timur')"
   ]
  },
  {
   "cell_type": "code",
   "execution_count": 147,
   "metadata": {},
   "outputs": [
    {
     "name": "stdout",
     "output_type": "stream",
     "text": [
      "Rata-rata total kasus di Jawa Tengah adalah 164727.38\n",
      "Rata-rata total kasus di Jawa Timur adalah 140511.67\n"
     ]
    }
   ],
   "source": [
    "data_jateng = data[data['Location'] == 'Jawa Tengah']['Total Cases']\n",
    "data_jatim = data[data['Location'] == 'Jawa Timur']['Total Cases']\n",
    "\n",
    "print(f'Rata-rata total kasus di Jawa Tengah adalah {round(data_jateng.mean(),2)}')\n",
    "print(f'Rata-rata total kasus di Jawa Timur adalah {round(data_jatim.mean(),2)}')"
   ]
  },
  {
   "cell_type": "markdown",
   "metadata": {},
   "source": [
    "Terlihat bahwa kedua rata-rata provinsi tersebut tidak berbeda jauh."
   ]
  },
  {
   "cell_type": "code",
   "execution_count": 148,
   "metadata": {},
   "outputs": [
    {
     "name": "stdout",
     "output_type": "stream",
     "text": [
      "P-value: 0.006176374827481747\n",
      "t-statistics: 2.7428995721821288\n"
     ]
    }
   ],
   "source": [
    "t_stat, p_val = stats.ttest_ind(data_jateng,data_jatim)\n",
    "print('P-value:',p_val) #the p-value isn't divided by 2 since the output is two-sided p-value\n",
    "print('t-statistics:',t_stat)"
   ]
  },
  {
   "cell_type": "markdown",
   "metadata": {},
   "source": [
    "Dengan asumsi kedua populasi berdistribusi normal, kita bisa ilustrasikan sebagai berikut:"
   ]
  },
  {
   "cell_type": "code",
   "execution_count": 157,
   "metadata": {},
   "outputs": [
    {
     "name": "stderr",
     "output_type": "stream",
     "text": [
      "c:\\Users\\ikhbar\\anaconda3\\lib\\site-packages\\seaborn\\distributions.py:2619: FutureWarning: `distplot` is a deprecated function and will be removed in a future version. Please adapt your code to use either `displot` (a figure-level function with similar flexibility) or `histplot` (an axes-level function for histograms).\n",
      "  warnings.warn(msg, FutureWarning)\n",
      "c:\\Users\\ikhbar\\anaconda3\\lib\\site-packages\\seaborn\\distributions.py:2619: FutureWarning: `distplot` is a deprecated function and will be removed in a future version. Please adapt your code to use either `displot` (a figure-level function with similar flexibility) or `histplot` (an axes-level function for histograms).\n",
      "  warnings.warn(msg, FutureWarning)\n"
     ]
    },
    {
     "data": {
      "image/png": "[encoded data removed]",
      "text/plain": [
       "<Figure size 1152x360 with 1 Axes>"
      ]
     },
     "metadata": {
      "needs_background": "light"
     },
     "output_type": "display_data"
    }
   ],
   "source": [
    "jateng_pop=np.random.normal(data_jateng.mean(),data_jateng.std(),10000)\n",
    "jatim_pop=np.random.normal(data_jateng.mean(),data_jatim.std(),10000)\n",
    "\n",
    "ci = stats.norm.interval(0.95, data_jateng.mean(),data_jateng.std()) #Karena asums awal kedua variabel x_1=x_2 maka confidence interval kita gunakan salah satu variabel acak saja\n",
    "\n",
    "plt.figure(figsize=(16,5))\n",
    "sns.distplot(jateng_pop, label = 'Jawa Tengah', color = 'blue')\n",
    "sns.distplot(jatim_pop, label = 'Jawa Timur', color = 'red')\n",
    "\n",
    "plt.axvline(data_jateng.mean(), linestyle='dashed', color = 'blue')\n",
    "plt.axvline(data_jatim.mean(), linestyle='dashed', color = 'red')\n",
    "\n",
    "plt.axvline(ci[1], color='green', linestyle='dashed', linewidth=2, label='confidence threshold of 95%')\n",
    "plt.axvline(ci[0], color='green', linestyle='dashed', linewidth=2)\n",
    "\n",
    "plt.axvline(jateng_pop.mean()+t_stat*jateng_pop.std(), color='black', linestyle='dashed', linewidth=2, label = 'Alternative Hypothesis')\n",
    "plt.axvline(jateng_pop.mean()-t_stat*jateng_pop.std(), color='black', linestyle='dashed', linewidth=2)\n",
    "\n",
    "plt.legend()\n",
    "plt.show()"
   ]
  },
  {
   "cell_type": "markdown",
   "metadata": {},
   "source": [
    "**Karena  p-value 0.00617 lebih kecil dari `0.05`, maka kita tolak the null hypothesis** dan dapat dinyatakan bahwa **terdapat** perbedaan jumlah total kasus ecara signifikan."
   ]
  },
  {
   "cell_type": "markdown",
   "metadata": {},
   "source": [
    "### ANOVA\n",
    "\n",
    "Kali ini kita akan meninjau total kasus aktif dalam rentang 5 bulan di pulau Kalimantan, apakah terdapat perbedaan secara signifikan antara rata-rata tiap provinsi di pulau Kalimantan (Kalimantan Barat, Kalimantan Timur, Kalimantan Tengah, Kalimantan Utara, Kalimantan Selatan)?\n",
    "\n",
    "Hipotesis kita disini dapat dituliskan sebagai:\n",
    "\n",
    "$H_0:\\mu_1=\\mu_2=\\mu_3=\\mu_4=\\mu_5$\n",
    "\n",
    "$H_1:$ Tidak semua rata-rata sama"
   ]
  },
  {
   "cell_type": "markdown",
   "metadata": {},
   "source": [
    "Pertama-tama kita akan kumpulkan data total kasus aktif pada tiap provinsi di pulau Kalimantan."
   ]
  },
  {
   "cell_type": "code",
   "execution_count": 164,
   "metadata": {},
   "outputs": [
    {
     "name": "stdout",
     "output_type": "stream",
     "text": [
      "Rata-rata total kasus di Kalimantan Barat adalah 651.41\n",
      "Rata-rata total kasus di Kalimantan Timur adalah 3249.57\n",
      "Rata-rata total kasus di Kalimantan Tengah adalah 1720.63\n",
      "Rata-rata total kasus di Kalimantan Utara adalah 1245.03\n",
      "Rata-rata total kasus di Kalimantan Selatan adalah 1822.69\n"
     ]
    }
   ],
   "source": [
    "data_kalbar = data[data['Location'] == 'Kalimantan Barat']['Total Active Cases']\n",
    "data_kaltim = data[data['Location'] == 'Kalimantan Timur']['Total Active Cases']\n",
    "data_kalteng = data[data['Location'] == 'Kalimantan Tengah']['Total Active Cases']\n",
    "data_kalut = data[data['Location'] == 'Kalimantan Utara']['Total Active Cases']\n",
    "data_kalsel = data[data['Location'] == 'Kalimantan Selatan']['Total Active Cases']\n",
    "\n",
    "print(f'Rata-rata total kasus di Kalimantan Barat adalah {round(data_kalbar.mean(),2)}')\n",
    "print(f'Rata-rata total kasus di Kalimantan Timur adalah {round(data_kaltim.mean(),2)}')\n",
    "print(f'Rata-rata total kasus di Kalimantan Tengah adalah {round(data_kalteng.mean(),2)}')\n",
    "print(f'Rata-rata total kasus di Kalimantan Utara adalah {round(data_kalut.mean(),2)}')\n",
    "print(f'Rata-rata total kasus di Kalimantan Selatan adalah {round(data_kalsel.mean(),2)}')"
   ]
  },
  {
   "cell_type": "code",
   "execution_count": 165,
   "metadata": {},
   "outputs": [
    {
     "name": "stdout",
     "output_type": "stream",
     "text": [
      "P-value: 2.259350438361357e-69\n"
     ]
    }
   ],
   "source": [
    "f_stat,p_value = stats.f_oneway(data_kalbar, data_kaltim,data_kalteng,data_kalut,data_kalsel)\n",
    "print('P-value:',p_value)"
   ]
  },
  {
   "cell_type": "markdown",
   "metadata": {},
   "source": [
    "**Karena nilai p-value is below 0.05, maka kita tolak Null Hypothesis.** Dapat dinyatakan bahwa terdapat perbedaan yang cukup signifikan antara tiap provinsi di pulau Kalimantan."
   ]
  }
 ],
 "metadata": {
  "kernelspec": {
   "display_name": "Python 3.8.13 ('base')",
   "language": "python",
   "name": "python3"
  },
  "language_info": {
   "codemirror_mode": {
    "name": "ipython",
    "version": 3
   },
   "file_extension": ".py",
   "mimetype": "text/x-python",
   "name": "python",
   "nbconvert_exporter": "python",
   "pygments_lexer": "ipython3",
   "version": "3.8.13"
  },
  "orig_nbformat": 4,
  "vscode": {
   "interpreter": {
    "hash": "632d2d5b8a97db3f76bb862f926947aa7578c9985e2122ffe2fc4083542bd2e7"
   }
  }
 },
 "nbformat": 4,
 "nbformat_minor": 2
}
