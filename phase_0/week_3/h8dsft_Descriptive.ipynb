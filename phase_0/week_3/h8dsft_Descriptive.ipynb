{
 "cells": [
  {
   "cell_type": "markdown",
   "metadata": {},
   "source": [
    "## Data Description\n",
    "The COVID-19 pandemic dataset in Indonesia, time series. This dataset is a compilation of various open data sources, including: covid19.go.id (pandemic data), kemendagri.go.id (demographic data), bps.go.id (demographic data), as well as some calculations of the relationship of the data.\n",
    "\n",
    "This dataset contains a time series of COVID-19 pandemic events in Indonesia, at the country level to province level. If possible, in the future I will provide it to the city/regency level."
   ]
  },
  {
   "cell_type": "markdown",
   "metadata": {},
   "source": [
    "## Objective\n",
    "Mencari central tendency dan variance dari fitur-fitur kolom data set."
   ]
  },
  {
   "cell_type": "markdown",
   "metadata": {},
   "source": [
    "## Working Area"
   ]
  },
  {
   "cell_type": "markdown",
   "metadata": {},
   "source": [
    "Import library yang diperlukan"
   ]
  },
  {
   "cell_type": "code",
   "execution_count": 256,
   "metadata": {},
   "outputs": [],
   "source": [
    "import pandas as pd\n",
    "import numpy as np\n",
    "import matplotlib.pyplot as plt\n",
    "from scipy import stats"
   ]
  },
  {
   "cell_type": "markdown",
   "metadata": {},
   "source": [
    "Load data menjadi DataFrame"
   ]
  },
  {
   "cell_type": "code",
   "execution_count": 257,
   "metadata": {},
   "outputs": [
    {
     "data": {
      "text/html": [
       "<div>\n",
       "<style scoped>\n",
       "    .dataframe tbody tr th:only-of-type {\n",
       "        vertical-align: middle;\n",
       "    }\n",
       "\n",
       "    .dataframe tbody tr th {\n",
       "        vertical-align: top;\n",
       "    }\n",
       "\n",
       "    .dataframe thead th {\n",
       "        text-align: right;\n",
       "    }\n",
       "</style>\n",
       "<table border=\"1\" class=\"dataframe\">\n",
       "  <thead>\n",
       "    <tr style=\"text-align: right;\">\n",
       "      <th></th>\n",
       "      <th>Date</th>\n",
       "      <th>Location ISO Code</th>\n",
       "      <th>Location</th>\n",
       "      <th>New Cases</th>\n",
       "      <th>New Deaths</th>\n",
       "      <th>New Recovered</th>\n",
       "      <th>New Active Cases</th>\n",
       "      <th>Total Cases</th>\n",
       "      <th>Total Deaths</th>\n",
       "      <th>Total Recovered</th>\n",
       "      <th>...</th>\n",
       "      <th>Latitude</th>\n",
       "      <th>New Cases per Million</th>\n",
       "      <th>Total Cases per Million</th>\n",
       "      <th>New Deaths per Million</th>\n",
       "      <th>Total Deaths per Million</th>\n",
       "      <th>Total Deaths per 100rb</th>\n",
       "      <th>Case Fatality Rate</th>\n",
       "      <th>Case Recovered Rate</th>\n",
       "      <th>Growth Factor of New Cases</th>\n",
       "      <th>Growth Factor of New Deaths</th>\n",
       "    </tr>\n",
       "  </thead>\n",
       "  <tbody>\n",
       "    <tr>\n",
       "      <th>0</th>\n",
       "      <td>3/1/2020</td>\n",
       "      <td>ID-JK</td>\n",
       "      <td>DKI Jakarta</td>\n",
       "      <td>2</td>\n",
       "      <td>0</td>\n",
       "      <td>0</td>\n",
       "      <td>2</td>\n",
       "      <td>39</td>\n",
       "      <td>20</td>\n",
       "      <td>41</td>\n",
       "      <td>...</td>\n",
       "      <td>-6.204699</td>\n",
       "      <td>0.18</td>\n",
       "      <td>3.60</td>\n",
       "      <td>0.0</td>\n",
       "      <td>1.84</td>\n",
       "      <td>0.18</td>\n",
       "      <td>51.28%</td>\n",
       "      <td>105.13%</td>\n",
       "      <td>NaN</td>\n",
       "      <td>NaN</td>\n",
       "    </tr>\n",
       "    <tr>\n",
       "      <th>1</th>\n",
       "      <td>3/2/2020</td>\n",
       "      <td>ID-JK</td>\n",
       "      <td>DKI Jakarta</td>\n",
       "      <td>2</td>\n",
       "      <td>0</td>\n",
       "      <td>0</td>\n",
       "      <td>2</td>\n",
       "      <td>41</td>\n",
       "      <td>20</td>\n",
       "      <td>41</td>\n",
       "      <td>...</td>\n",
       "      <td>-6.204699</td>\n",
       "      <td>0.18</td>\n",
       "      <td>3.78</td>\n",
       "      <td>0.0</td>\n",
       "      <td>1.84</td>\n",
       "      <td>0.18</td>\n",
       "      <td>48.78%</td>\n",
       "      <td>100.00%</td>\n",
       "      <td>1.0</td>\n",
       "      <td>1.0</td>\n",
       "    </tr>\n",
       "    <tr>\n",
       "      <th>2</th>\n",
       "      <td>3/2/2020</td>\n",
       "      <td>IDN</td>\n",
       "      <td>Indonesia</td>\n",
       "      <td>2</td>\n",
       "      <td>0</td>\n",
       "      <td>0</td>\n",
       "      <td>2</td>\n",
       "      <td>2</td>\n",
       "      <td>0</td>\n",
       "      <td>0</td>\n",
       "      <td>...</td>\n",
       "      <td>-0.789275</td>\n",
       "      <td>0.01</td>\n",
       "      <td>0.01</td>\n",
       "      <td>0.0</td>\n",
       "      <td>0.00</td>\n",
       "      <td>0.00</td>\n",
       "      <td>0.00%</td>\n",
       "      <td>0.00%</td>\n",
       "      <td>NaN</td>\n",
       "      <td>NaN</td>\n",
       "    </tr>\n",
       "    <tr>\n",
       "      <th>3</th>\n",
       "      <td>3/2/2020</td>\n",
       "      <td>ID-RI</td>\n",
       "      <td>Riau</td>\n",
       "      <td>1</td>\n",
       "      <td>0</td>\n",
       "      <td>0</td>\n",
       "      <td>1</td>\n",
       "      <td>2</td>\n",
       "      <td>0</td>\n",
       "      <td>3</td>\n",
       "      <td>...</td>\n",
       "      <td>0.511648</td>\n",
       "      <td>0.16</td>\n",
       "      <td>0.33</td>\n",
       "      <td>0.0</td>\n",
       "      <td>0.00</td>\n",
       "      <td>0.00</td>\n",
       "      <td>0.00%</td>\n",
       "      <td>150.00%</td>\n",
       "      <td>NaN</td>\n",
       "      <td>NaN</td>\n",
       "    </tr>\n",
       "    <tr>\n",
       "      <th>4</th>\n",
       "      <td>3/3/2020</td>\n",
       "      <td>ID-JK</td>\n",
       "      <td>DKI Jakarta</td>\n",
       "      <td>2</td>\n",
       "      <td>0</td>\n",
       "      <td>0</td>\n",
       "      <td>2</td>\n",
       "      <td>43</td>\n",
       "      <td>20</td>\n",
       "      <td>41</td>\n",
       "      <td>...</td>\n",
       "      <td>-6.204699</td>\n",
       "      <td>0.18</td>\n",
       "      <td>3.96</td>\n",
       "      <td>0.0</td>\n",
       "      <td>1.84</td>\n",
       "      <td>0.18</td>\n",
       "      <td>46.51%</td>\n",
       "      <td>95.35%</td>\n",
       "      <td>1.0</td>\n",
       "      <td>1.0</td>\n",
       "    </tr>\n",
       "  </tbody>\n",
       "</table>\n",
       "<p>5 rows × 38 columns</p>\n",
       "</div>"
      ],
      "text/plain": [
       "       Date Location ISO Code     Location  New Cases  New Deaths  \\\n",
       "0  3/1/2020             ID-JK  DKI Jakarta          2           0   \n",
       "1  3/2/2020             ID-JK  DKI Jakarta          2           0   \n",
       "2  3/2/2020               IDN    Indonesia          2           0   \n",
       "3  3/2/2020             ID-RI         Riau          1           0   \n",
       "4  3/3/2020             ID-JK  DKI Jakarta          2           0   \n",
       "\n",
       "   New Recovered  New Active Cases  Total Cases  Total Deaths  \\\n",
       "0              0                 2           39            20   \n",
       "1              0                 2           41            20   \n",
       "2              0                 2            2             0   \n",
       "3              0                 1            2             0   \n",
       "4              0                 2           43            20   \n",
       "\n",
       "   Total Recovered  ...  Latitude New Cases per Million  \\\n",
       "0               41  ... -6.204699                  0.18   \n",
       "1               41  ... -6.204699                  0.18   \n",
       "2                0  ... -0.789275                  0.01   \n",
       "3                3  ...  0.511648                  0.16   \n",
       "4               41  ... -6.204699                  0.18   \n",
       "\n",
       "   Total Cases per Million New Deaths per Million Total Deaths per Million  \\\n",
       "0                     3.60                    0.0                     1.84   \n",
       "1                     3.78                    0.0                     1.84   \n",
       "2                     0.01                    0.0                     0.00   \n",
       "3                     0.33                    0.0                     0.00   \n",
       "4                     3.96                    0.0                     1.84   \n",
       "\n",
       "  Total Deaths per 100rb Case Fatality Rate Case Recovered Rate  \\\n",
       "0                   0.18             51.28%             105.13%   \n",
       "1                   0.18             48.78%             100.00%   \n",
       "2                   0.00              0.00%               0.00%   \n",
       "3                   0.00              0.00%             150.00%   \n",
       "4                   0.18             46.51%              95.35%   \n",
       "\n",
       "  Growth Factor of New Cases  Growth Factor of New Deaths  \n",
       "0                        NaN                          NaN  \n",
       "1                        1.0                          1.0  \n",
       "2                        NaN                          NaN  \n",
       "3                        NaN                          NaN  \n",
       "4                        1.0                          1.0  \n",
       "\n",
       "[5 rows x 38 columns]"
      ]
     },
     "execution_count": 257,
     "metadata": {},
     "output_type": "execute_result"
    }
   ],
   "source": [
    "data = pd.read_csv('covid_19_indonesia_time_series_all.csv')\n",
    "data.head()"
   ]
  },
  {
   "cell_type": "markdown",
   "metadata": {},
   "source": [
    "Melihat statistik data pada tiap kolom fitur."
   ]
  },
  {
   "cell_type": "code",
   "execution_count": 258,
   "metadata": {},
   "outputs": [
    {
     "data": {
      "text/html": [
       "<div>\n",
       "<style scoped>\n",
       "    .dataframe tbody tr th:only-of-type {\n",
       "        vertical-align: middle;\n",
       "    }\n",
       "\n",
       "    .dataframe tbody tr th {\n",
       "        vertical-align: top;\n",
       "    }\n",
       "\n",
       "    .dataframe thead th {\n",
       "        text-align: right;\n",
       "    }\n",
       "</style>\n",
       "<table border=\"1\" class=\"dataframe\">\n",
       "  <thead>\n",
       "    <tr style=\"text-align: right;\">\n",
       "      <th></th>\n",
       "      <th>New Cases</th>\n",
       "      <th>New Deaths</th>\n",
       "      <th>New Recovered</th>\n",
       "      <th>New Active Cases</th>\n",
       "      <th>Total Cases</th>\n",
       "      <th>Total Deaths</th>\n",
       "      <th>Total Recovered</th>\n",
       "      <th>Total Active Cases</th>\n",
       "      <th>City or Regency</th>\n",
       "      <th>Total Regencies</th>\n",
       "      <th>...</th>\n",
       "      <th>Population Density</th>\n",
       "      <th>Longitude</th>\n",
       "      <th>Latitude</th>\n",
       "      <th>New Cases per Million</th>\n",
       "      <th>Total Cases per Million</th>\n",
       "      <th>New Deaths per Million</th>\n",
       "      <th>Total Deaths per Million</th>\n",
       "      <th>Total Deaths per 100rb</th>\n",
       "      <th>Growth Factor of New Cases</th>\n",
       "      <th>Growth Factor of New Deaths</th>\n",
       "    </tr>\n",
       "  </thead>\n",
       "  <tbody>\n",
       "    <tr>\n",
       "      <th>count</th>\n",
       "      <td>21759.000000</td>\n",
       "      <td>21759.000000</td>\n",
       "      <td>21759.000000</td>\n",
       "      <td>21759.000000</td>\n",
       "      <td>2.175900e+04</td>\n",
       "      <td>21759.000000</td>\n",
       "      <td>2.175900e+04</td>\n",
       "      <td>21759.000000</td>\n",
       "      <td>0.0</td>\n",
       "      <td>21759.000000</td>\n",
       "      <td>...</td>\n",
       "      <td>21759.000000</td>\n",
       "      <td>21759.000000</td>\n",
       "      <td>21759.000000</td>\n",
       "      <td>21759.000000</td>\n",
       "      <td>21759.000000</td>\n",
       "      <td>21759.000000</td>\n",
       "      <td>21759.000000</td>\n",
       "      <td>21759.000000</td>\n",
       "      <td>20572.000000</td>\n",
       "      <td>19292.000000</td>\n",
       "    </tr>\n",
       "    <tr>\n",
       "      <th>mean</th>\n",
       "      <td>391.293580</td>\n",
       "      <td>13.220415</td>\n",
       "      <td>377.310998</td>\n",
       "      <td>0.762167</td>\n",
       "      <td>8.525997e+04</td>\n",
       "      <td>2648.289352</td>\n",
       "      <td>7.671260e+04</td>\n",
       "      <td>5899.079002</td>\n",
       "      <td>NaN</td>\n",
       "      <td>24.160256</td>\n",
       "      <td>...</td>\n",
       "      <td>744.989784</td>\n",
       "      <td>113.680803</td>\n",
       "      <td>-2.731868</td>\n",
       "      <td>29.393033</td>\n",
       "      <td>6183.650588</td>\n",
       "      <td>0.852727</td>\n",
       "      <td>163.542156</td>\n",
       "      <td>16.354192</td>\n",
       "      <td>1.395671</td>\n",
       "      <td>1.074145</td>\n",
       "    </tr>\n",
       "    <tr>\n",
       "      <th>std</th>\n",
       "      <td>2074.551043</td>\n",
       "      <td>76.482617</td>\n",
       "      <td>1999.062563</td>\n",
       "      <td>937.213509</td>\n",
       "      <td>3.685133e+05</td>\n",
       "      <td>11776.011067</td>\n",
       "      <td>3.403957e+05</td>\n",
       "      <td>27518.102431</td>\n",
       "      <td>NaN</td>\n",
       "      <td>68.708265</td>\n",
       "      <td>...</td>\n",
       "      <td>2743.209719</td>\n",
       "      <td>9.857587</td>\n",
       "      <td>3.608264</td>\n",
       "      <td>69.941090</td>\n",
       "      <td>10288.123342</td>\n",
       "      <td>2.277310</td>\n",
       "      <td>254.195761</td>\n",
       "      <td>25.419595</td>\n",
       "      <td>3.080207</td>\n",
       "      <td>1.578502</td>\n",
       "    </tr>\n",
       "    <tr>\n",
       "      <th>min</th>\n",
       "      <td>0.000000</td>\n",
       "      <td>0.000000</td>\n",
       "      <td>0.000000</td>\n",
       "      <td>-25725.000000</td>\n",
       "      <td>1.000000e+00</td>\n",
       "      <td>0.000000</td>\n",
       "      <td>0.000000e+00</td>\n",
       "      <td>-2306.000000</td>\n",
       "      <td>NaN</td>\n",
       "      <td>1.000000</td>\n",
       "      <td>...</td>\n",
       "      <td>8.590000</td>\n",
       "      <td>96.910522</td>\n",
       "      <td>-8.682205</td>\n",
       "      <td>0.000000</td>\n",
       "      <td>0.010000</td>\n",
       "      <td>0.000000</td>\n",
       "      <td>0.000000</td>\n",
       "      <td>0.000000</td>\n",
       "      <td>0.000000</td>\n",
       "      <td>0.000000</td>\n",
       "    </tr>\n",
       "    <tr>\n",
       "      <th>25%</th>\n",
       "      <td>7.000000</td>\n",
       "      <td>0.000000</td>\n",
       "      <td>4.000000</td>\n",
       "      <td>-16.000000</td>\n",
       "      <td>1.822500e+03</td>\n",
       "      <td>50.000000</td>\n",
       "      <td>1.038500e+03</td>\n",
       "      <td>182.000000</td>\n",
       "      <td>NaN</td>\n",
       "      <td>7.000000</td>\n",
       "      <td>...</td>\n",
       "      <td>47.790000</td>\n",
       "      <td>106.109004</td>\n",
       "      <td>-6.204699</td>\n",
       "      <td>1.750000</td>\n",
       "      <td>415.915000</td>\n",
       "      <td>0.000000</td>\n",
       "      <td>10.880000</td>\n",
       "      <td>1.090000</td>\n",
       "      <td>0.650000</td>\n",
       "      <td>0.660000</td>\n",
       "    </tr>\n",
       "    <tr>\n",
       "      <th>50%</th>\n",
       "      <td>41.000000</td>\n",
       "      <td>1.000000</td>\n",
       "      <td>31.000000</td>\n",
       "      <td>0.000000</td>\n",
       "      <td>1.078000e+04</td>\n",
       "      <td>283.000000</td>\n",
       "      <td>8.745000e+03</td>\n",
       "      <td>919.000000</td>\n",
       "      <td>NaN</td>\n",
       "      <td>11.000000</td>\n",
       "      <td>...</td>\n",
       "      <td>103.840000</td>\n",
       "      <td>113.417654</td>\n",
       "      <td>-2.461746</td>\n",
       "      <td>8.160000</td>\n",
       "      <td>2727.460000</td>\n",
       "      <td>0.180000</td>\n",
       "      <td>73.550000</td>\n",
       "      <td>7.350000</td>\n",
       "      <td>0.990000</td>\n",
       "      <td>1.000000</td>\n",
       "    </tr>\n",
       "    <tr>\n",
       "      <th>75%</th>\n",
       "      <td>151.000000</td>\n",
       "      <td>5.000000</td>\n",
       "      <td>143.000000</td>\n",
       "      <td>27.000000</td>\n",
       "      <td>3.646450e+04</td>\n",
       "      <td>1050.000000</td>\n",
       "      <td>3.293250e+04</td>\n",
       "      <td>2607.500000</td>\n",
       "      <td>NaN</td>\n",
       "      <td>18.000000</td>\n",
       "      <td>...</td>\n",
       "      <td>262.700000</td>\n",
       "      <td>121.201093</td>\n",
       "      <td>0.212037</td>\n",
       "      <td>26.260000</td>\n",
       "      <td>7374.120000</td>\n",
       "      <td>0.750000</td>\n",
       "      <td>195.850000</td>\n",
       "      <td>19.585000</td>\n",
       "      <td>1.330000</td>\n",
       "      <td>1.000000</td>\n",
       "    </tr>\n",
       "    <tr>\n",
       "      <th>max</th>\n",
       "      <td>56757.000000</td>\n",
       "      <td>2069.000000</td>\n",
       "      <td>48832.000000</td>\n",
       "      <td>36726.000000</td>\n",
       "      <td>4.257243e+06</td>\n",
       "      <td>143858.000000</td>\n",
       "      <td>4.105680e+06</td>\n",
       "      <td>574135.000000</td>\n",
       "      <td>NaN</td>\n",
       "      <td>416.000000</td>\n",
       "      <td>...</td>\n",
       "      <td>16334.310000</td>\n",
       "      <td>138.696030</td>\n",
       "      <td>4.225615</td>\n",
       "      <td>1348.130000</td>\n",
       "      <td>79663.790000</td>\n",
       "      <td>63.800000</td>\n",
       "      <td>1533.980000</td>\n",
       "      <td>153.400000</td>\n",
       "      <td>175.000000</td>\n",
       "      <td>134.500000</td>\n",
       "    </tr>\n",
       "  </tbody>\n",
       "</table>\n",
       "<p>8 rows × 26 columns</p>\n",
       "</div>"
      ],
      "text/plain": [
       "          New Cases    New Deaths  New Recovered  New Active Cases  \\\n",
       "count  21759.000000  21759.000000   21759.000000      21759.000000   \n",
       "mean     391.293580     13.220415     377.310998          0.762167   \n",
       "std     2074.551043     76.482617    1999.062563        937.213509   \n",
       "min        0.000000      0.000000       0.000000     -25725.000000   \n",
       "25%        7.000000      0.000000       4.000000        -16.000000   \n",
       "50%       41.000000      1.000000      31.000000          0.000000   \n",
       "75%      151.000000      5.000000     143.000000         27.000000   \n",
       "max    56757.000000   2069.000000   48832.000000      36726.000000   \n",
       "\n",
       "        Total Cases   Total Deaths  Total Recovered  Total Active Cases  \\\n",
       "count  2.175900e+04   21759.000000     2.175900e+04        21759.000000   \n",
       "mean   8.525997e+04    2648.289352     7.671260e+04         5899.079002   \n",
       "std    3.685133e+05   11776.011067     3.403957e+05        27518.102431   \n",
       "min    1.000000e+00       0.000000     0.000000e+00        -2306.000000   \n",
       "25%    1.822500e+03      50.000000     1.038500e+03          182.000000   \n",
       "50%    1.078000e+04     283.000000     8.745000e+03          919.000000   \n",
       "75%    3.646450e+04    1050.000000     3.293250e+04         2607.500000   \n",
       "max    4.257243e+06  143858.000000     4.105680e+06       574135.000000   \n",
       "\n",
       "       City or Regency  Total Regencies  ...  Population Density  \\\n",
       "count              0.0     21759.000000  ...        21759.000000   \n",
       "mean               NaN        24.160256  ...          744.989784   \n",
       "std                NaN        68.708265  ...         2743.209719   \n",
       "min                NaN         1.000000  ...            8.590000   \n",
       "25%                NaN         7.000000  ...           47.790000   \n",
       "50%                NaN        11.000000  ...          103.840000   \n",
       "75%                NaN        18.000000  ...          262.700000   \n",
       "max                NaN       416.000000  ...        16334.310000   \n",
       "\n",
       "          Longitude      Latitude  New Cases per Million  \\\n",
       "count  21759.000000  21759.000000           21759.000000   \n",
       "mean     113.680803     -2.731868              29.393033   \n",
       "std        9.857587      3.608264              69.941090   \n",
       "min       96.910522     -8.682205               0.000000   \n",
       "25%      106.109004     -6.204699               1.750000   \n",
       "50%      113.417654     -2.461746               8.160000   \n",
       "75%      121.201093      0.212037              26.260000   \n",
       "max      138.696030      4.225615            1348.130000   \n",
       "\n",
       "       Total Cases per Million  New Deaths per Million  \\\n",
       "count             21759.000000            21759.000000   \n",
       "mean               6183.650588                0.852727   \n",
       "std               10288.123342                2.277310   \n",
       "min                   0.010000                0.000000   \n",
       "25%                 415.915000                0.000000   \n",
       "50%                2727.460000                0.180000   \n",
       "75%                7374.120000                0.750000   \n",
       "max               79663.790000               63.800000   \n",
       "\n",
       "       Total Deaths per Million  Total Deaths per 100rb  \\\n",
       "count              21759.000000            21759.000000   \n",
       "mean                 163.542156               16.354192   \n",
       "std                  254.195761               25.419595   \n",
       "min                    0.000000                0.000000   \n",
       "25%                   10.880000                1.090000   \n",
       "50%                   73.550000                7.350000   \n",
       "75%                  195.850000               19.585000   \n",
       "max                 1533.980000              153.400000   \n",
       "\n",
       "       Growth Factor of New Cases  Growth Factor of New Deaths  \n",
       "count                20572.000000                 19292.000000  \n",
       "mean                     1.395671                     1.074145  \n",
       "std                      3.080207                     1.578502  \n",
       "min                      0.000000                     0.000000  \n",
       "25%                      0.650000                     0.660000  \n",
       "50%                      0.990000                     1.000000  \n",
       "75%                      1.330000                     1.000000  \n",
       "max                    175.000000                   134.500000  \n",
       "\n",
       "[8 rows x 26 columns]"
      ]
     },
     "execution_count": 258,
     "metadata": {},
     "output_type": "execute_result"
    }
   ],
   "source": [
    "data.describe()"
   ]
  },
  {
   "cell_type": "markdown",
   "metadata": {},
   "source": [
    "Cek tipe fitur kolom beserta jumlah null."
   ]
  },
  {
   "cell_type": "code",
   "execution_count": 259,
   "metadata": {},
   "outputs": [
    {
     "name": "stdout",
     "output_type": "stream",
     "text": [
      "<class 'pandas.core.frame.DataFrame'>\n",
      "RangeIndex: 21759 entries, 0 to 21758\n",
      "Data columns (total 38 columns):\n",
      " #   Column                       Non-Null Count  Dtype  \n",
      "---  ------                       --------------  -----  \n",
      " 0   Date                         21759 non-null  object \n",
      " 1   Location ISO Code            21759 non-null  object \n",
      " 2   Location                     21759 non-null  object \n",
      " 3   New Cases                    21759 non-null  int64  \n",
      " 4   New Deaths                   21759 non-null  int64  \n",
      " 5   New Recovered                21759 non-null  int64  \n",
      " 6   New Active Cases             21759 non-null  int64  \n",
      " 7   Total Cases                  21759 non-null  int64  \n",
      " 8   Total Deaths                 21759 non-null  int64  \n",
      " 9   Total Recovered              21759 non-null  int64  \n",
      " 10  Total Active Cases           21759 non-null  int64  \n",
      " 11  Location Level               21759 non-null  object \n",
      " 12  City or Regency              0 non-null      float64\n",
      " 13  Province                     21117 non-null  object \n",
      " 14  Country                      21759 non-null  object \n",
      " 15  Continent                    21759 non-null  object \n",
      " 16  Island                       21117 non-null  object \n",
      " 17  Time Zone                    21117 non-null  object \n",
      " 18  Special Status               3123 non-null   object \n",
      " 19  Total Regencies              21759 non-null  int64  \n",
      " 20  Total Cities                 21145 non-null  float64\n",
      " 21  Total Districts              21759 non-null  int64  \n",
      " 22  Total Urban Villages         21142 non-null  float64\n",
      " 23  Total Rural Villages         21117 non-null  float64\n",
      " 24  Area (km2)                   21759 non-null  int64  \n",
      " 25  Population                   21759 non-null  int64  \n",
      " 26  Population Density           21759 non-null  float64\n",
      " 27  Longitude                    21759 non-null  float64\n",
      " 28  Latitude                     21759 non-null  float64\n",
      " 29  New Cases per Million        21759 non-null  float64\n",
      " 30  Total Cases per Million      21759 non-null  float64\n",
      " 31  New Deaths per Million       21759 non-null  float64\n",
      " 32  Total Deaths per Million     21759 non-null  float64\n",
      " 33  Total Deaths per 100rb       21759 non-null  float64\n",
      " 34  Case Fatality Rate           21759 non-null  object \n",
      " 35  Case Recovered Rate          21759 non-null  object \n",
      " 36  Growth Factor of New Cases   20572 non-null  float64\n",
      " 37  Growth Factor of New Deaths  19292 non-null  float64\n",
      "dtypes: float64(14), int64(12), object(12)\n",
      "memory usage: 6.3+ MB\n"
     ]
    }
   ],
   "source": [
    "data.info()"
   ]
  },
  {
   "cell_type": "code",
   "execution_count": 260,
   "metadata": {},
   "outputs": [
    {
     "name": "stdout",
     "output_type": "stream",
     "text": [
      "Kolom City or Regency memiliki null sejumlah 21759\n",
      "Kolom Province memiliki null sejumlah 642\n",
      "Kolom Island memiliki null sejumlah 642\n",
      "Kolom Time Zone memiliki null sejumlah 642\n",
      "Kolom Special Status memiliki null sejumlah 18636\n",
      "Kolom Total Cities memiliki null sejumlah 614\n",
      "Kolom Total Urban Villages memiliki null sejumlah 617\n",
      "Kolom Total Rural Villages memiliki null sejumlah 642\n",
      "Kolom Growth Factor of New Cases memiliki null sejumlah 1187\n",
      "Kolom Growth Factor of New Deaths memiliki null sejumlah 2467\n"
     ]
    }
   ],
   "source": [
    "for fitur in data.columns:\n",
    "    total_null = sum(data[fitur].isnull())\n",
    "    if total_null > 0:    \n",
    "        print(f'Kolom {fitur} memiliki null sejumlah {total_null}')"
   ]
  },
  {
   "cell_type": "markdown",
   "metadata": {},
   "source": [
    "Apabila kita perhatikan kolom fitur 'City or Regency' merupakan missing value untuk semua barisnya. Oleh karena itu kita remove kolom tersebut, sedangkan kolom lainnya meskipun memiliki null atau missing value hal tersebut tidak mempengaruhi perhitungan Central Tendency dan Variance. Kita juga akan remove kolom 'Date' dan 'Time Zone'."
   ]
  },
  {
   "cell_type": "code",
   "execution_count": 261,
   "metadata": {},
   "outputs": [],
   "source": [
    "del data['City or Regency']\n",
    "del data['Date']\n",
    "del data['Time Zone']"
   ]
  },
  {
   "cell_type": "markdown",
   "metadata": {},
   "source": [
    "Kita coba melihat distribusi dari masing-masing kolom fitur numerik sebagai berikut:"
   ]
  },
  {
   "cell_type": "code",
   "execution_count": 262,
   "metadata": {},
   "outputs": [
    {
     "data": {
      "image/png": "[encoded data removed]",
      "text/plain": [
       "<Figure size 432x288 with 1 Axes>"
      ]
     },
     "metadata": {
      "needs_background": "light"
     },
     "output_type": "display_data"
    },
    {
     "data": {
      "image/png": "[encoded data removed]",
      "text/plain": [
       "<Figure size 432x288 with 1 Axes>"
      ]
     },
     "metadata": {
      "needs_background": "light"
     },
     "output_type": "display_data"
    },
    {
     "data": {
      "image/png": "[encoded data removed]",
      "text/plain": [
       "<Figure size 432x288 with 1 Axes>"
      ]
     },
     "metadata": {
      "needs_background": "light"
     },
     "output_type": "display_data"
    },
    {
     "data": {
      "image/png": "[encoded data removed]",
      "text/plain": [
       "<Figure size 432x288 with 1 Axes>"
      ]
     },
     "metadata": {
      "needs_background": "light"
     },
     "output_type": "display_data"
    },
    {
     "data": {
      "image/png": "[encoded data removed]",
      "text/plain": [
       "<Figure size 432x288 with 1 Axes>"
      ]
     },
     "metadata": {
      "needs_background": "light"
     },
     "output_type": "display_data"
    },
    {
     "data": {
      "image/png": "[encoded data removed]",
      "text/plain": [
       "<Figure size 432x288 with 1 Axes>"
      ]
     },
     "metadata": {
      "needs_background": "light"
     },
     "output_type": "display_data"
    },
    {
     "data": {
      "image/png": "[encoded data removed]",
      "text/plain": [
       "<Figure size 432x288 with 1 Axes>"
      ]
     },
     "metadata": {
      "needs_background": "light"
     },
     "output_type": "display_data"
    },
    {
     "data": {
      "image/png": "[encoded data removed]",
      "text/plain": [
       "<Figure size 432x288 with 1 Axes>"
      ]
     },
     "metadata": {
      "needs_background": "light"
     },
     "output_type": "display_data"
    },
    {
     "data": {
      "image/png": "[encoded data removed]",
      "text/plain": [
       "<Figure size 432x288 with 1 Axes>"
      ]
     },
     "metadata": {
      "needs_background": "light"
     },
     "output_type": "display_data"
    },
    {
     "data": {
      "image/png": "[encoded data removed]",
      "text/plain": [
       "<Figure size 432x288 with 1 Axes>"
      ]
     },
     "metadata": {
      "needs_background": "light"
     },
     "output_type": "display_data"
    },
    {
     "data": {
      "image/png": "[encoded data removed]",
      "text/plain": [
       "<Figure size 432x288 with 1 Axes>"
      ]
     },
     "metadata": {
      "needs_background": "light"
     },
     "output_type": "display_data"
    },
    {
     "data": {
      "image/png": "[encoded data removed]",
      "text/plain": [
       "<Figure size 432x288 with 1 Axes>"
      ]
     },
     "metadata": {
      "needs_background": "light"
     },
     "output_type": "display_data"
    },
    {
     "data": {
      "image/png": "[encoded data removed]",
      "text/plain": [
       "<Figure size 432x288 with 1 Axes>"
      ]
     },
     "metadata": {
      "needs_background": "light"
     },
     "output_type": "display_data"
    },
    {
     "data": {
      "image/png": "[encoded data removed]",
      "text/plain": [
       "<Figure size 432x288 with 1 Axes>"
      ]
     },
     "metadata": {
      "needs_background": "light"
     },
     "output_type": "display_data"
    },
    {
     "data": {
      "image/png": "[encoded data removed]",
      "text/plain": [
       "<Figure size 432x288 with 1 Axes>"
      ]
     },
     "metadata": {
      "needs_background": "light"
     },
     "output_type": "display_data"
    },
    {
     "data": {
      "image/png": "[encoded data removed]",
      "text/plain": [
       "<Figure size 432x288 with 1 Axes>"
      ]
     },
     "metadata": {
      "needs_background": "light"
     },
     "output_type": "display_data"
    },
    {
     "data": {
      "image/png": "[encoded data removed]",
      "text/plain": [
       "<Figure size 432x288 with 1 Axes>"
      ]
     },
     "metadata": {
      "needs_background": "light"
     },
     "output_type": "display_data"
    },
    {
     "data": {
      "image/png": "[encoded data removed]",
      "text/plain": [
       "<Figure size 432x288 with 1 Axes>"
      ]
     },
     "metadata": {
      "needs_background": "light"
     },
     "output_type": "display_data"
    },
    {
     "data": {
      "image/png": "[encoded data removed]",
      "text/plain": [
       "<Figure size 432x288 with 1 Axes>"
      ]
     },
     "metadata": {
      "needs_background": "light"
     },
     "output_type": "display_data"
    },
    {
     "data": {
      "image/png": "[encoded data removed]",
      "text/plain": [
       "<Figure size 432x288 with 1 Axes>"
      ]
     },
     "metadata": {
      "needs_background": "light"
     },
     "output_type": "display_data"
    },
    {
     "data": {
      "image/png": "[encoded data removed]",
      "text/plain": [
       "<Figure size 432x288 with 1 Axes>"
      ]
     },
     "metadata": {
      "needs_background": "light"
     },
     "output_type": "display_data"
    },
    {
     "data": {
      "image/png": "[encoded data removed]",
      "text/plain": [
       "<Figure size 432x288 with 1 Axes>"
      ]
     },
     "metadata": {
      "needs_background": "light"
     },
     "output_type": "display_data"
    },
    {
     "data": {
      "image/png": "[encoded data removed]",
      "text/plain": [
       "<Figure size 432x288 with 1 Axes>"
      ]
     },
     "metadata": {
      "needs_background": "light"
     },
     "output_type": "display_data"
    },
    {
     "data": {
      "image/png": "[encoded data removed]",
      "text/plain": [
       "<Figure size 432x288 with 1 Axes>"
      ]
     },
     "metadata": {
      "needs_background": "light"
     },
     "output_type": "display_data"
    },
    {
     "data": {
      "image/png": "[encoded data removed]",
      "text/plain": [
       "<Figure size 432x288 with 1 Axes>"
      ]
     },
     "metadata": {
      "needs_background": "light"
     },
     "output_type": "display_data"
    }
   ],
   "source": [
    "for fitur in data.describe().columns:\n",
    "    plt.hist(data[fitur],density=True)\n",
    "    plt.title(fitur)\n",
    "    plt.ylabel('Proportion')\n",
    "    plt.show()"
   ]
  },
  {
   "cell_type": "markdown",
   "metadata": {},
   "source": [
    "kebanyakan kolom fitur memiliki outlier dengan positive skew, sedangkan kolom fitur longitude dan latitude tidak.\n",
    "Misal pada contoh fitur kolom 'New Deaths per Million':"
   ]
  },
  {
   "cell_type": "code",
   "execution_count": 263,
   "metadata": {},
   "outputs": [
    {
     "data": {
      "image/png": "[encoded data removed]",
      "text/plain": [
       "<Figure size 432x288 with 1 Axes>"
      ]
     },
     "metadata": {
      "needs_background": "light"
     },
     "output_type": "display_data"
    }
   ],
   "source": [
    "plt.hist(data['New Deaths per Million'])\n",
    "plt.show()"
   ]
  },
  {
   "cell_type": "code",
   "execution_count": 264,
   "metadata": {},
   "outputs": [
    {
     "data": {
      "image/png": "[encoded data removed]",
      "text/plain": [
       "<Figure size 432x288 with 1 Axes>"
      ]
     },
     "metadata": {
      "needs_background": "light"
     },
     "output_type": "display_data"
    }
   ],
   "source": [
    "plt.boxplot(data['New Deaths per Million'])\n",
    "plt.show()"
   ]
  },
  {
   "cell_type": "markdown",
   "metadata": {},
   "source": [
    "Terdapat banyak outlier pada kolom 'New Deaths per Million'"
   ]
  },
  {
   "cell_type": "markdown",
   "metadata": {},
   "source": [
    "Untuk data yang positive skew tersebut kita akan gunakan **median** sebagai central tendency.\n",
    "\n",
    "Untuk data fitur kolom longitude dan latitude kita bisa gunakan **mean** sebagai central tendency.\n",
    "\n",
    "Untuk data fitur kolom non numerik kita gunakan **mode** sebagai central tendency."
   ]
  },
  {
   "cell_type": "markdown",
   "metadata": {},
   "source": [
    "Kita coba kelompokkan fitur kolom berdasarkan central tendency yang akan dicari."
   ]
  },
  {
   "cell_type": "code",
   "execution_count": 265,
   "metadata": {},
   "outputs": [],
   "source": [
    "feature = data.columns.tolist()\n",
    "feature_object = []\n",
    "for fitur in feature:\n",
    "    if data[fitur].dtype == 'object':\n",
    "        feature_object.append(fitur)\n",
    "feature_nonskew = ['Longitude','Latitude']\n",
    "feature_skew = [i for i in feature if (i not in feature_nonskew) & (i not in feature_object)]\n"
   ]
  },
  {
   "cell_type": "code",
   "execution_count": 266,
   "metadata": {},
   "outputs": [],
   "source": [
    "median_ = pd.DataFrame(data[feature_skew].median()).T"
   ]
  },
  {
   "cell_type": "code",
   "execution_count": 267,
   "metadata": {},
   "outputs": [],
   "source": [
    "mean_ = pd.DataFrame(data[feature_nonskew].mean()).T"
   ]
  },
  {
   "cell_type": "code",
   "execution_count": 268,
   "metadata": {},
   "outputs": [],
   "source": [
    "mode_ = pd.DataFrame(data[feature_object].dropna().mode())"
   ]
  },
  {
   "cell_type": "markdown",
   "metadata": {},
   "source": [
    "Kita jadikan semua central tendency tersebut ke dalam satu DataFrame"
   ]
  },
  {
   "cell_type": "code",
   "execution_count": 269,
   "metadata": {},
   "outputs": [
    {
     "data": {
      "text/html": [
       "<div>\n",
       "<style scoped>\n",
       "    .dataframe tbody tr th:only-of-type {\n",
       "        vertical-align: middle;\n",
       "    }\n",
       "\n",
       "    .dataframe tbody tr th {\n",
       "        vertical-align: top;\n",
       "    }\n",
       "\n",
       "    .dataframe thead th {\n",
       "        text-align: right;\n",
       "    }\n",
       "</style>\n",
       "<table border=\"1\" class=\"dataframe\">\n",
       "  <thead>\n",
       "    <tr style=\"text-align: right;\">\n",
       "      <th></th>\n",
       "      <th>Longitude</th>\n",
       "      <th>Latitude</th>\n",
       "      <th>New Cases</th>\n",
       "      <th>New Deaths</th>\n",
       "      <th>New Recovered</th>\n",
       "      <th>New Active Cases</th>\n",
       "      <th>Total Cases</th>\n",
       "      <th>Total Deaths</th>\n",
       "      <th>Total Recovered</th>\n",
       "      <th>Total Active Cases</th>\n",
       "      <th>...</th>\n",
       "      <th>Location ISO Code</th>\n",
       "      <th>Location</th>\n",
       "      <th>Location Level</th>\n",
       "      <th>Province</th>\n",
       "      <th>Country</th>\n",
       "      <th>Continent</th>\n",
       "      <th>Island</th>\n",
       "      <th>Special Status</th>\n",
       "      <th>Case Fatality Rate</th>\n",
       "      <th>Case Recovered Rate</th>\n",
       "    </tr>\n",
       "  </thead>\n",
       "  <tbody>\n",
       "    <tr>\n",
       "      <th>0</th>\n",
       "      <td>113.680803</td>\n",
       "      <td>-2.731868</td>\n",
       "      <td>41.0</td>\n",
       "      <td>1.0</td>\n",
       "      <td>31.0</td>\n",
       "      <td>0.0</td>\n",
       "      <td>10780.0</td>\n",
       "      <td>283.0</td>\n",
       "      <td>8745.0</td>\n",
       "      <td>919.0</td>\n",
       "      <td>...</td>\n",
       "      <td>ID-JK</td>\n",
       "      <td>DKI Jakarta</td>\n",
       "      <td>Province</td>\n",
       "      <td>DKI Jakarta</td>\n",
       "      <td>Indonesia</td>\n",
       "      <td>Asia</td>\n",
       "      <td>Jawa</td>\n",
       "      <td>Daerah Khusus</td>\n",
       "      <td>1.53%</td>\n",
       "      <td>0.00%</td>\n",
       "    </tr>\n",
       "  </tbody>\n",
       "</table>\n",
       "<p>1 rows × 35 columns</p>\n",
       "</div>"
      ],
      "text/plain": [
       "    Longitude  Latitude  New Cases  New Deaths  New Recovered  \\\n",
       "0  113.680803 -2.731868       41.0         1.0           31.0   \n",
       "\n",
       "   New Active Cases  Total Cases  Total Deaths  Total Recovered  \\\n",
       "0               0.0      10780.0         283.0           8745.0   \n",
       "\n",
       "   Total Active Cases  ...  Location ISO Code     Location  Location Level  \\\n",
       "0               919.0  ...              ID-JK  DKI Jakarta        Province   \n",
       "\n",
       "      Province    Country  Continent  Island  Special Status  \\\n",
       "0  DKI Jakarta  Indonesia       Asia    Jawa   Daerah Khusus   \n",
       "\n",
       "   Case Fatality Rate  Case Recovered Rate  \n",
       "0               1.53%                0.00%  \n",
       "\n",
       "[1 rows x 35 columns]"
      ]
     },
     "execution_count": 269,
     "metadata": {},
     "output_type": "execute_result"
    }
   ],
   "source": [
    "cent_tend = mean_.join([median_,mode_])\n",
    "cent_tend"
   ]
  },
  {
   "cell_type": "markdown",
   "metadata": {},
   "source": [
    "Berikutnya kita akan mencari variance pada firut kolom numerik."
   ]
  },
  {
   "cell_type": "code",
   "execution_count": 270,
   "metadata": {},
   "outputs": [
    {
     "name": "stderr",
     "output_type": "stream",
     "text": [
      "C:\\Users\\ikhbar\\AppData\\Local\\Temp\\ipykernel_18324\\487070711.py:1: FutureWarning: Dropping of nuisance columns in DataFrame reductions (with 'numeric_only=None') is deprecated; in a future version this will raise TypeError.  Select only valid columns before calling the reduction.\n",
      "  var_ = pd.DataFrame(data.var()).T\n"
     ]
    }
   ],
   "source": [
    "var_ = pd.DataFrame(data.var()).T"
   ]
  },
  {
   "cell_type": "markdown",
   "metadata": {},
   "source": [
    "## Kesimpulan"
   ]
  },
  {
   "cell_type": "markdown",
   "metadata": {},
   "source": [
    "Nilai central tendency dan variance dapat dilihat pada DataFrame berikut:"
   ]
  },
  {
   "cell_type": "code",
   "execution_count": 271,
   "metadata": {},
   "outputs": [
    {
     "data": {
      "text/html": [
       "<div>\n",
       "<style scoped>\n",
       "    .dataframe tbody tr th:only-of-type {\n",
       "        vertical-align: middle;\n",
       "    }\n",
       "\n",
       "    .dataframe tbody tr th {\n",
       "        vertical-align: top;\n",
       "    }\n",
       "\n",
       "    .dataframe thead th {\n",
       "        text-align: right;\n",
       "    }\n",
       "</style>\n",
       "<table border=\"1\" class=\"dataframe\">\n",
       "  <thead>\n",
       "    <tr style=\"text-align: right;\">\n",
       "      <th></th>\n",
       "      <th>Longitude</th>\n",
       "      <th>Latitude</th>\n",
       "      <th>New Cases</th>\n",
       "      <th>New Deaths</th>\n",
       "      <th>New Recovered</th>\n",
       "      <th>New Active Cases</th>\n",
       "      <th>Total Cases</th>\n",
       "      <th>Total Deaths</th>\n",
       "      <th>Total Recovered</th>\n",
       "      <th>Total Active Cases</th>\n",
       "      <th>...</th>\n",
       "      <th>Location ISO Code</th>\n",
       "      <th>Location</th>\n",
       "      <th>Location Level</th>\n",
       "      <th>Province</th>\n",
       "      <th>Country</th>\n",
       "      <th>Continent</th>\n",
       "      <th>Island</th>\n",
       "      <th>Special Status</th>\n",
       "      <th>Case Fatality Rate</th>\n",
       "      <th>Case Recovered Rate</th>\n",
       "    </tr>\n",
       "  </thead>\n",
       "  <tbody>\n",
       "    <tr>\n",
       "      <th>Central Tendency</th>\n",
       "      <td>113.680803</td>\n",
       "      <td>-2.731868</td>\n",
       "      <td>4.100000e+01</td>\n",
       "      <td>1.00000</td>\n",
       "      <td>3.100000e+01</td>\n",
       "      <td>0.000000</td>\n",
       "      <td>1.078000e+04</td>\n",
       "      <td>2.830000e+02</td>\n",
       "      <td>8.745000e+03</td>\n",
       "      <td>9.190000e+02</td>\n",
       "      <td>...</td>\n",
       "      <td>ID-JK</td>\n",
       "      <td>DKI Jakarta</td>\n",
       "      <td>Province</td>\n",
       "      <td>DKI Jakarta</td>\n",
       "      <td>Indonesia</td>\n",
       "      <td>Asia</td>\n",
       "      <td>Jawa</td>\n",
       "      <td>Daerah Khusus</td>\n",
       "      <td>1.53%</td>\n",
       "      <td>0.00%</td>\n",
       "    </tr>\n",
       "    <tr>\n",
       "      <th>Variance</th>\n",
       "      <td>97.172021</td>\n",
       "      <td>13.019572</td>\n",
       "      <td>4.303762e+06</td>\n",
       "      <td>5849.59072</td>\n",
       "      <td>3.996251e+06</td>\n",
       "      <td>878369.161606</td>\n",
       "      <td>1.358020e+11</td>\n",
       "      <td>1.386744e+08</td>\n",
       "      <td>1.158692e+11</td>\n",
       "      <td>7.572460e+08</td>\n",
       "      <td>...</td>\n",
       "      <td>NaN</td>\n",
       "      <td>NaN</td>\n",
       "      <td>NaN</td>\n",
       "      <td>NaN</td>\n",
       "      <td>NaN</td>\n",
       "      <td>NaN</td>\n",
       "      <td>NaN</td>\n",
       "      <td>NaN</td>\n",
       "      <td>NaN</td>\n",
       "      <td>NaN</td>\n",
       "    </tr>\n",
       "  </tbody>\n",
       "</table>\n",
       "<p>2 rows × 35 columns</p>\n",
       "</div>"
      ],
      "text/plain": [
       "                   Longitude   Latitude     New Cases  New Deaths  \\\n",
       "Central Tendency  113.680803  -2.731868  4.100000e+01     1.00000   \n",
       "Variance           97.172021  13.019572  4.303762e+06  5849.59072   \n",
       "\n",
       "                  New Recovered  New Active Cases   Total Cases  Total Deaths  \\\n",
       "Central Tendency   3.100000e+01          0.000000  1.078000e+04  2.830000e+02   \n",
       "Variance           3.996251e+06     878369.161606  1.358020e+11  1.386744e+08   \n",
       "\n",
       "                  Total Recovered  Total Active Cases  ...  Location ISO Code  \\\n",
       "Central Tendency     8.745000e+03        9.190000e+02  ...              ID-JK   \n",
       "Variance             1.158692e+11        7.572460e+08  ...                NaN   \n",
       "\n",
       "                     Location  Location Level     Province    Country  \\\n",
       "Central Tendency  DKI Jakarta        Province  DKI Jakarta  Indonesia   \n",
       "Variance                  NaN             NaN          NaN        NaN   \n",
       "\n",
       "                  Continent  Island  Special Status  Case Fatality Rate  \\\n",
       "Central Tendency       Asia    Jawa   Daerah Khusus               1.53%   \n",
       "Variance                NaN     NaN             NaN                 NaN   \n",
       "\n",
       "                  Case Recovered Rate  \n",
       "Central Tendency                0.00%  \n",
       "Variance                          NaN  \n",
       "\n",
       "[2 rows x 35 columns]"
      ]
     },
     "execution_count": 271,
     "metadata": {},
     "output_type": "execute_result"
    }
   ],
   "source": [
    "cent_var = pd.concat([cent_tend,var_]).set_index(pd.Index(['Central Tendency', 'Variance']))\n",
    "cent_var"
   ]
  },
  {
   "cell_type": "markdown",
   "metadata": {},
   "source": [
    "Note: *Terdapat missing value Nan pada baris Variance, dikarenakan kolom-kolom tersebut bukanlah data numerik.*"
   ]
  }
 ],
 "metadata": {
  "kernelspec": {
   "display_name": "Python 3.8.13 ('base')",
   "language": "python",
   "name": "python3"
  },
  "language_info": {
   "codemirror_mode": {
    "name": "ipython",
    "version": 3
   },
   "file_extension": ".py",
   "mimetype": "text/x-python",
   "name": "python",
   "nbconvert_exporter": "python",
   "pygments_lexer": "ipython3",
   "version": "3.8.13"
  },
  "orig_nbformat": 4,
  "vscode": {
   "interpreter": {
    "hash": "632d2d5b8a97db3f76bb862f926947aa7578c9985e2122ffe2fc4083542bd2e7"
   }
  }
 },
 "nbformat": 4,
 "nbformat_minor": 2
}
